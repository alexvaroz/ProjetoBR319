{
  "cells": [
    {
      "cell_type": "markdown",
      "metadata": {
        "id": "view-in-github",
        "colab_type": "text"
      },
      "source": [
        "<a href=\"https://colab.research.google.com/github/alexvaroz/ProjetoBR319/blob/master/Processamento_Vetores_Geo.ipynb\" target=\"_parent\"><img src=\"https://colab.research.google.com/assets/colab-badge.svg\" alt=\"Open In Colab\"/></a>"
      ]
    },
    {
      "cell_type": "markdown",
      "source": [
        "Este notebook tem o objetivo de concentrar os códigos desenvolvidos para a manipulação dos arquivos `shapefile` utilizados no projeto **\"Caracterização do uso e ocupação do solo na área de influência da BR-319\"**.\n",
        "\n",
        "Abaixo, algumas referências consultadas:\n",
        "\n",
        "https://towardsdatascience.com/looking-for-patterns-in-satellite-image-time-series-with-python-de097f4065d7\n",
        "\n",
        "https://towardsdatascience.com/automating-gis-and-remote-sensing-workflows-with-open-python-libraries-e71dd6b049ee\n",
        "\n",
        "https://towardsdatascience.com/reading-and-visualizing-geotiff-images-with-python-8dcca7a74510"
      ],
      "metadata": {
        "id": "FyBqGVbYMtwI"
      }
    },
    {
      "cell_type": "code",
      "execution_count": 1,
      "metadata": {
        "id": "AU40dPbsiy0J",
        "colab": {
          "base_uri": "https://localhost:8080/"
        },
        "outputId": "e6d4d93e-a16c-416b-dfe7-589729966de4"
      },
      "outputs": [
        {
          "output_type": "stream",
          "name": "stdout",
          "text": [
            "\u001b[K     |████████████████████████████████| 2.1 MB 3.8 MB/s \n",
            "\u001b[K     |████████████████████████████████| 1.3 MB 42.7 MB/s \n",
            "\u001b[K     |████████████████████████████████| 3.7 MB 43.8 MB/s \n",
            "\u001b[K     |████████████████████████████████| 3.5 MB 39.6 MB/s \n",
            "\u001b[K     |████████████████████████████████| 198 kB 49.4 MB/s \n",
            "\u001b[K     |████████████████████████████████| 46 kB 2.6 MB/s \n",
            "\u001b[K     |████████████████████████████████| 98 kB 7.0 MB/s \n",
            "\u001b[K     |████████████████████████████████| 130 kB 25.3 MB/s \n",
            "\u001b[K     |████████████████████████████████| 55 kB 2.9 MB/s \n",
            "\u001b[K     |████████████████████████████████| 99 kB 4.5 MB/s \n",
            "\u001b[K     |████████████████████████████████| 1.2 MB 43.1 MB/s \n",
            "\u001b[K     |████████████████████████████████| 128 kB 49.5 MB/s \n",
            "\u001b[K     |████████████████████████████████| 1.6 MB 22.4 MB/s \n",
            "\u001b[K     |████████████████████████████████| 79 kB 4.1 MB/s \n",
            "\u001b[?25h  Building wheel for ee-extra (setup.py) ... \u001b[?25l\u001b[?25hdone\n",
            "  Building wheel for sankee (setup.py) ... \u001b[?25l\u001b[?25hdone\n",
            "  Building wheel for pycrs (setup.py) ... \u001b[?25l\u001b[?25hdone\n",
            "\u001b[K     |████████████████████████████████| 1.1 MB 3.8 MB/s \n",
            "\u001b[K     |████████████████████████████████| 16.6 MB 53.6 MB/s \n",
            "\u001b[K     |████████████████████████████████| 7.8 MB 50.0 MB/s \n",
            "\u001b[K     |████████████████████████████████| 1.4 MB 4.1 MB/s \n",
            "\u001b[K     |████████████████████████████████| 20.9 MB 1.2 MB/s \n",
            "\u001b[K     |████████████████████████████████| 2.2 MB 4.2 MB/s \n",
            "\u001b[?25h"
          ]
        }
      ],
      "source": [
        "# Instalação das bibliotecas necessárias\n",
        "!pip install geemap -q\n",
        "!pip install earthengine-api -q\n",
        "!pip install geopandas -q\n",
        "!pip install earthpy -q \n",
        "!pip install pygeos -q"
      ]
    },
    {
      "cell_type": "code",
      "execution_count": null,
      "metadata": {
        "colab": {
          "base_uri": "https://localhost:8080/"
        },
        "id": "fh4INX83i_tD",
        "outputId": "5370908c-4269-4110-a80d-e2804de955e7"
      },
      "outputs": [
        {
          "output_type": "stream",
          "name": "stdout",
          "text": [
            "To authorize access needed by Earth Engine, open the following URL in a web browser and follow the instructions. If the web browser does not start automatically, please manually browse the URL below.\n",
            "\n",
            "    https://code.earthengine.google.com/client-auth?scopes=https%3A//www.googleapis.com/auth/earthengine%20https%3A//www.googleapis.com/auth/devstorage.full_control&request_id=9ghzcQ3ew5V0GEFm-3MVkPwUEnPnp16cRBdrapftC5c&tc=BFId1-n2_hd1GXdfL679t_UC6O-nqKjb_lRjhOpAXF4&cc=liLS4ODmYLln2_ncDcFv1ABmSceWni1hF5JdqRz_RvM\n",
            "\n",
            "The authorization workflow will generate a code, which you should paste in the box below.\n",
            "Enter verification code: 4/1AfgeXvvYbZP6mUCjZK4zt9fZnWjvxG7_W4PRkiogfNhAdp1UFBdK9HGd-iY\n",
            "\n",
            "Successfully saved authorization token.\n"
          ]
        }
      ],
      "source": [
        "# Integração com o google earth engine para utilização de arquivos\n",
        "# disponibilizados lá\n",
        "\n",
        "import ee\n",
        "\n",
        "ee.Authenticate()"
      ]
    },
    {
      "cell_type": "code",
      "execution_count": null,
      "metadata": {
        "id": "dlrjDWRnjN6R"
      },
      "outputs": [],
      "source": [
        "# Importação das bibliotecas\n",
        "import ee\n",
        "import pandas as pd\n",
        "import numpy as np\n",
        "import geopandas as gpd\n",
        "import pygeos\n",
        "import geemap\n",
        "from rasterio.mask import mask\n",
        "import rasterio\n",
        "from rasterio.plot import show\n",
        "from rasterio.plot import show_hist\n",
        "from fiona.crs import from_epsg\n",
        "import pycrs\n",
        "\n",
        "ee.Initialize()"
      ]
    },
    {
      "cell_type": "code",
      "source": [
        "# Carregamento dos ativos disponíveis no ambiente google earth engine\n",
        "\n",
        "buffer50 = ee.FeatureCollection('projects/ee-alexandrepy/assets/buffer50')\n",
        "alap = ee.FeatureCollection('projects/ee-alexandrepy/assets/alap_319')\n",
        "tis = ee.FeatureCollection('projects/ee-alexandrepy/assets/MAPBIOMAS/indigenous_area_legal_amazon')\n",
        "ucs = ee.FeatureCollection('projects/ee-alexandrepy/assets/conservation_units_legal_amazon')\n",
        "assAM = ee.FeatureCollection('projects/ee-alexandrepy/assets/AssentamentoFederal_AM')\n",
        "assRO = ee.FeatureCollection('projects/ee-alexandrepy/assets/AssentamentoFederal_RO')\n",
        "municipios = gpd.read_file('/content/drive/MyDrive/MAPBIOMAS-EXPORT/municipalities_legal_amazon.zip')"
      ],
      "metadata": {
        "id": "jI1NUd6bBA_t"
      },
      "execution_count": null,
      "outputs": []
    },
    {
      "cell_type": "code",
      "source": [
        "# Transformação dos shapefiles em GeoDataFrame para operação com o Geopandas\n",
        "buffer50_pd = geemap.ee_to_geopandas(buffer50)\n",
        "alap_pd = geemap.ee_to_geopandas(alap)\n",
        "tis_pd = geemap.ee_to_geopandas(tis)\n",
        "ucs_pd = geemap.ee_to_geopandas(ucs)\n",
        "assAM_pd = geemap.ee_to_geopandas(assAM)\n",
        "assRO_pd = geemap.ee_to_geopandas(assRO)"
      ],
      "metadata": {
        "id": "Hc-ctT7GCU6Z"
      },
      "execution_count": null,
      "outputs": []
    },
    {
      "cell_type": "code",
      "source": [
        "# Definição do CRS para a operação de recorte (clipagem)\n",
        "ucs_pd_crs_4674 = ucs_pd.set_crs({'init': 'epsg:4674'})\n",
        "alap_pd_crs_4674 = alap_pd.set_crs({'init': 'epsg:4674'})"
      ],
      "metadata": {
        "colab": {
          "base_uri": "https://localhost:8080/"
        },
        "id": "JqRk4obXlUXU",
        "outputId": "cc70ddfb-f3e5-4180-b19e-1ebe49f686b4"
      },
      "execution_count": null,
      "outputs": [
        {
          "output_type": "stream",
          "name": "stderr",
          "text": [
            "/usr/local/lib/python3.7/dist-packages/pyproj/crs/crs.py:131: FutureWarning: '+init=<authority>:<code>' syntax is deprecated. '<authority>:<code>' is the preferred initialization method. When making the change, be mindful of axis order changes: https://pyproj4.github.io/pyproj/stable/gotchas.html#axis-order-changes-in-proj-6\n",
            "  in_crs_string = _prepare_from_proj_string(in_crs_string)\n",
            "/usr/local/lib/python3.7/dist-packages/pyproj/crs/crs.py:131: FutureWarning: '+init=<authority>:<code>' syntax is deprecated. '<authority>:<code>' is the preferred initialization method. When making the change, be mindful of axis order changes: https://pyproj4.github.io/pyproj/stable/gotchas.html#axis-order-changes-in-proj-6\n",
            "  in_crs_string = _prepare_from_proj_string(in_crs_string)\n"
          ]
        }
      ]
    },
    {
      "cell_type": "code",
      "source": [
        "ucs_cliped_alap_crs_4674 = gpd.clip(ucs_pd_crs_4674, alap_pd_crs_4674)"
      ],
      "metadata": {
        "id": "yw23PCjol5Vf"
      },
      "execution_count": null,
      "outputs": []
    },
    {
      "cell_type": "code",
      "source": [
        "result_crs_4674 = pd.read_csv('/content/zonal_stats_by_group.csv')"
      ],
      "metadata": {
        "id": "Wt2g_vv0m_eM"
      },
      "execution_count": null,
      "outputs": []
    },
    {
      "cell_type": "code",
      "source": [
        "result_crs_4674.columns"
      ],
      "metadata": {
        "colab": {
          "base_uri": "https://localhost:8080/",
          "height": 166
        },
        "id": "dc4EVsWenHzs",
        "outputId": "61f1ad2e-4f6b-46ac-a7cf-07737cdc5644"
      },
      "execution_count": null,
      "outputs": [
        {
          "output_type": "error",
          "ename": "NameError",
          "evalue": "ignored",
          "traceback": [
            "\u001b[0;31m---------------------------------------------------------------------------\u001b[0m",
            "\u001b[0;31mNameError\u001b[0m                                 Traceback (most recent call last)",
            "\u001b[0;32m<ipython-input-1-f33fc400ae64>\u001b[0m in \u001b[0;36m<module>\u001b[0;34m\u001b[0m\n\u001b[0;32m----> 1\u001b[0;31m \u001b[0mresult_crs_4674\u001b[0m\u001b[0;34m.\u001b[0m\u001b[0mcolumns\u001b[0m\u001b[0;34m\u001b[0m\u001b[0;34m\u001b[0m\u001b[0m\n\u001b[0m",
            "\u001b[0;31mNameError\u001b[0m: name 'result_crs_4674' is not defined"
          ]
        }
      ]
    },
    {
      "cell_type": "code",
      "source": [
        "result_crs_4674.Class_1.values + result_crs_4674.Class_49.values "
      ],
      "metadata": {
        "colab": {
          "base_uri": "https://localhost:8080/",
          "height": 287
        },
        "id": "k79AmI-9nOV9",
        "outputId": "53902845-e620-4f1e-e49c-a54d7a975f3a"
      },
      "execution_count": null,
      "outputs": [
        {
          "output_type": "error",
          "ename": "AttributeError",
          "evalue": "ignored",
          "traceback": [
            "\u001b[0;31m---------------------------------------------------------------------------\u001b[0m",
            "\u001b[0;31mAttributeError\u001b[0m                            Traceback (most recent call last)",
            "\u001b[0;32m<ipython-input-166-0532bf67f146>\u001b[0m in \u001b[0;36m<module>\u001b[0;34m\u001b[0m\n\u001b[0;32m----> 1\u001b[0;31m \u001b[0mresult_crs_4674\u001b[0m\u001b[0;34m.\u001b[0m\u001b[0mClass_1\u001b[0m\u001b[0;34m.\u001b[0m\u001b[0mvalues\u001b[0m \u001b[0;34m+\u001b[0m \u001b[0mresult_crs_4674\u001b[0m\u001b[0;34m.\u001b[0m\u001b[0mClass_49\u001b[0m\u001b[0;34m.\u001b[0m\u001b[0mvalues\u001b[0m\u001b[0;34m\u001b[0m\u001b[0;34m\u001b[0m\u001b[0m\n\u001b[0m",
            "\u001b[0;32m/usr/local/lib/python3.7/dist-packages/pandas/core/generic.py\u001b[0m in \u001b[0;36m__getattr__\u001b[0;34m(self, name)\u001b[0m\n\u001b[1;32m   5485\u001b[0m         ):\n\u001b[1;32m   5486\u001b[0m             \u001b[0;32mreturn\u001b[0m \u001b[0mself\u001b[0m\u001b[0;34m[\u001b[0m\u001b[0mname\u001b[0m\u001b[0;34m]\u001b[0m\u001b[0;34m\u001b[0m\u001b[0;34m\u001b[0m\u001b[0m\n\u001b[0;32m-> 5487\u001b[0;31m         \u001b[0;32mreturn\u001b[0m \u001b[0mobject\u001b[0m\u001b[0;34m.\u001b[0m\u001b[0m__getattribute__\u001b[0m\u001b[0;34m(\u001b[0m\u001b[0mself\u001b[0m\u001b[0;34m,\u001b[0m \u001b[0mname\u001b[0m\u001b[0;34m)\u001b[0m\u001b[0;34m\u001b[0m\u001b[0;34m\u001b[0m\u001b[0m\n\u001b[0m\u001b[1;32m   5488\u001b[0m \u001b[0;34m\u001b[0m\u001b[0m\n\u001b[1;32m   5489\u001b[0m     \u001b[0;32mdef\u001b[0m \u001b[0m__setattr__\u001b[0m\u001b[0;34m(\u001b[0m\u001b[0mself\u001b[0m\u001b[0;34m,\u001b[0m \u001b[0mname\u001b[0m\u001b[0;34m:\u001b[0m \u001b[0mstr\u001b[0m\u001b[0;34m,\u001b[0m \u001b[0mvalue\u001b[0m\u001b[0;34m)\u001b[0m \u001b[0;34m->\u001b[0m \u001b[0;32mNone\u001b[0m\u001b[0;34m:\u001b[0m\u001b[0;34m\u001b[0m\u001b[0;34m\u001b[0m\u001b[0m\n",
            "\u001b[0;31mAttributeError\u001b[0m: 'DataFrame' object has no attribute 'Class_49'"
          ]
        }
      ]
    },
    {
      "cell_type": "code",
      "source": [
        "tis_cliped_alap = gpd.clip(tis_pd, alap_pd)"
      ],
      "metadata": {
        "id": "09OHFj4fbBDs"
      },
      "execution_count": null,
      "outputs": []
    },
    {
      "cell_type": "code",
      "source": [
        "tis_cliped_alap = gpd.clip(tis_pd, alap_pd)\n",
        "ucs_cliped_alap = gpd.clip(ucs_pd, alap_pd)\n",
        "assAM_cliped_alap = gpd.clip(assAM_pd, alap_pd)\n",
        "assRO_cliped_alap = gpd.clip(assRO_pd, alap_pd)\n",
        "municipios_alap = gpd.clip(municipios, alap_pd)\n",
        "\n",
        "tis_cliped_buffer = gpd.clip(tis_pd, buffer50_pd)\n",
        "ucs_cliped_buffer = gpd.clip(ucs_pd, buffer50_pd)\n",
        "assAM_cliped_buffer = gpd.clip(assAM_pd, buffer50_pd)\n",
        "assRO_cliped_buffer = gpd.clip(assRO_pd, buffer50_pd)\n",
        "municipios_buffer = gpd.clip(municipios, buffer50_pd)"
      ],
      "metadata": {
        "colab": {
          "base_uri": "https://localhost:8080/"
        },
        "id": "0NNgANI3BJKS",
        "outputId": "9cbff601-711e-47a3-d48a-64f9b7e8a824"
      },
      "execution_count": null,
      "outputs": [
        {
          "output_type": "stream",
          "name": "stderr",
          "text": [
            "/usr/local/lib/python3.7/dist-packages/ipykernel_launcher.py:5: UserWarning: CRS mismatch between the CRS of left geometries and the CRS of right geometries.\n",
            "Use `to_crs()` to reproject one of the input geometries to match the CRS of the other.\n",
            "\n",
            "Left CRS: EPSG:4674\n",
            "Right CRS: None\n",
            "\n",
            "  \"\"\"\n",
            "/usr/local/lib/python3.7/dist-packages/ipykernel_launcher.py:11: UserWarning: CRS mismatch between the CRS of left geometries and the CRS of right geometries.\n",
            "Use `to_crs()` to reproject one of the input geometries to match the CRS of the other.\n",
            "\n",
            "Left CRS: EPSG:4674\n",
            "Right CRS: None\n",
            "\n",
            "  # This is added back by InteractiveShellApp.init_path()\n"
          ]
        }
      ]
    },
    {
      "cell_type": "code",
      "source": [
        "raster_alap = 'projects/ee-alexandrepy/assets/ALAP319-2021'"
      ],
      "metadata": {
        "id": "NRRQ27oPKvIS"
      },
      "execution_count": null,
      "outputs": []
    },
    {
      "cell_type": "code",
      "source": [
        "dataset = ee.Image(raster_alap)"
      ],
      "metadata": {
        "id": "UqjjzsqIjU4-"
      },
      "execution_count": null,
      "outputs": []
    },
    {
      "cell_type": "code",
      "source": [],
      "metadata": {
        "colab": {
          "base_uri": "https://localhost:8080/",
          "height": 166
        },
        "id": "6L428-dfix4o",
        "outputId": "5b03096d-6a56-4f82-f708-fbc90e022946"
      },
      "execution_count": null,
      "outputs": [
        {
          "output_type": "error",
          "ename": "AttributeError",
          "evalue": "ignored",
          "traceback": [
            "\u001b[0;31m---------------------------------------------------------------------------\u001b[0m",
            "\u001b[0;31mAttributeError\u001b[0m                            Traceback (most recent call last)",
            "\u001b[0;32m<ipython-input-127-f42bdebdfe68>\u001b[0m in \u001b[0;36m<module>\u001b[0;34m\u001b[0m\n\u001b[0;32m----> 1\u001b[0;31m \u001b[0mprint\u001b[0m\u001b[0;34m(\u001b[0m\u001b[0mdataset\u001b[0m\u001b[0;34m.\u001b[0m\u001b[0mcrs\u001b[0m\u001b[0;34m(\u001b[0m\u001b[0;34m)\u001b[0m\u001b[0;34m)\u001b[0m\u001b[0;34m\u001b[0m\u001b[0;34m\u001b[0m\u001b[0m\n\u001b[0m",
            "\u001b[0;31mAttributeError\u001b[0m: 'Image' object has no attribute 'crs'"
          ]
        }
      ]
    },
    {
      "cell_type": "code",
      "source": [
        "dataset = ee.Image(raster_alap)\n",
        "landcover = ee.Image(dataset.select('b1'))"
      ],
      "metadata": {
        "id": "CNtz2clcTQnY"
      },
      "execution_count": null,
      "outputs": []
    },
    {
      "cell_type": "code",
      "source": [
        "dataset = ee.Image(raster_alap)\n",
        "landcover = ee.Image(dataset.select('b1'))\n",
        "ucs_cliped_alap.set_crs(epsg = \"4674\", inplace = True)\n",
        "mun_alap = geemap.geopandas_to_ee(ucs_cliped_alap)\n",
        "\n",
        "result_zonal = geemap.zonal_statistics_by_group(\n",
        "    landcover,\n",
        "    mun_alap,\n",
        "    statistics_type='SUM',\n",
        "    denominator=1000000,\n",
        "    decimal_places=2,\n",
        ")"
      ],
      "metadata": {
        "colab": {
          "base_uri": "https://localhost:8080/"
        },
        "id": "lhfFXrxgOJlk",
        "outputId": "5f269bda-703e-4886-c947-c48ce6d21204"
      },
      "execution_count": null,
      "outputs": [
        {
          "output_type": "stream",
          "name": "stdout",
          "text": [
            "Computing ... \n",
            "Generating URL ...\n",
            "Downloading data from https://earthengine.googleapis.com/v1alpha/projects/earthengine-legacy/tables/a4919af82b76e575ddddc5010b5746a1-48c7629eee7703c644cad88c5e2f34dd:getFeatures\n",
            "Please wait ...\n",
            "Data downloaded to /content/zonal_stats_by_group.csv\n"
          ]
        }
      ]
    },
    {
      "cell_type": "code",
      "source": [
        "df = pd.read_csv('/content/zonal_stats_by_group.csv')"
      ],
      "metadata": {
        "id": "9HK0oqtdUPWN"
      },
      "execution_count": null,
      "outputs": []
    },
    {
      "cell_type": "code",
      "source": [
        "df.head()"
      ],
      "metadata": {
        "colab": {
          "base_uri": "https://localhost:8080/",
          "height": 560
        },
        "id": "2Kj_DU2pD2-L",
        "outputId": "bf8e3a31-b0a3-4629-a8aa-089bb2d40bb1"
      },
      "execution_count": null,
      "outputs": [
        {
          "output_type": "execute_result",
          "data": {
            "text/plain": [
              "   Class_30  Class_31  Class_10  Class_32  Class_11  Class_33  Class_sum  \\\n",
              "0       0.0      0.00      0.19      0.00      0.05       0.0       3.56   \n",
              "1       0.0      0.00      3.07      0.00      2.72       0.0     866.08   \n",
              "2       0.0      0.00      3.94      0.00      5.04       0.0     170.19   \n",
              "3       0.8      0.62     80.72      0.88    101.02       0.8   10532.01   \n",
              "4       0.0      0.00      0.00      0.00      0.00       0.0      12.96   \n",
              "\n",
              "   Class_8  Class_12  Class_34  ...  Class_27  Class_28  Class_29  \\\n",
              "0     0.15      0.00      0.00  ...      0.07      0.00      0.00   \n",
              "1     2.85      2.00      0.00  ...      0.05      0.00      0.00   \n",
              "2     1.48     22.16      0.00  ...      0.00      0.00      0.03   \n",
              "3    66.92    256.78      0.35  ...      1.24      0.97      0.97   \n",
              "4     0.03      0.05      0.00  ...      0.00      0.00      0.00   \n",
              "\n",
              "   system:index    esfera  ano_cria          categoria  grupo  \\\n",
              "0             0  estadual      1990  Estação Ecológica     PI   \n",
              "1             1   federal      2008           Floresta     US   \n",
              "2             2   federal      2001  Estação Ecológica     PI   \n",
              "3             3   federal      2008             Parque     PI   \n",
              "4             4  estadual      1996           Floresta     US   \n",
              "\n",
              "                                                nome    id  \n",
              "0            ESTAÇÃO ECOLÓGICA SERRA DOS TRÊS IRMÃOS  1429  \n",
              "1                        FLORESTA NACIONAL DO IQUIRI  1594  \n",
              "2                         ESTAÇÃO ECOLÓGICA DE CUNIÃ  1458  \n",
              "3                         PARQUE NACIONAL MAPINGUARI  1190  \n",
              "4  FLORESTA ESTADUAL DE RENDIMENTO SUSTENTADO DO ...   217  \n",
              "\n",
              "[5 rows x 50 columns]"
            ],
            "text/html": [
              "\n",
              "  <div id=\"df-61591bac-0f59-47b9-ab41-34b5efbfb8a3\">\n",
              "    <div class=\"colab-df-container\">\n",
              "      <div>\n",
              "<style scoped>\n",
              "    .dataframe tbody tr th:only-of-type {\n",
              "        vertical-align: middle;\n",
              "    }\n",
              "\n",
              "    .dataframe tbody tr th {\n",
              "        vertical-align: top;\n",
              "    }\n",
              "\n",
              "    .dataframe thead th {\n",
              "        text-align: right;\n",
              "    }\n",
              "</style>\n",
              "<table border=\"1\" class=\"dataframe\">\n",
              "  <thead>\n",
              "    <tr style=\"text-align: right;\">\n",
              "      <th></th>\n",
              "      <th>Class_30</th>\n",
              "      <th>Class_31</th>\n",
              "      <th>Class_10</th>\n",
              "      <th>Class_32</th>\n",
              "      <th>Class_11</th>\n",
              "      <th>Class_33</th>\n",
              "      <th>Class_sum</th>\n",
              "      <th>Class_8</th>\n",
              "      <th>Class_12</th>\n",
              "      <th>Class_34</th>\n",
              "      <th>...</th>\n",
              "      <th>Class_27</th>\n",
              "      <th>Class_28</th>\n",
              "      <th>Class_29</th>\n",
              "      <th>system:index</th>\n",
              "      <th>esfera</th>\n",
              "      <th>ano_cria</th>\n",
              "      <th>categoria</th>\n",
              "      <th>grupo</th>\n",
              "      <th>nome</th>\n",
              "      <th>id</th>\n",
              "    </tr>\n",
              "  </thead>\n",
              "  <tbody>\n",
              "    <tr>\n",
              "      <th>0</th>\n",
              "      <td>0.0</td>\n",
              "      <td>0.00</td>\n",
              "      <td>0.19</td>\n",
              "      <td>0.00</td>\n",
              "      <td>0.05</td>\n",
              "      <td>0.0</td>\n",
              "      <td>3.56</td>\n",
              "      <td>0.15</td>\n",
              "      <td>0.00</td>\n",
              "      <td>0.00</td>\n",
              "      <td>...</td>\n",
              "      <td>0.07</td>\n",
              "      <td>0.00</td>\n",
              "      <td>0.00</td>\n",
              "      <td>0</td>\n",
              "      <td>estadual</td>\n",
              "      <td>1990</td>\n",
              "      <td>Estação Ecológica</td>\n",
              "      <td>PI</td>\n",
              "      <td>ESTAÇÃO ECOLÓGICA SERRA DOS TRÊS IRMÃOS</td>\n",
              "      <td>1429</td>\n",
              "    </tr>\n",
              "    <tr>\n",
              "      <th>1</th>\n",
              "      <td>0.0</td>\n",
              "      <td>0.00</td>\n",
              "      <td>3.07</td>\n",
              "      <td>0.00</td>\n",
              "      <td>2.72</td>\n",
              "      <td>0.0</td>\n",
              "      <td>866.08</td>\n",
              "      <td>2.85</td>\n",
              "      <td>2.00</td>\n",
              "      <td>0.00</td>\n",
              "      <td>...</td>\n",
              "      <td>0.05</td>\n",
              "      <td>0.00</td>\n",
              "      <td>0.00</td>\n",
              "      <td>1</td>\n",
              "      <td>federal</td>\n",
              "      <td>2008</td>\n",
              "      <td>Floresta</td>\n",
              "      <td>US</td>\n",
              "      <td>FLORESTA NACIONAL DO IQUIRI</td>\n",
              "      <td>1594</td>\n",
              "    </tr>\n",
              "    <tr>\n",
              "      <th>2</th>\n",
              "      <td>0.0</td>\n",
              "      <td>0.00</td>\n",
              "      <td>3.94</td>\n",
              "      <td>0.00</td>\n",
              "      <td>5.04</td>\n",
              "      <td>0.0</td>\n",
              "      <td>170.19</td>\n",
              "      <td>1.48</td>\n",
              "      <td>22.16</td>\n",
              "      <td>0.00</td>\n",
              "      <td>...</td>\n",
              "      <td>0.00</td>\n",
              "      <td>0.00</td>\n",
              "      <td>0.03</td>\n",
              "      <td>2</td>\n",
              "      <td>federal</td>\n",
              "      <td>2001</td>\n",
              "      <td>Estação Ecológica</td>\n",
              "      <td>PI</td>\n",
              "      <td>ESTAÇÃO ECOLÓGICA DE CUNIÃ</td>\n",
              "      <td>1458</td>\n",
              "    </tr>\n",
              "    <tr>\n",
              "      <th>3</th>\n",
              "      <td>0.8</td>\n",
              "      <td>0.62</td>\n",
              "      <td>80.72</td>\n",
              "      <td>0.88</td>\n",
              "      <td>101.02</td>\n",
              "      <td>0.8</td>\n",
              "      <td>10532.01</td>\n",
              "      <td>66.92</td>\n",
              "      <td>256.78</td>\n",
              "      <td>0.35</td>\n",
              "      <td>...</td>\n",
              "      <td>1.24</td>\n",
              "      <td>0.97</td>\n",
              "      <td>0.97</td>\n",
              "      <td>3</td>\n",
              "      <td>federal</td>\n",
              "      <td>2008</td>\n",
              "      <td>Parque</td>\n",
              "      <td>PI</td>\n",
              "      <td>PARQUE NACIONAL MAPINGUARI</td>\n",
              "      <td>1190</td>\n",
              "    </tr>\n",
              "    <tr>\n",
              "      <th>4</th>\n",
              "      <td>0.0</td>\n",
              "      <td>0.00</td>\n",
              "      <td>0.00</td>\n",
              "      <td>0.00</td>\n",
              "      <td>0.00</td>\n",
              "      <td>0.0</td>\n",
              "      <td>12.96</td>\n",
              "      <td>0.03</td>\n",
              "      <td>0.05</td>\n",
              "      <td>0.00</td>\n",
              "      <td>...</td>\n",
              "      <td>0.00</td>\n",
              "      <td>0.00</td>\n",
              "      <td>0.00</td>\n",
              "      <td>4</td>\n",
              "      <td>estadual</td>\n",
              "      <td>1996</td>\n",
              "      <td>Floresta</td>\n",
              "      <td>US</td>\n",
              "      <td>FLORESTA ESTADUAL DE RENDIMENTO SUSTENTADO DO ...</td>\n",
              "      <td>217</td>\n",
              "    </tr>\n",
              "  </tbody>\n",
              "</table>\n",
              "<p>5 rows × 50 columns</p>\n",
              "</div>\n",
              "      <button class=\"colab-df-convert\" onclick=\"convertToInteractive('df-61591bac-0f59-47b9-ab41-34b5efbfb8a3')\"\n",
              "              title=\"Convert this dataframe to an interactive table.\"\n",
              "              style=\"display:none;\">\n",
              "        \n",
              "  <svg xmlns=\"http://www.w3.org/2000/svg\" height=\"24px\"viewBox=\"0 0 24 24\"\n",
              "       width=\"24px\">\n",
              "    <path d=\"M0 0h24v24H0V0z\" fill=\"none\"/>\n",
              "    <path d=\"M18.56 5.44l.94 2.06.94-2.06 2.06-.94-2.06-.94-.94-2.06-.94 2.06-2.06.94zm-11 1L8.5 8.5l.94-2.06 2.06-.94-2.06-.94L8.5 2.5l-.94 2.06-2.06.94zm10 10l.94 2.06.94-2.06 2.06-.94-2.06-.94-.94-2.06-.94 2.06-2.06.94z\"/><path d=\"M17.41 7.96l-1.37-1.37c-.4-.4-.92-.59-1.43-.59-.52 0-1.04.2-1.43.59L10.3 9.45l-7.72 7.72c-.78.78-.78 2.05 0 2.83L4 21.41c.39.39.9.59 1.41.59.51 0 1.02-.2 1.41-.59l7.78-7.78 2.81-2.81c.8-.78.8-2.07 0-2.86zM5.41 20L4 18.59l7.72-7.72 1.47 1.35L5.41 20z\"/>\n",
              "  </svg>\n",
              "      </button>\n",
              "      \n",
              "  <style>\n",
              "    .colab-df-container {\n",
              "      display:flex;\n",
              "      flex-wrap:wrap;\n",
              "      gap: 12px;\n",
              "    }\n",
              "\n",
              "    .colab-df-convert {\n",
              "      background-color: #E8F0FE;\n",
              "      border: none;\n",
              "      border-radius: 50%;\n",
              "      cursor: pointer;\n",
              "      display: none;\n",
              "      fill: #1967D2;\n",
              "      height: 32px;\n",
              "      padding: 0 0 0 0;\n",
              "      width: 32px;\n",
              "    }\n",
              "\n",
              "    .colab-df-convert:hover {\n",
              "      background-color: #E2EBFA;\n",
              "      box-shadow: 0px 1px 2px rgba(60, 64, 67, 0.3), 0px 1px 3px 1px rgba(60, 64, 67, 0.15);\n",
              "      fill: #174EA6;\n",
              "    }\n",
              "\n",
              "    [theme=dark] .colab-df-convert {\n",
              "      background-color: #3B4455;\n",
              "      fill: #D2E3FC;\n",
              "    }\n",
              "\n",
              "    [theme=dark] .colab-df-convert:hover {\n",
              "      background-color: #434B5C;\n",
              "      box-shadow: 0px 1px 3px 1px rgba(0, 0, 0, 0.15);\n",
              "      filter: drop-shadow(0px 1px 2px rgba(0, 0, 0, 0.3));\n",
              "      fill: #FFFFFF;\n",
              "    }\n",
              "  </style>\n",
              "\n",
              "      <script>\n",
              "        const buttonEl =\n",
              "          document.querySelector('#df-61591bac-0f59-47b9-ab41-34b5efbfb8a3 button.colab-df-convert');\n",
              "        buttonEl.style.display =\n",
              "          google.colab.kernel.accessAllowed ? 'block' : 'none';\n",
              "\n",
              "        async function convertToInteractive(key) {\n",
              "          const element = document.querySelector('#df-61591bac-0f59-47b9-ab41-34b5efbfb8a3');\n",
              "          const dataTable =\n",
              "            await google.colab.kernel.invokeFunction('convertToInteractive',\n",
              "                                                     [key], {});\n",
              "          if (!dataTable) return;\n",
              "\n",
              "          const docLinkHtml = 'Like what you see? Visit the ' +\n",
              "            '<a target=\"_blank\" href=https://colab.research.google.com/notebooks/data_table.ipynb>data table notebook</a>'\n",
              "            + ' to learn more about interactive tables.';\n",
              "          element.innerHTML = '';\n",
              "          dataTable['output_type'] = 'display_data';\n",
              "          await google.colab.output.renderOutput(dataTable, element);\n",
              "          const docLink = document.createElement('div');\n",
              "          docLink.innerHTML = docLinkHtml;\n",
              "          element.appendChild(docLink);\n",
              "        }\n",
              "      </script>\n",
              "    </div>\n",
              "  </div>\n",
              "  "
            ]
          },
          "metadata": {},
          "execution_count": 108
        }
      ]
    },
    {
      "cell_type": "code",
      "source": [
        "df.Class_24.sum()"
      ],
      "metadata": {
        "colab": {
          "base_uri": "https://localhost:8080/"
        },
        "id": "_rQinvtmU3b1",
        "outputId": "e5f21697-e406-4338-dbff-7aa7fac85903"
      },
      "execution_count": null,
      "outputs": [
        {
          "output_type": "execute_result",
          "data": {
            "text/plain": [
              "54.019999999999996"
            ]
          },
          "metadata": {},
          "execution_count": 111
        }
      ]
    },
    {
      "cell_type": "code",
      "source": [
        "df.drop(columns=['system:index', 'esfera', 'ano_cria', 'categoria', 'grupo',\n",
        "       'nome', 'Class_sum'], inplace=True)"
      ],
      "metadata": {
        "id": "FZLOCkqIFucL"
      },
      "execution_count": null,
      "outputs": []
    },
    {
      "cell_type": "code",
      "source": [
        "df.head()"
      ],
      "metadata": {
        "colab": {
          "base_uri": "https://localhost:8080/",
          "height": 299
        },
        "id": "Ae2ZTT2WVsn4",
        "outputId": "a70b583c-0611-4f74-f088-7144aa137b87"
      },
      "execution_count": null,
      "outputs": [
        {
          "output_type": "execute_result",
          "data": {
            "text/plain": [
              "   Class_30  Class_31  Class_10  Class_32  Class_11  Class_33  Class_8  \\\n",
              "0       0.0      0.00      0.19      0.00      0.05       0.0     0.15   \n",
              "1       0.0      0.00      3.07      0.00      2.72       0.0     2.85   \n",
              "2       0.0      0.00      3.94      0.00      5.04       0.0     1.48   \n",
              "3       0.8      0.62     80.72      0.88    101.02       0.8    66.92   \n",
              "4       0.0      0.00      0.00      0.00      0.00       0.0     0.03   \n",
              "\n",
              "   Class_12  Class_34  Class_7  ...  Class_21  Class_22  Class_23  Class_24  \\\n",
              "0      0.00      0.00     0.14  ...      0.00      0.00      0.00      0.00   \n",
              "1      2.00      0.00     3.24  ...      0.00      0.05      0.09      0.09   \n",
              "2     22.16      0.00     1.93  ...      0.03      0.00      0.00      0.00   \n",
              "3    256.78      0.35    72.83  ...      2.45      1.68      2.00      1.59   \n",
              "4      0.05      0.00     0.00  ...      0.00      0.00      0.00      0.00   \n",
              "\n",
              "   Class_25  Class_26  Class_27  Class_28  Class_29    id  \n",
              "0       0.0      0.08      0.07      0.00      0.00  1429  \n",
              "1       0.0      0.00      0.05      0.00      0.00  1594  \n",
              "2       0.0      0.00      0.00      0.00      0.03  1458  \n",
              "3       1.5      0.88      1.24      0.97      0.97  1190  \n",
              "4       0.0      0.00      0.00      0.00      0.00   217  \n",
              "\n",
              "[5 rows x 43 columns]"
            ],
            "text/html": [
              "\n",
              "  <div id=\"df-380227e4-3a07-4586-9d9c-e3b6eeee324f\">\n",
              "    <div class=\"colab-df-container\">\n",
              "      <div>\n",
              "<style scoped>\n",
              "    .dataframe tbody tr th:only-of-type {\n",
              "        vertical-align: middle;\n",
              "    }\n",
              "\n",
              "    .dataframe tbody tr th {\n",
              "        vertical-align: top;\n",
              "    }\n",
              "\n",
              "    .dataframe thead th {\n",
              "        text-align: right;\n",
              "    }\n",
              "</style>\n",
              "<table border=\"1\" class=\"dataframe\">\n",
              "  <thead>\n",
              "    <tr style=\"text-align: right;\">\n",
              "      <th></th>\n",
              "      <th>Class_30</th>\n",
              "      <th>Class_31</th>\n",
              "      <th>Class_10</th>\n",
              "      <th>Class_32</th>\n",
              "      <th>Class_11</th>\n",
              "      <th>Class_33</th>\n",
              "      <th>Class_8</th>\n",
              "      <th>Class_12</th>\n",
              "      <th>Class_34</th>\n",
              "      <th>Class_7</th>\n",
              "      <th>...</th>\n",
              "      <th>Class_21</th>\n",
              "      <th>Class_22</th>\n",
              "      <th>Class_23</th>\n",
              "      <th>Class_24</th>\n",
              "      <th>Class_25</th>\n",
              "      <th>Class_26</th>\n",
              "      <th>Class_27</th>\n",
              "      <th>Class_28</th>\n",
              "      <th>Class_29</th>\n",
              "      <th>id</th>\n",
              "    </tr>\n",
              "  </thead>\n",
              "  <tbody>\n",
              "    <tr>\n",
              "      <th>0</th>\n",
              "      <td>0.0</td>\n",
              "      <td>0.00</td>\n",
              "      <td>0.19</td>\n",
              "      <td>0.00</td>\n",
              "      <td>0.05</td>\n",
              "      <td>0.0</td>\n",
              "      <td>0.15</td>\n",
              "      <td>0.00</td>\n",
              "      <td>0.00</td>\n",
              "      <td>0.14</td>\n",
              "      <td>...</td>\n",
              "      <td>0.00</td>\n",
              "      <td>0.00</td>\n",
              "      <td>0.00</td>\n",
              "      <td>0.00</td>\n",
              "      <td>0.0</td>\n",
              "      <td>0.08</td>\n",
              "      <td>0.07</td>\n",
              "      <td>0.00</td>\n",
              "      <td>0.00</td>\n",
              "      <td>1429</td>\n",
              "    </tr>\n",
              "    <tr>\n",
              "      <th>1</th>\n",
              "      <td>0.0</td>\n",
              "      <td>0.00</td>\n",
              "      <td>3.07</td>\n",
              "      <td>0.00</td>\n",
              "      <td>2.72</td>\n",
              "      <td>0.0</td>\n",
              "      <td>2.85</td>\n",
              "      <td>2.00</td>\n",
              "      <td>0.00</td>\n",
              "      <td>3.24</td>\n",
              "      <td>...</td>\n",
              "      <td>0.00</td>\n",
              "      <td>0.05</td>\n",
              "      <td>0.09</td>\n",
              "      <td>0.09</td>\n",
              "      <td>0.0</td>\n",
              "      <td>0.00</td>\n",
              "      <td>0.05</td>\n",
              "      <td>0.00</td>\n",
              "      <td>0.00</td>\n",
              "      <td>1594</td>\n",
              "    </tr>\n",
              "    <tr>\n",
              "      <th>2</th>\n",
              "      <td>0.0</td>\n",
              "      <td>0.00</td>\n",
              "      <td>3.94</td>\n",
              "      <td>0.00</td>\n",
              "      <td>5.04</td>\n",
              "      <td>0.0</td>\n",
              "      <td>1.48</td>\n",
              "      <td>22.16</td>\n",
              "      <td>0.00</td>\n",
              "      <td>1.93</td>\n",
              "      <td>...</td>\n",
              "      <td>0.03</td>\n",
              "      <td>0.00</td>\n",
              "      <td>0.00</td>\n",
              "      <td>0.00</td>\n",
              "      <td>0.0</td>\n",
              "      <td>0.00</td>\n",
              "      <td>0.00</td>\n",
              "      <td>0.00</td>\n",
              "      <td>0.03</td>\n",
              "      <td>1458</td>\n",
              "    </tr>\n",
              "    <tr>\n",
              "      <th>3</th>\n",
              "      <td>0.8</td>\n",
              "      <td>0.62</td>\n",
              "      <td>80.72</td>\n",
              "      <td>0.88</td>\n",
              "      <td>101.02</td>\n",
              "      <td>0.8</td>\n",
              "      <td>66.92</td>\n",
              "      <td>256.78</td>\n",
              "      <td>0.35</td>\n",
              "      <td>72.83</td>\n",
              "      <td>...</td>\n",
              "      <td>2.45</td>\n",
              "      <td>1.68</td>\n",
              "      <td>2.00</td>\n",
              "      <td>1.59</td>\n",
              "      <td>1.5</td>\n",
              "      <td>0.88</td>\n",
              "      <td>1.24</td>\n",
              "      <td>0.97</td>\n",
              "      <td>0.97</td>\n",
              "      <td>1190</td>\n",
              "    </tr>\n",
              "    <tr>\n",
              "      <th>4</th>\n",
              "      <td>0.0</td>\n",
              "      <td>0.00</td>\n",
              "      <td>0.00</td>\n",
              "      <td>0.00</td>\n",
              "      <td>0.00</td>\n",
              "      <td>0.0</td>\n",
              "      <td>0.03</td>\n",
              "      <td>0.05</td>\n",
              "      <td>0.00</td>\n",
              "      <td>0.00</td>\n",
              "      <td>...</td>\n",
              "      <td>0.00</td>\n",
              "      <td>0.00</td>\n",
              "      <td>0.00</td>\n",
              "      <td>0.00</td>\n",
              "      <td>0.0</td>\n",
              "      <td>0.00</td>\n",
              "      <td>0.00</td>\n",
              "      <td>0.00</td>\n",
              "      <td>0.00</td>\n",
              "      <td>217</td>\n",
              "    </tr>\n",
              "  </tbody>\n",
              "</table>\n",
              "<p>5 rows × 43 columns</p>\n",
              "</div>\n",
              "      <button class=\"colab-df-convert\" onclick=\"convertToInteractive('df-380227e4-3a07-4586-9d9c-e3b6eeee324f')\"\n",
              "              title=\"Convert this dataframe to an interactive table.\"\n",
              "              style=\"display:none;\">\n",
              "        \n",
              "  <svg xmlns=\"http://www.w3.org/2000/svg\" height=\"24px\"viewBox=\"0 0 24 24\"\n",
              "       width=\"24px\">\n",
              "    <path d=\"M0 0h24v24H0V0z\" fill=\"none\"/>\n",
              "    <path d=\"M18.56 5.44l.94 2.06.94-2.06 2.06-.94-2.06-.94-.94-2.06-.94 2.06-2.06.94zm-11 1L8.5 8.5l.94-2.06 2.06-.94-2.06-.94L8.5 2.5l-.94 2.06-2.06.94zm10 10l.94 2.06.94-2.06 2.06-.94-2.06-.94-.94-2.06-.94 2.06-2.06.94z\"/><path d=\"M17.41 7.96l-1.37-1.37c-.4-.4-.92-.59-1.43-.59-.52 0-1.04.2-1.43.59L10.3 9.45l-7.72 7.72c-.78.78-.78 2.05 0 2.83L4 21.41c.39.39.9.59 1.41.59.51 0 1.02-.2 1.41-.59l7.78-7.78 2.81-2.81c.8-.78.8-2.07 0-2.86zM5.41 20L4 18.59l7.72-7.72 1.47 1.35L5.41 20z\"/>\n",
              "  </svg>\n",
              "      </button>\n",
              "      \n",
              "  <style>\n",
              "    .colab-df-container {\n",
              "      display:flex;\n",
              "      flex-wrap:wrap;\n",
              "      gap: 12px;\n",
              "    }\n",
              "\n",
              "    .colab-df-convert {\n",
              "      background-color: #E8F0FE;\n",
              "      border: none;\n",
              "      border-radius: 50%;\n",
              "      cursor: pointer;\n",
              "      display: none;\n",
              "      fill: #1967D2;\n",
              "      height: 32px;\n",
              "      padding: 0 0 0 0;\n",
              "      width: 32px;\n",
              "    }\n",
              "\n",
              "    .colab-df-convert:hover {\n",
              "      background-color: #E2EBFA;\n",
              "      box-shadow: 0px 1px 2px rgba(60, 64, 67, 0.3), 0px 1px 3px 1px rgba(60, 64, 67, 0.15);\n",
              "      fill: #174EA6;\n",
              "    }\n",
              "\n",
              "    [theme=dark] .colab-df-convert {\n",
              "      background-color: #3B4455;\n",
              "      fill: #D2E3FC;\n",
              "    }\n",
              "\n",
              "    [theme=dark] .colab-df-convert:hover {\n",
              "      background-color: #434B5C;\n",
              "      box-shadow: 0px 1px 3px 1px rgba(0, 0, 0, 0.15);\n",
              "      filter: drop-shadow(0px 1px 2px rgba(0, 0, 0, 0.3));\n",
              "      fill: #FFFFFF;\n",
              "    }\n",
              "  </style>\n",
              "\n",
              "      <script>\n",
              "        const buttonEl =\n",
              "          document.querySelector('#df-380227e4-3a07-4586-9d9c-e3b6eeee324f button.colab-df-convert');\n",
              "        buttonEl.style.display =\n",
              "          google.colab.kernel.accessAllowed ? 'block' : 'none';\n",
              "\n",
              "        async function convertToInteractive(key) {\n",
              "          const element = document.querySelector('#df-380227e4-3a07-4586-9d9c-e3b6eeee324f');\n",
              "          const dataTable =\n",
              "            await google.colab.kernel.invokeFunction('convertToInteractive',\n",
              "                                                     [key], {});\n",
              "          if (!dataTable) return;\n",
              "\n",
              "          const docLinkHtml = 'Like what you see? Visit the ' +\n",
              "            '<a target=\"_blank\" href=https://colab.research.google.com/notebooks/data_table.ipynb>data table notebook</a>'\n",
              "            + ' to learn more about interactive tables.';\n",
              "          element.innerHTML = '';\n",
              "          dataTable['output_type'] = 'display_data';\n",
              "          await google.colab.output.renderOutput(dataTable, element);\n",
              "          const docLink = document.createElement('div');\n",
              "          docLink.innerHTML = docLinkHtml;\n",
              "          element.appendChild(docLink);\n",
              "        }\n",
              "      </script>\n",
              "    </div>\n",
              "  </div>\n",
              "  "
            ]
          },
          "metadata": {},
          "execution_count": 102
        }
      ]
    },
    {
      "cell_type": "code",
      "source": [
        "df.columns"
      ],
      "metadata": {
        "colab": {
          "base_uri": "https://localhost:8080/"
        },
        "id": "0tyTj6XvMNfQ",
        "outputId": "09317f4f-b108-4d14-bb06-34df2d41821c"
      },
      "execution_count": null,
      "outputs": [
        {
          "output_type": "execute_result",
          "data": {
            "text/plain": [
              "Index(['Class_30', 'Class_31', 'Class_10', 'Class_32', 'Class_11', 'Class_33',\n",
              "       'Class_8', 'Class_12', 'Class_34', 'Class_7', 'Class_13', 'Class_35',\n",
              "       'Class_14', 'Class_36', 'Class_9', 'Class_15', 'Class_37', 'Class_16',\n",
              "       'Class_38', 'Class_17', 'Class_39', 'Class_18', 'Class_19', 'Class_0',\n",
              "       'Class_2', 'Class_1', 'Class_4', 'Class_3', 'Class_6', 'Class_5',\n",
              "       'Class_40', 'Class_41', 'Class_20', 'Class_21', 'Class_22', 'Class_23',\n",
              "       'Class_24', 'Class_25', 'Class_26', 'Class_27', 'Class_28', 'Class_29',\n",
              "       'id'],\n",
              "      dtype='object')"
            ]
          },
          "metadata": {},
          "execution_count": 103
        }
      ]
    },
    {
      "cell_type": "code",
      "source": [
        "df = pd.melt(df.reset_index(), var_name='class', \n",
        "id_vars='id', value_name='area')"
      ],
      "metadata": {
        "id": "h6x6J6L1FpT5"
      },
      "execution_count": null,
      "outputs": []
    },
    {
      "cell_type": "code",
      "source": [
        "df.head()"
      ],
      "metadata": {
        "colab": {
          "base_uri": "https://localhost:8080/",
          "height": 206
        },
        "id": "enn5pO9AgiIb",
        "outputId": "65bc42ac-7cd4-407d-8983-fd10774deac1"
      },
      "execution_count": null,
      "outputs": [
        {
          "output_type": "execute_result",
          "data": {
            "text/plain": [
              "     id  class  area\n",
              "0  1429  index   0.0\n",
              "1  1594  index   1.0\n",
              "2  1458  index   2.0\n",
              "3  1190  index   3.0\n",
              "4   217  index   4.0"
            ],
            "text/html": [
              "\n",
              "  <div id=\"df-8ac74d26-2a80-4a50-80b8-bc383aa30f54\">\n",
              "    <div class=\"colab-df-container\">\n",
              "      <div>\n",
              "<style scoped>\n",
              "    .dataframe tbody tr th:only-of-type {\n",
              "        vertical-align: middle;\n",
              "    }\n",
              "\n",
              "    .dataframe tbody tr th {\n",
              "        vertical-align: top;\n",
              "    }\n",
              "\n",
              "    .dataframe thead th {\n",
              "        text-align: right;\n",
              "    }\n",
              "</style>\n",
              "<table border=\"1\" class=\"dataframe\">\n",
              "  <thead>\n",
              "    <tr style=\"text-align: right;\">\n",
              "      <th></th>\n",
              "      <th>id</th>\n",
              "      <th>class</th>\n",
              "      <th>area</th>\n",
              "    </tr>\n",
              "  </thead>\n",
              "  <tbody>\n",
              "    <tr>\n",
              "      <th>0</th>\n",
              "      <td>1429</td>\n",
              "      <td>index</td>\n",
              "      <td>0.0</td>\n",
              "    </tr>\n",
              "    <tr>\n",
              "      <th>1</th>\n",
              "      <td>1594</td>\n",
              "      <td>index</td>\n",
              "      <td>1.0</td>\n",
              "    </tr>\n",
              "    <tr>\n",
              "      <th>2</th>\n",
              "      <td>1458</td>\n",
              "      <td>index</td>\n",
              "      <td>2.0</td>\n",
              "    </tr>\n",
              "    <tr>\n",
              "      <th>3</th>\n",
              "      <td>1190</td>\n",
              "      <td>index</td>\n",
              "      <td>3.0</td>\n",
              "    </tr>\n",
              "    <tr>\n",
              "      <th>4</th>\n",
              "      <td>217</td>\n",
              "      <td>index</td>\n",
              "      <td>4.0</td>\n",
              "    </tr>\n",
              "  </tbody>\n",
              "</table>\n",
              "</div>\n",
              "      <button class=\"colab-df-convert\" onclick=\"convertToInteractive('df-8ac74d26-2a80-4a50-80b8-bc383aa30f54')\"\n",
              "              title=\"Convert this dataframe to an interactive table.\"\n",
              "              style=\"display:none;\">\n",
              "        \n",
              "  <svg xmlns=\"http://www.w3.org/2000/svg\" height=\"24px\"viewBox=\"0 0 24 24\"\n",
              "       width=\"24px\">\n",
              "    <path d=\"M0 0h24v24H0V0z\" fill=\"none\"/>\n",
              "    <path d=\"M18.56 5.44l.94 2.06.94-2.06 2.06-.94-2.06-.94-.94-2.06-.94 2.06-2.06.94zm-11 1L8.5 8.5l.94-2.06 2.06-.94-2.06-.94L8.5 2.5l-.94 2.06-2.06.94zm10 10l.94 2.06.94-2.06 2.06-.94-2.06-.94-.94-2.06-.94 2.06-2.06.94z\"/><path d=\"M17.41 7.96l-1.37-1.37c-.4-.4-.92-.59-1.43-.59-.52 0-1.04.2-1.43.59L10.3 9.45l-7.72 7.72c-.78.78-.78 2.05 0 2.83L4 21.41c.39.39.9.59 1.41.59.51 0 1.02-.2 1.41-.59l7.78-7.78 2.81-2.81c.8-.78.8-2.07 0-2.86zM5.41 20L4 18.59l7.72-7.72 1.47 1.35L5.41 20z\"/>\n",
              "  </svg>\n",
              "      </button>\n",
              "      \n",
              "  <style>\n",
              "    .colab-df-container {\n",
              "      display:flex;\n",
              "      flex-wrap:wrap;\n",
              "      gap: 12px;\n",
              "    }\n",
              "\n",
              "    .colab-df-convert {\n",
              "      background-color: #E8F0FE;\n",
              "      border: none;\n",
              "      border-radius: 50%;\n",
              "      cursor: pointer;\n",
              "      display: none;\n",
              "      fill: #1967D2;\n",
              "      height: 32px;\n",
              "      padding: 0 0 0 0;\n",
              "      width: 32px;\n",
              "    }\n",
              "\n",
              "    .colab-df-convert:hover {\n",
              "      background-color: #E2EBFA;\n",
              "      box-shadow: 0px 1px 2px rgba(60, 64, 67, 0.3), 0px 1px 3px 1px rgba(60, 64, 67, 0.15);\n",
              "      fill: #174EA6;\n",
              "    }\n",
              "\n",
              "    [theme=dark] .colab-df-convert {\n",
              "      background-color: #3B4455;\n",
              "      fill: #D2E3FC;\n",
              "    }\n",
              "\n",
              "    [theme=dark] .colab-df-convert:hover {\n",
              "      background-color: #434B5C;\n",
              "      box-shadow: 0px 1px 3px 1px rgba(0, 0, 0, 0.15);\n",
              "      filter: drop-shadow(0px 1px 2px rgba(0, 0, 0, 0.3));\n",
              "      fill: #FFFFFF;\n",
              "    }\n",
              "  </style>\n",
              "\n",
              "      <script>\n",
              "        const buttonEl =\n",
              "          document.querySelector('#df-8ac74d26-2a80-4a50-80b8-bc383aa30f54 button.colab-df-convert');\n",
              "        buttonEl.style.display =\n",
              "          google.colab.kernel.accessAllowed ? 'block' : 'none';\n",
              "\n",
              "        async function convertToInteractive(key) {\n",
              "          const element = document.querySelector('#df-8ac74d26-2a80-4a50-80b8-bc383aa30f54');\n",
              "          const dataTable =\n",
              "            await google.colab.kernel.invokeFunction('convertToInteractive',\n",
              "                                                     [key], {});\n",
              "          if (!dataTable) return;\n",
              "\n",
              "          const docLinkHtml = 'Like what you see? Visit the ' +\n",
              "            '<a target=\"_blank\" href=https://colab.research.google.com/notebooks/data_table.ipynb>data table notebook</a>'\n",
              "            + ' to learn more about interactive tables.';\n",
              "          element.innerHTML = '';\n",
              "          dataTable['output_type'] = 'display_data';\n",
              "          await google.colab.output.renderOutput(dataTable, element);\n",
              "          const docLink = document.createElement('div');\n",
              "          docLink.innerHTML = docLinkHtml;\n",
              "          element.appendChild(docLink);\n",
              "        }\n",
              "      </script>\n",
              "    </div>\n",
              "  </div>\n",
              "  "
            ]
          },
          "metadata": {},
          "execution_count": 105
        }
      ]
    },
    {
      "cell_type": "code",
      "source": [
        "df[df['class']=='Class_4']['area'].sum()"
      ],
      "metadata": {
        "colab": {
          "base_uri": "https://localhost:8080/"
        },
        "id": "jJ06XedSNQN6",
        "outputId": "1552a570-7ffd-4703-bdb6-58ab38d9fffc"
      },
      "execution_count": null,
      "outputs": [
        {
          "output_type": "execute_result",
          "data": {
            "text/plain": [
              "977.46"
            ]
          },
          "metadata": {},
          "execution_count": 85
        }
      ]
    },
    {
      "cell_type": "code",
      "source": [
        "alap_pd.plot()"
      ],
      "metadata": {
        "colab": {
          "base_uri": "https://localhost:8080/",
          "height": 282
        },
        "id": "oT9KfomHU2Wg",
        "outputId": "a1a8dd31-194f-4a9c-efde-b87176b082e6"
      },
      "execution_count": null,
      "outputs": [
        {
          "output_type": "execute_result",
          "data": {
            "text/plain": [
              "<matplotlib.axes._subplots.AxesSubplot at 0x7f5b327ea590>"
            ]
          },
          "metadata": {},
          "execution_count": 54
        },
        {
          "output_type": "display_data",
          "data": {
            "text/plain": [
              "<Figure size 432x288 with 1 Axes>"
            ],
            "image/png": "[encoded data removed]"
          },
          "metadata": {
            "needs_background": "light"
          }
        }
      ]
    },
    {
      "cell_type": "code",
      "source": [
        "alap_pd.set_crs(epsg=4326, inplace=True)\n",
        "alap_pd[\"area_km2\"] = alap_pd['geometry'].area"
      ],
      "metadata": {
        "id": "B9Hap4QiU6Ru"
      },
      "execution_count": null,
      "outputs": []
    },
    {
      "cell_type": "code",
      "source": [
        "alap_pd"
      ],
      "metadata": {
        "colab": {
          "base_uri": "https://localhost:8080/",
          "height": 81
        },
        "id": "e-Y4zsDPVpui",
        "outputId": "8fede8c3-c220-4731-9d53-6fa554a461fc"
      },
      "execution_count": null,
      "outputs": [
        {
          "output_type": "execute_result",
          "data": {
            "text/plain": [
              "                                            geometry   area_km2\n",
              "0  POLYGON ((-65.69182 -7.91672, -65.67156 -8.106...  12.760232"
            ],
            "text/html": [
              "\n",
              "  <div id=\"df-b2066b71-ed64-4015-9ece-978e34cdf528\">\n",
              "    <div class=\"colab-df-container\">\n",
              "      <div>\n",
              "<style scoped>\n",
              "    .dataframe tbody tr th:only-of-type {\n",
              "        vertical-align: middle;\n",
              "    }\n",
              "\n",
              "    .dataframe tbody tr th {\n",
              "        vertical-align: top;\n",
              "    }\n",
              "\n",
              "    .dataframe thead th {\n",
              "        text-align: right;\n",
              "    }\n",
              "</style>\n",
              "<table border=\"1\" class=\"dataframe\">\n",
              "  <thead>\n",
              "    <tr style=\"text-align: right;\">\n",
              "      <th></th>\n",
              "      <th>geometry</th>\n",
              "      <th>area_km2</th>\n",
              "    </tr>\n",
              "  </thead>\n",
              "  <tbody>\n",
              "    <tr>\n",
              "      <th>0</th>\n",
              "      <td>POLYGON ((-65.69182 -7.91672, -65.67156 -8.106...</td>\n",
              "      <td>12.760232</td>\n",
              "    </tr>\n",
              "  </tbody>\n",
              "</table>\n",
              "</div>\n",
              "      <button class=\"colab-df-convert\" onclick=\"convertToInteractive('df-b2066b71-ed64-4015-9ece-978e34cdf528')\"\n",
              "              title=\"Convert this dataframe to an interactive table.\"\n",
              "              style=\"display:none;\">\n",
              "        \n",
              "  <svg xmlns=\"http://www.w3.org/2000/svg\" height=\"24px\"viewBox=\"0 0 24 24\"\n",
              "       width=\"24px\">\n",
              "    <path d=\"M0 0h24v24H0V0z\" fill=\"none\"/>\n",
              "    <path d=\"M18.56 5.44l.94 2.06.94-2.06 2.06-.94-2.06-.94-.94-2.06-.94 2.06-2.06.94zm-11 1L8.5 8.5l.94-2.06 2.06-.94-2.06-.94L8.5 2.5l-.94 2.06-2.06.94zm10 10l.94 2.06.94-2.06 2.06-.94-2.06-.94-.94-2.06-.94 2.06-2.06.94z\"/><path d=\"M17.41 7.96l-1.37-1.37c-.4-.4-.92-.59-1.43-.59-.52 0-1.04.2-1.43.59L10.3 9.45l-7.72 7.72c-.78.78-.78 2.05 0 2.83L4 21.41c.39.39.9.59 1.41.59.51 0 1.02-.2 1.41-.59l7.78-7.78 2.81-2.81c.8-.78.8-2.07 0-2.86zM5.41 20L4 18.59l7.72-7.72 1.47 1.35L5.41 20z\"/>\n",
              "  </svg>\n",
              "      </button>\n",
              "      \n",
              "  <style>\n",
              "    .colab-df-container {\n",
              "      display:flex;\n",
              "      flex-wrap:wrap;\n",
              "      gap: 12px;\n",
              "    }\n",
              "\n",
              "    .colab-df-convert {\n",
              "      background-color: #E8F0FE;\n",
              "      border: none;\n",
              "      border-radius: 50%;\n",
              "      cursor: pointer;\n",
              "      display: none;\n",
              "      fill: #1967D2;\n",
              "      height: 32px;\n",
              "      padding: 0 0 0 0;\n",
              "      width: 32px;\n",
              "    }\n",
              "\n",
              "    .colab-df-convert:hover {\n",
              "      background-color: #E2EBFA;\n",
              "      box-shadow: 0px 1px 2px rgba(60, 64, 67, 0.3), 0px 1px 3px 1px rgba(60, 64, 67, 0.15);\n",
              "      fill: #174EA6;\n",
              "    }\n",
              "\n",
              "    [theme=dark] .colab-df-convert {\n",
              "      background-color: #3B4455;\n",
              "      fill: #D2E3FC;\n",
              "    }\n",
              "\n",
              "    [theme=dark] .colab-df-convert:hover {\n",
              "      background-color: #434B5C;\n",
              "      box-shadow: 0px 1px 3px 1px rgba(0, 0, 0, 0.15);\n",
              "      filter: drop-shadow(0px 1px 2px rgba(0, 0, 0, 0.3));\n",
              "      fill: #FFFFFF;\n",
              "    }\n",
              "  </style>\n",
              "\n",
              "      <script>\n",
              "        const buttonEl =\n",
              "          document.querySelector('#df-b2066b71-ed64-4015-9ece-978e34cdf528 button.colab-df-convert');\n",
              "        buttonEl.style.display =\n",
              "          google.colab.kernel.accessAllowed ? 'block' : 'none';\n",
              "\n",
              "        async function convertToInteractive(key) {\n",
              "          const element = document.querySelector('#df-b2066b71-ed64-4015-9ece-978e34cdf528');\n",
              "          const dataTable =\n",
              "            await google.colab.kernel.invokeFunction('convertToInteractive',\n",
              "                                                     [key], {});\n",
              "          if (!dataTable) return;\n",
              "\n",
              "          const docLinkHtml = 'Like what you see? Visit the ' +\n",
              "            '<a target=\"_blank\" href=https://colab.research.google.com/notebooks/data_table.ipynb>data table notebook</a>'\n",
              "            + ' to learn more about interactive tables.';\n",
              "          element.innerHTML = '';\n",
              "          dataTable['output_type'] = 'display_data';\n",
              "          await google.colab.output.renderOutput(dataTable, element);\n",
              "          const docLink = document.createElement('div');\n",
              "          docLink.innerHTML = docLinkHtml;\n",
              "          element.appendChild(docLink);\n",
              "        }\n",
              "      </script>\n",
              "    </div>\n",
              "  </div>\n",
              "  "
            ]
          },
          "metadata": {},
          "execution_count": 62
        }
      ]
    },
    {
      "cell_type": "code",
      "source": [
        "df.head(10)"
      ],
      "metadata": {
        "colab": {
          "base_uri": "https://localhost:8080/",
          "height": 526
        },
        "id": "lp1aLuulUTC8",
        "outputId": "34605852-7cc9-4547-8a8f-902abe77dd86"
      },
      "execution_count": null,
      "outputs": [
        {
          "output_type": "execute_result",
          "data": {
            "text/plain": [
              "   Class_30  Class_31  Class_10  Class_32  Class_11  Class_33  Class_sum  \\\n",
              "0      0.05      0.00      1.96      0.00      1.15      0.06      59.46   \n",
              "1      4.45      4.03     95.45      5.49     97.41     11.64   14527.22   \n",
              "2      7.20      7.80    148.40     10.62    163.72    155.22    9432.86   \n",
              "3     12.79     10.47    191.91     11.53    218.37     54.28   31208.43   \n",
              "4      1.68      2.41      8.38      2.40      6.08     52.81    1116.20   \n",
              "5     12.06     11.75     86.93     14.07     93.89    264.38   16747.78   \n",
              "6     17.92     17.98     80.34     19.63     81.05    299.47   13055.79   \n",
              "7     33.44     32.96     84.03     42.29     82.56    462.74   17210.84   \n",
              "8      0.34      0.09      0.30      0.61      0.36     10.00      26.95   \n",
              "9     49.42     53.11    139.34     58.25    141.38    409.67    7400.26   \n",
              "\n",
              "   Class_8  Class_12  Class_34  ...  Class_24  Class_25  Class_26  Class_27  \\\n",
              "0     1.71      3.22      0.00  ...      0.00      0.00      0.07      0.06   \n",
              "1    95.17    207.62      0.27  ...     13.29      8.76      6.35      9.05   \n",
              "2   154.56    250.46      0.09  ...     12.63      6.20      7.22      7.43   \n",
              "3   184.52    422.76      0.35  ...     10.47      9.49      9.99      8.21   \n",
              "4    10.77      7.66      0.00  ...      2.11      1.59      2.06      1.52   \n",
              "5   103.41    202.79      0.00  ...      9.37      9.96      7.65      8.46   \n",
              "6   100.86    108.77      0.00  ...     22.13     21.58     20.62     18.82   \n",
              "7   102.19    128.73      0.00  ...     31.36     27.86     30.68     26.42   \n",
              "8     0.47      0.45      0.00  ...      0.45      0.05      0.18      0.09   \n",
              "9   153.90    164.16      0.00  ...     44.09     42.71     41.85     39.85   \n",
              "\n",
              "   Class_28  Class_29  system:index  geocodigo    id                  nome  \n",
              "0      0.08      0.00             0    1100205  2222           Porto Velho  \n",
              "1      6.81      6.54             1    1302405   647                Lábrea  \n",
              "2      6.45      6.75             2    1301704  2244               Humaitá  \n",
              "3      9.69      9.14             3    1300904   865              Canutama  \n",
              "4      2.13      1.42             4    1303304   924         Novo Aripuanã  \n",
              "5      9.00     10.25             5    1302702   587              Manicoré  \n",
              "6     17.54     18.25             6    1300805   858                 Borba  \n",
              "7     28.64     28.79             7    1300631   511                Beruri  \n",
              "8      0.07      0.44             8    1303106   861  Nova Olinda do Norte  \n",
              "9     47.32     47.74             9    1300300   863               Autazes  \n",
              "\n",
              "[10 rows x 47 columns]"
            ],
            "text/html": [
              "\n",
              "  <div id=\"df-5f234a7b-c801-4cd3-b5ad-677855fd09fb\">\n",
              "    <div class=\"colab-df-container\">\n",
              "      <div>\n",
              "<style scoped>\n",
              "    .dataframe tbody tr th:only-of-type {\n",
              "        vertical-align: middle;\n",
              "    }\n",
              "\n",
              "    .dataframe tbody tr th {\n",
              "        vertical-align: top;\n",
              "    }\n",
              "\n",
              "    .dataframe thead th {\n",
              "        text-align: right;\n",
              "    }\n",
              "</style>\n",
              "<table border=\"1\" class=\"dataframe\">\n",
              "  <thead>\n",
              "    <tr style=\"text-align: right;\">\n",
              "      <th></th>\n",
              "      <th>Class_30</th>\n",
              "      <th>Class_31</th>\n",
              "      <th>Class_10</th>\n",
              "      <th>Class_32</th>\n",
              "      <th>Class_11</th>\n",
              "      <th>Class_33</th>\n",
              "      <th>Class_sum</th>\n",
              "      <th>Class_8</th>\n",
              "      <th>Class_12</th>\n",
              "      <th>Class_34</th>\n",
              "      <th>...</th>\n",
              "      <th>Class_24</th>\n",
              "      <th>Class_25</th>\n",
              "      <th>Class_26</th>\n",
              "      <th>Class_27</th>\n",
              "      <th>Class_28</th>\n",
              "      <th>Class_29</th>\n",
              "      <th>system:index</th>\n",
              "      <th>geocodigo</th>\n",
              "      <th>id</th>\n",
              "      <th>nome</th>\n",
              "    </tr>\n",
              "  </thead>\n",
              "  <tbody>\n",
              "    <tr>\n",
              "      <th>0</th>\n",
              "      <td>0.05</td>\n",
              "      <td>0.00</td>\n",
              "      <td>1.96</td>\n",
              "      <td>0.00</td>\n",
              "      <td>1.15</td>\n",
              "      <td>0.06</td>\n",
              "      <td>59.46</td>\n",
              "      <td>1.71</td>\n",
              "      <td>3.22</td>\n",
              "      <td>0.00</td>\n",
              "      <td>...</td>\n",
              "      <td>0.00</td>\n",
              "      <td>0.00</td>\n",
              "      <td>0.07</td>\n",
              "      <td>0.06</td>\n",
              "      <td>0.08</td>\n",
              "      <td>0.00</td>\n",
              "      <td>0</td>\n",
              "      <td>1100205</td>\n",
              "      <td>2222</td>\n",
              "      <td>Porto Velho</td>\n",
              "    </tr>\n",
              "    <tr>\n",
              "      <th>1</th>\n",
              "      <td>4.45</td>\n",
              "      <td>4.03</td>\n",
              "      <td>95.45</td>\n",
              "      <td>5.49</td>\n",
              "      <td>97.41</td>\n",
              "      <td>11.64</td>\n",
              "      <td>14527.22</td>\n",
              "      <td>95.17</td>\n",
              "      <td>207.62</td>\n",
              "      <td>0.27</td>\n",
              "      <td>...</td>\n",
              "      <td>13.29</td>\n",
              "      <td>8.76</td>\n",
              "      <td>6.35</td>\n",
              "      <td>9.05</td>\n",
              "      <td>6.81</td>\n",
              "      <td>6.54</td>\n",
              "      <td>1</td>\n",
              "      <td>1302405</td>\n",
              "      <td>647</td>\n",
              "      <td>Lábrea</td>\n",
              "    </tr>\n",
              "    <tr>\n",
              "      <th>2</th>\n",
              "      <td>7.20</td>\n",
              "      <td>7.80</td>\n",
              "      <td>148.40</td>\n",
              "      <td>10.62</td>\n",
              "      <td>163.72</td>\n",
              "      <td>155.22</td>\n",
              "      <td>9432.86</td>\n",
              "      <td>154.56</td>\n",
              "      <td>250.46</td>\n",
              "      <td>0.09</td>\n",
              "      <td>...</td>\n",
              "      <td>12.63</td>\n",
              "      <td>6.20</td>\n",
              "      <td>7.22</td>\n",
              "      <td>7.43</td>\n",
              "      <td>6.45</td>\n",
              "      <td>6.75</td>\n",
              "      <td>2</td>\n",
              "      <td>1301704</td>\n",
              "      <td>2244</td>\n",
              "      <td>Humaitá</td>\n",
              "    </tr>\n",
              "    <tr>\n",
              "      <th>3</th>\n",
              "      <td>12.79</td>\n",
              "      <td>10.47</td>\n",
              "      <td>191.91</td>\n",
              "      <td>11.53</td>\n",
              "      <td>218.37</td>\n",
              "      <td>54.28</td>\n",
              "      <td>31208.43</td>\n",
              "      <td>184.52</td>\n",
              "      <td>422.76</td>\n",
              "      <td>0.35</td>\n",
              "      <td>...</td>\n",
              "      <td>10.47</td>\n",
              "      <td>9.49</td>\n",
              "      <td>9.99</td>\n",
              "      <td>8.21</td>\n",
              "      <td>9.69</td>\n",
              "      <td>9.14</td>\n",
              "      <td>3</td>\n",
              "      <td>1300904</td>\n",
              "      <td>865</td>\n",
              "      <td>Canutama</td>\n",
              "    </tr>\n",
              "    <tr>\n",
              "      <th>4</th>\n",
              "      <td>1.68</td>\n",
              "      <td>2.41</td>\n",
              "      <td>8.38</td>\n",
              "      <td>2.40</td>\n",
              "      <td>6.08</td>\n",
              "      <td>52.81</td>\n",
              "      <td>1116.20</td>\n",
              "      <td>10.77</td>\n",
              "      <td>7.66</td>\n",
              "      <td>0.00</td>\n",
              "      <td>...</td>\n",
              "      <td>2.11</td>\n",
              "      <td>1.59</td>\n",
              "      <td>2.06</td>\n",
              "      <td>1.52</td>\n",
              "      <td>2.13</td>\n",
              "      <td>1.42</td>\n",
              "      <td>4</td>\n",
              "      <td>1303304</td>\n",
              "      <td>924</td>\n",
              "      <td>Novo Aripuanã</td>\n",
              "    </tr>\n",
              "    <tr>\n",
              "      <th>5</th>\n",
              "      <td>12.06</td>\n",
              "      <td>11.75</td>\n",
              "      <td>86.93</td>\n",
              "      <td>14.07</td>\n",
              "      <td>93.89</td>\n",
              "      <td>264.38</td>\n",
              "      <td>16747.78</td>\n",
              "      <td>103.41</td>\n",
              "      <td>202.79</td>\n",
              "      <td>0.00</td>\n",
              "      <td>...</td>\n",
              "      <td>9.37</td>\n",
              "      <td>9.96</td>\n",
              "      <td>7.65</td>\n",
              "      <td>8.46</td>\n",
              "      <td>9.00</td>\n",
              "      <td>10.25</td>\n",
              "      <td>5</td>\n",
              "      <td>1302702</td>\n",
              "      <td>587</td>\n",
              "      <td>Manicoré</td>\n",
              "    </tr>\n",
              "    <tr>\n",
              "      <th>6</th>\n",
              "      <td>17.92</td>\n",
              "      <td>17.98</td>\n",
              "      <td>80.34</td>\n",
              "      <td>19.63</td>\n",
              "      <td>81.05</td>\n",
              "      <td>299.47</td>\n",
              "      <td>13055.79</td>\n",
              "      <td>100.86</td>\n",
              "      <td>108.77</td>\n",
              "      <td>0.00</td>\n",
              "      <td>...</td>\n",
              "      <td>22.13</td>\n",
              "      <td>21.58</td>\n",
              "      <td>20.62</td>\n",
              "      <td>18.82</td>\n",
              "      <td>17.54</td>\n",
              "      <td>18.25</td>\n",
              "      <td>6</td>\n",
              "      <td>1300805</td>\n",
              "      <td>858</td>\n",
              "      <td>Borba</td>\n",
              "    </tr>\n",
              "    <tr>\n",
              "      <th>7</th>\n",
              "      <td>33.44</td>\n",
              "      <td>32.96</td>\n",
              "      <td>84.03</td>\n",
              "      <td>42.29</td>\n",
              "      <td>82.56</td>\n",
              "      <td>462.74</td>\n",
              "      <td>17210.84</td>\n",
              "      <td>102.19</td>\n",
              "      <td>128.73</td>\n",
              "      <td>0.00</td>\n",
              "      <td>...</td>\n",
              "      <td>31.36</td>\n",
              "      <td>27.86</td>\n",
              "      <td>30.68</td>\n",
              "      <td>26.42</td>\n",
              "      <td>28.64</td>\n",
              "      <td>28.79</td>\n",
              "      <td>7</td>\n",
              "      <td>1300631</td>\n",
              "      <td>511</td>\n",
              "      <td>Beruri</td>\n",
              "    </tr>\n",
              "    <tr>\n",
              "      <th>8</th>\n",
              "      <td>0.34</td>\n",
              "      <td>0.09</td>\n",
              "      <td>0.30</td>\n",
              "      <td>0.61</td>\n",
              "      <td>0.36</td>\n",
              "      <td>10.00</td>\n",
              "      <td>26.95</td>\n",
              "      <td>0.47</td>\n",
              "      <td>0.45</td>\n",
              "      <td>0.00</td>\n",
              "      <td>...</td>\n",
              "      <td>0.45</td>\n",
              "      <td>0.05</td>\n",
              "      <td>0.18</td>\n",
              "      <td>0.09</td>\n",
              "      <td>0.07</td>\n",
              "      <td>0.44</td>\n",
              "      <td>8</td>\n",
              "      <td>1303106</td>\n",
              "      <td>861</td>\n",
              "      <td>Nova Olinda do Norte</td>\n",
              "    </tr>\n",
              "    <tr>\n",
              "      <th>9</th>\n",
              "      <td>49.42</td>\n",
              "      <td>53.11</td>\n",
              "      <td>139.34</td>\n",
              "      <td>58.25</td>\n",
              "      <td>141.38</td>\n",
              "      <td>409.67</td>\n",
              "      <td>7400.26</td>\n",
              "      <td>153.90</td>\n",
              "      <td>164.16</td>\n",
              "      <td>0.00</td>\n",
              "      <td>...</td>\n",
              "      <td>44.09</td>\n",
              "      <td>42.71</td>\n",
              "      <td>41.85</td>\n",
              "      <td>39.85</td>\n",
              "      <td>47.32</td>\n",
              "      <td>47.74</td>\n",
              "      <td>9</td>\n",
              "      <td>1300300</td>\n",
              "      <td>863</td>\n",
              "      <td>Autazes</td>\n",
              "    </tr>\n",
              "  </tbody>\n",
              "</table>\n",
              "<p>10 rows × 47 columns</p>\n",
              "</div>\n",
              "      <button class=\"colab-df-convert\" onclick=\"convertToInteractive('df-5f234a7b-c801-4cd3-b5ad-677855fd09fb')\"\n",
              "              title=\"Convert this dataframe to an interactive table.\"\n",
              "              style=\"display:none;\">\n",
              "        \n",
              "  <svg xmlns=\"http://www.w3.org/2000/svg\" height=\"24px\"viewBox=\"0 0 24 24\"\n",
              "       width=\"24px\">\n",
              "    <path d=\"M0 0h24v24H0V0z\" fill=\"none\"/>\n",
              "    <path d=\"M18.56 5.44l.94 2.06.94-2.06 2.06-.94-2.06-.94-.94-2.06-.94 2.06-2.06.94zm-11 1L8.5 8.5l.94-2.06 2.06-.94-2.06-.94L8.5 2.5l-.94 2.06-2.06.94zm10 10l.94 2.06.94-2.06 2.06-.94-2.06-.94-.94-2.06-.94 2.06-2.06.94z\"/><path d=\"M17.41 7.96l-1.37-1.37c-.4-.4-.92-.59-1.43-.59-.52 0-1.04.2-1.43.59L10.3 9.45l-7.72 7.72c-.78.78-.78 2.05 0 2.83L4 21.41c.39.39.9.59 1.41.59.51 0 1.02-.2 1.41-.59l7.78-7.78 2.81-2.81c.8-.78.8-2.07 0-2.86zM5.41 20L4 18.59l7.72-7.72 1.47 1.35L5.41 20z\"/>\n",
              "  </svg>\n",
              "      </button>\n",
              "      \n",
              "  <style>\n",
              "    .colab-df-container {\n",
              "      display:flex;\n",
              "      flex-wrap:wrap;\n",
              "      gap: 12px;\n",
              "    }\n",
              "\n",
              "    .colab-df-convert {\n",
              "      background-color: #E8F0FE;\n",
              "      border: none;\n",
              "      border-radius: 50%;\n",
              "      cursor: pointer;\n",
              "      display: none;\n",
              "      fill: #1967D2;\n",
              "      height: 32px;\n",
              "      padding: 0 0 0 0;\n",
              "      width: 32px;\n",
              "    }\n",
              "\n",
              "    .colab-df-convert:hover {\n",
              "      background-color: #E2EBFA;\n",
              "      box-shadow: 0px 1px 2px rgba(60, 64, 67, 0.3), 0px 1px 3px 1px rgba(60, 64, 67, 0.15);\n",
              "      fill: #174EA6;\n",
              "    }\n",
              "\n",
              "    [theme=dark] .colab-df-convert {\n",
              "      background-color: #3B4455;\n",
              "      fill: #D2E3FC;\n",
              "    }\n",
              "\n",
              "    [theme=dark] .colab-df-convert:hover {\n",
              "      background-color: #434B5C;\n",
              "      box-shadow: 0px 1px 3px 1px rgba(0, 0, 0, 0.15);\n",
              "      filter: drop-shadow(0px 1px 2px rgba(0, 0, 0, 0.3));\n",
              "      fill: #FFFFFF;\n",
              "    }\n",
              "  </style>\n",
              "\n",
              "      <script>\n",
              "        const buttonEl =\n",
              "          document.querySelector('#df-5f234a7b-c801-4cd3-b5ad-677855fd09fb button.colab-df-convert');\n",
              "        buttonEl.style.display =\n",
              "          google.colab.kernel.accessAllowed ? 'block' : 'none';\n",
              "\n",
              "        async function convertToInteractive(key) {\n",
              "          const element = document.querySelector('#df-5f234a7b-c801-4cd3-b5ad-677855fd09fb');\n",
              "          const dataTable =\n",
              "            await google.colab.kernel.invokeFunction('convertToInteractive',\n",
              "                                                     [key], {});\n",
              "          if (!dataTable) return;\n",
              "\n",
              "          const docLinkHtml = 'Like what you see? Visit the ' +\n",
              "            '<a target=\"_blank\" href=https://colab.research.google.com/notebooks/data_table.ipynb>data table notebook</a>'\n",
              "            + ' to learn more about interactive tables.';\n",
              "          element.innerHTML = '';\n",
              "          dataTable['output_type'] = 'display_data';\n",
              "          await google.colab.output.renderOutput(dataTable, element);\n",
              "          const docLink = document.createElement('div');\n",
              "          docLink.innerHTML = docLinkHtml;\n",
              "          element.appendChild(docLink);\n",
              "        }\n",
              "      </script>\n",
              "    </div>\n",
              "  </div>\n",
              "  "
            ]
          },
          "metadata": {},
          "execution_count": 63
        }
      ]
    },
    {
      "cell_type": "code",
      "source": [
        "df.Class_sum.sum()"
      ],
      "metadata": {
        "colab": {
          "base_uri": "https://localhost:8080/"
        },
        "id": "VvADMC7dUrpD",
        "outputId": "c752ac16-faef-4f2e-b0eb-4230f6e1d056"
      },
      "execution_count": null,
      "outputs": [
        {
          "output_type": "execute_result",
          "data": {
            "text/plain": [
              "156235.55"
            ]
          },
          "metadata": {},
          "execution_count": 52
        }
      ]
    },
    {
      "cell_type": "code",
      "source": [
        "Map = geemap.Map()\n",
        "Map.add_raster(raster_alap, colormap='terrain', layer_name='DEM')\n",
        "Map"
      ],
      "metadata": {
        "id": "TBbW_WeeLLMY"
      },
      "execution_count": null,
      "outputs": []
    },
    {
      "cell_type": "code",
      "execution_count": null,
      "metadata": {
        "id": "S0QIUlrcjTZ0"
      },
      "outputs": [],
      "source": [
        "buffer50 = ee.FeatureCollection('projects/ee-alexandrepy/assets/buffer50')\n",
        "alap = ee.FeatureCollection('projects/ee-alexandrepy/assets/alap_319')\n",
        "tis = ee.FeatureCollection('projects/ee-alexandrepy/assets/MAPBIOMAS/indigenous_area_legal_amazon')\n",
        "ucs = ee.FeatureCollection('projects/ee-alexandrepy/assets/conservation_units_legal_amazon')\n",
        "assAM = ee.FeatureCollection('projects/ee-alexandrepy/assets/AssentamentoFederal_AM')\n",
        "assRO = ee.FeatureCollection('projects/ee-alexandrepy/assets/AssentamentoFederal_RO')"
      ]
    },
    {
      "cell_type": "code",
      "source": [
        "municipios = gpd.read_file('/content/drive/MyDrive/MAPBIOMAS-EXPORT/municipalities_legal_amazon.zip')"
      ],
      "metadata": {
        "id": "RjDo6MLP0Hw2"
      },
      "execution_count": null,
      "outputs": []
    },
    {
      "cell_type": "code",
      "source": [
        "municipios.head()"
      ],
      "metadata": {
        "colab": {
          "base_uri": "https://localhost:8080/",
          "height": 206
        },
        "id": "H3I9TFCM2Twm",
        "outputId": "a76e2d2e-7471-4f17-d1d2-0fd221484349"
      },
      "execution_count": null,
      "outputs": [
        {
          "output_type": "execute_result",
          "data": {
            "text/plain": [
              "    id              nome geocodigo anoderefer  \\\n",
              "0   19           Tesouro   5108105       None   \n",
              "1   30  Nova Brasilândia   5106208       None   \n",
              "2   39         Torixoréu   5108204       None   \n",
              "3  280     Várzea Grande   5108402       None   \n",
              "4  285       Curvelândia   5103437       None   \n",
              "\n",
              "                                            geometry  \n",
              "0  POLYGON ((-53.05788 -15.96060, -53.06003 -15.9...  \n",
              "1  POLYGON ((-54.69848 -14.95350, -54.70283 -14.9...  \n",
              "2  POLYGON ((-52.47125 -16.12639, -52.47301 -16.1...  \n",
              "3  POLYGON ((-56.35519 -15.41263, -56.35512 -15.4...  \n",
              "4  POLYGON ((-57.79789 -15.76679, -57.79843 -15.7...  "
            ],
            "text/html": [
              "\n",
              "  <div id=\"df-db74625b-7c39-4d6c-a1d2-aaaa0741a15f\">\n",
              "    <div class=\"colab-df-container\">\n",
              "      <div>\n",
              "<style scoped>\n",
              "    .dataframe tbody tr th:only-of-type {\n",
              "        vertical-align: middle;\n",
              "    }\n",
              "\n",
              "    .dataframe tbody tr th {\n",
              "        vertical-align: top;\n",
              "    }\n",
              "\n",
              "    .dataframe thead th {\n",
              "        text-align: right;\n",
              "    }\n",
              "</style>\n",
              "<table border=\"1\" class=\"dataframe\">\n",
              "  <thead>\n",
              "    <tr style=\"text-align: right;\">\n",
              "      <th></th>\n",
              "      <th>id</th>\n",
              "      <th>nome</th>\n",
              "      <th>geocodigo</th>\n",
              "      <th>anoderefer</th>\n",
              "      <th>geometry</th>\n",
              "    </tr>\n",
              "  </thead>\n",
              "  <tbody>\n",
              "    <tr>\n",
              "      <th>0</th>\n",
              "      <td>19</td>\n",
              "      <td>Tesouro</td>\n",
              "      <td>5108105</td>\n",
              "      <td>None</td>\n",
              "      <td>POLYGON ((-53.05788 -15.96060, -53.06003 -15.9...</td>\n",
              "    </tr>\n",
              "    <tr>\n",
              "      <th>1</th>\n",
              "      <td>30</td>\n",
              "      <td>Nova Brasilândia</td>\n",
              "      <td>5106208</td>\n",
              "      <td>None</td>\n",
              "      <td>POLYGON ((-54.69848 -14.95350, -54.70283 -14.9...</td>\n",
              "    </tr>\n",
              "    <tr>\n",
              "      <th>2</th>\n",
              "      <td>39</td>\n",
              "      <td>Torixoréu</td>\n",
              "      <td>5108204</td>\n",
              "      <td>None</td>\n",
              "      <td>POLYGON ((-52.47125 -16.12639, -52.47301 -16.1...</td>\n",
              "    </tr>\n",
              "    <tr>\n",
              "      <th>3</th>\n",
              "      <td>280</td>\n",
              "      <td>Várzea Grande</td>\n",
              "      <td>5108402</td>\n",
              "      <td>None</td>\n",
              "      <td>POLYGON ((-56.35519 -15.41263, -56.35512 -15.4...</td>\n",
              "    </tr>\n",
              "    <tr>\n",
              "      <th>4</th>\n",
              "      <td>285</td>\n",
              "      <td>Curvelândia</td>\n",
              "      <td>5103437</td>\n",
              "      <td>None</td>\n",
              "      <td>POLYGON ((-57.79789 -15.76679, -57.79843 -15.7...</td>\n",
              "    </tr>\n",
              "  </tbody>\n",
              "</table>\n",
              "</div>\n",
              "      <button class=\"colab-df-convert\" onclick=\"convertToInteractive('df-db74625b-7c39-4d6c-a1d2-aaaa0741a15f')\"\n",
              "              title=\"Convert this dataframe to an interactive table.\"\n",
              "              style=\"display:none;\">\n",
              "        \n",
              "  <svg xmlns=\"http://www.w3.org/2000/svg\" height=\"24px\"viewBox=\"0 0 24 24\"\n",
              "       width=\"24px\">\n",
              "    <path d=\"M0 0h24v24H0V0z\" fill=\"none\"/>\n",
              "    <path d=\"M18.56 5.44l.94 2.06.94-2.06 2.06-.94-2.06-.94-.94-2.06-.94 2.06-2.06.94zm-11 1L8.5 8.5l.94-2.06 2.06-.94-2.06-.94L8.5 2.5l-.94 2.06-2.06.94zm10 10l.94 2.06.94-2.06 2.06-.94-2.06-.94-.94-2.06-.94 2.06-2.06.94z\"/><path d=\"M17.41 7.96l-1.37-1.37c-.4-.4-.92-.59-1.43-.59-.52 0-1.04.2-1.43.59L10.3 9.45l-7.72 7.72c-.78.78-.78 2.05 0 2.83L4 21.41c.39.39.9.59 1.41.59.51 0 1.02-.2 1.41-.59l7.78-7.78 2.81-2.81c.8-.78.8-2.07 0-2.86zM5.41 20L4 18.59l7.72-7.72 1.47 1.35L5.41 20z\"/>\n",
              "  </svg>\n",
              "      </button>\n",
              "      \n",
              "  <style>\n",
              "    .colab-df-container {\n",
              "      display:flex;\n",
              "      flex-wrap:wrap;\n",
              "      gap: 12px;\n",
              "    }\n",
              "\n",
              "    .colab-df-convert {\n",
              "      background-color: #E8F0FE;\n",
              "      border: none;\n",
              "      border-radius: 50%;\n",
              "      cursor: pointer;\n",
              "      display: none;\n",
              "      fill: #1967D2;\n",
              "      height: 32px;\n",
              "      padding: 0 0 0 0;\n",
              "      width: 32px;\n",
              "    }\n",
              "\n",
              "    .colab-df-convert:hover {\n",
              "      background-color: #E2EBFA;\n",
              "      box-shadow: 0px 1px 2px rgba(60, 64, 67, 0.3), 0px 1px 3px 1px rgba(60, 64, 67, 0.15);\n",
              "      fill: #174EA6;\n",
              "    }\n",
              "\n",
              "    [theme=dark] .colab-df-convert {\n",
              "      background-color: #3B4455;\n",
              "      fill: #D2E3FC;\n",
              "    }\n",
              "\n",
              "    [theme=dark] .colab-df-convert:hover {\n",
              "      background-color: #434B5C;\n",
              "      box-shadow: 0px 1px 3px 1px rgba(0, 0, 0, 0.15);\n",
              "      filter: drop-shadow(0px 1px 2px rgba(0, 0, 0, 0.3));\n",
              "      fill: #FFFFFF;\n",
              "    }\n",
              "  </style>\n",
              "\n",
              "      <script>\n",
              "        const buttonEl =\n",
              "          document.querySelector('#df-db74625b-7c39-4d6c-a1d2-aaaa0741a15f button.colab-df-convert');\n",
              "        buttonEl.style.display =\n",
              "          google.colab.kernel.accessAllowed ? 'block' : 'none';\n",
              "\n",
              "        async function convertToInteractive(key) {\n",
              "          const element = document.querySelector('#df-db74625b-7c39-4d6c-a1d2-aaaa0741a15f');\n",
              "          const dataTable =\n",
              "            await google.colab.kernel.invokeFunction('convertToInteractive',\n",
              "                                                     [key], {});\n",
              "          if (!dataTable) return;\n",
              "\n",
              "          const docLinkHtml = 'Like what you see? Visit the ' +\n",
              "            '<a target=\"_blank\" href=https://colab.research.google.com/notebooks/data_table.ipynb>data table notebook</a>'\n",
              "            + ' to learn more about interactive tables.';\n",
              "          element.innerHTML = '';\n",
              "          dataTable['output_type'] = 'display_data';\n",
              "          await google.colab.output.renderOutput(dataTable, element);\n",
              "          const docLink = document.createElement('div');\n",
              "          docLink.innerHTML = docLinkHtml;\n",
              "          element.appendChild(docLink);\n",
              "        }\n",
              "      </script>\n",
              "    </div>\n",
              "  </div>\n",
              "  "
            ]
          },
          "metadata": {},
          "execution_count": 35
        }
      ]
    },
    {
      "cell_type": "code",
      "execution_count": null,
      "metadata": {
        "id": "6Ot4R0FL4Q7N"
      },
      "outputs": [],
      "source": [
        "buffer50_pd = geemap.ee_to_geopandas(buffer50)\n",
        "alap_pd = geemap.ee_to_geopandas(alap)\n",
        "tis_pd = geemap.ee_to_geopandas(tis)\n",
        "ucs_pd = geemap.ee_to_geopandas(ucs)\n",
        "assAM_pd = geemap.ee_to_geopandas(assAM)\n",
        "assRO_pd = geemap.ee_to_geopandas(assRO)"
      ]
    },
    {
      "cell_type": "code",
      "execution_count": null,
      "metadata": {
        "id": "Fwl8NczwQ1KW",
        "colab": {
          "base_uri": "https://localhost:8080/"
        },
        "outputId": "9cdb654f-2972-4dec-afad-a53ac6c58c79"
      },
      "outputs": [
        {
          "output_type": "stream",
          "name": "stderr",
          "text": [
            "/usr/local/lib/python3.7/dist-packages/ipykernel_launcher.py:5: UserWarning: CRS mismatch between the CRS of left geometries and the CRS of right geometries.\n",
            "Use `to_crs()` to reproject one of the input geometries to match the CRS of the other.\n",
            "\n",
            "Left CRS: EPSG:4674\n",
            "Right CRS: None\n",
            "\n",
            "  \"\"\"\n"
          ]
        }
      ],
      "source": [
        "tis_cliped_alap = gpd.clip(tis_pd, alap_pd)\n",
        "ucs_cliped_alap = gpd.clip(ucs_pd, alap_pd)\n",
        "assAM_cliped_alap = gpd.clip(assAM_pd, alap_pd)\n",
        "assRO_cliped_alap = gpd.clip(assRO_pd, alap_pd)\n",
        "municipios_alap = gpd.clip(municipios, alap_pd)\n",
        "\n",
        "tis_cliped_buffer = gpd.clip(tis_pd, buffer50_pd)\n",
        "ucs_cliped_buffer = gpd.clip(ucs_pd, buffer50_pd)\n",
        "assAM_cliped_buffer = gpd.clip(assAM_pd, buffer50_pd)\n",
        "assRO_cliped_buffer = gpd.clip(assRO_pd, buffer50_pd)"
      ]
    },
    {
      "cell_type": "code",
      "source": [
        "municipios_alap.plot()"
      ],
      "metadata": {
        "colab": {
          "base_uri": "https://localhost:8080/",
          "height": 166
        },
        "id": "hsM-zRB94ISL",
        "outputId": "20b85952-e4dd-4764-cd3b-17536ee3f8f9"
      },
      "execution_count": null,
      "outputs": [
        {
          "output_type": "error",
          "ename": "NameError",
          "evalue": "ignored",
          "traceback": [
            "\u001b[0;31m---------------------------------------------------------------------------\u001b[0m",
            "\u001b[0;31mNameError\u001b[0m                                 Traceback (most recent call last)",
            "\u001b[0;32m<ipython-input-9-e74daf46884b>\u001b[0m in \u001b[0;36m<module>\u001b[0;34m\u001b[0m\n\u001b[0;32m----> 1\u001b[0;31m \u001b[0mmunicipios_alap\u001b[0m\u001b[0;34m.\u001b[0m\u001b[0mplot\u001b[0m\u001b[0;34m(\u001b[0m\u001b[0;34m)\u001b[0m\u001b[0;34m\u001b[0m\u001b[0;34m\u001b[0m\u001b[0m\n\u001b[0m",
            "\u001b[0;31mNameError\u001b[0m: name 'municipios_alap' is not defined"
          ]
        }
      ]
    },
    {
      "cell_type": "code",
      "source": [
        "ucs_cliped_alap"
      ],
      "metadata": {
        "colab": {
          "base_uri": "https://localhost:8080/",
          "height": 1000
        },
        "id": "tZBFrLHG4QGe",
        "outputId": "03fb419b-e7f1-4cf4-94e1-8998b0af2cc1"
      },
      "execution_count": null,
      "outputs": [
        {
          "output_type": "execute_result",
          "data": {
            "text/plain": [
              "                                              geometry ano_cria  \\\n",
              "98   MULTIPOLYGON (((-64.66364 -9.01151, -64.65718 ...     1990   \n",
              "144  GEOMETRYCOLLECTION (POLYGON ((-65.24387 -7.789...     2008   \n",
              "45   MULTIPOLYGON (((-63.80015 -8.32843, -63.80702 ...     2001   \n",
              "1    MULTIPOLYGON (((-64.68027 -9.00384, -64.68246 ...     2008   \n",
              "236  MULTIPOLYGON (((-63.93849 -8.55584, -63.94520 ...     1996   \n",
              "172  POLYGON ((-65.65418 -8.14275, -65.64844 -8.136...     2008   \n",
              "157  MULTIPOLYGON (((-64.83439 -7.29127, -64.83388 ...     2008   \n",
              "151  GEOMETRYCOLLECTION (LINESTRING (-64.33393 -6.5...     2005   \n",
              "276  POLYGON ((-64.80039 -6.86980, -64.79956 -6.867...     2009   \n",
              "235  POLYGON ((-64.25840 -6.25431, -64.25946 -6.255...     2009   \n",
              "318  MULTIPOLYGON (((-61.10330 -5.43110, -61.10320 ...     2006   \n",
              "51   POLYGON ((-60.74101 -5.15629, -60.73725 -5.165...     2009   \n",
              "329  POLYGON ((-61.04075 -4.97469, -61.03865 -4.977...     2009   \n",
              "234  GEOMETRYCOLLECTION (LINESTRING (-63.41146 -6.0...     2009   \n",
              "175  POLYGON ((-62.47781 -5.95958, -62.45416 -5.943...     2004   \n",
              "3    POLYGON ((-63.14253 -5.79109, -63.14251 -5.791...     2008   \n",
              "327  POLYGON ((-62.07699 -5.42430, -62.06455 -5.407...     2005   \n",
              "29   POLYGON ((-63.21742 -5.23992, -63.21737 -5.239...     1982   \n",
              "325  POLYGON ((-62.24814 -5.17471, -62.24642 -5.174...     2009   \n",
              "334  GEOMETRYCOLLECTION (LINESTRING (-62.72300 -4.8...     2003   \n",
              "328  POLYGON ((-60.69259 -3.11762, -60.72511 -3.093...     2008   \n",
              "297  POLYGON ((-60.46059 -3.30313, -60.46803 -3.303...     1995   \n",
              "\n",
              "                                  categoria    esfera grupo    id  \\\n",
              "98                        Estação Ecológica  estadual    PI  1429   \n",
              "144                                Floresta   federal    US  1594   \n",
              "45                        Estação Ecológica   federal    PI  1458   \n",
              "1                                    Parque   federal    PI  1190   \n",
              "236                                Floresta  estadual    US   217   \n",
              "172                    Reserva Extrativista   federal    US   368   \n",
              "157                    Reserva Extrativista   federal    US    40   \n",
              "151                                Floresta   federal    US   465   \n",
              "276                    Reserva Extrativista  estadual    US  1714   \n",
              "235                                Floresta  estadual    US   154   \n",
              "318  Reserva de Desenvolvimento Sustentável  estadual    US    44   \n",
              "51                                   Parque  estadual    PI  1148   \n",
              "329  Reserva de Desenvolvimento Sustentável  estadual    US   834   \n",
              "234                                Floresta  estadual    US  1804   \n",
              "175                    Reserva Extrativista   federal    US   518   \n",
              "3                                    Parque   federal    PI  1848   \n",
              "327  Reserva de Desenvolvimento Sustentável  estadual    US   420   \n",
              "29                        Reserva Biológica   federal    PI  1555   \n",
              "325  Reserva de Desenvolvimento Sustentável  estadual    US   524   \n",
              "334  Reserva de Desenvolvimento Sustentável  estadual    US  1453   \n",
              "328  Reserva de Desenvolvimento Sustentável  estadual    US   973   \n",
              "297              Área de Proteção Ambiental  estadual    US  2082   \n",
              "\n",
              "                                                  nome  \n",
              "98             ESTAÇÃO ECOLÓGICA SERRA DOS TRÊS IRMÃOS  \n",
              "144                        FLORESTA NACIONAL DO IQUIRI  \n",
              "45                          ESTAÇÃO ECOLÓGICA DE CUNIÃ  \n",
              "1                           PARQUE NACIONAL MAPINGUARI  \n",
              "236  FLORESTA ESTADUAL DE RENDIMENTO SUSTENTADO DO ...  \n",
              "172                         RESERVA EXTRATIVISTA ITUXí  \n",
              "157                RESERVA EXTRATIVISTA DO MéDIO PURúS  \n",
              "151                 FLORESTA NACIONAL DE BALATA-TUFARI  \n",
              "276                      RESERVA EXTRATIVISTA CANUTAMA  \n",
              "235                         FLORESTA ESTADUAL CANUTAMA  \n",
              "318  RESERVA DE DESENVOLVIMENTO SUSTENTAVEL DO RIO ...  \n",
              "51                         PARQUE ESTADUAL DO MATUPIRI  \n",
              "329  RESERVA DE DESENVOLVIMENTO SUSTENTÁVEL DO MATU...  \n",
              "234                        FLORESTA ESTADUAL DE TAPAUÁ  \n",
              "175      RESERVA EXTRATIVISTA DO LAGO DO CAPANÃ GRANDE  \n",
              "3               PARQUE NACIONAL NASCENTES DO LAGO JARI  \n",
              "327   RESERVA DE DESENVOLVIMENTO SUSTENTÁVEL RIO AMAPÁ  \n",
              "29                        RESERVA BIOLÓGICA DO ABUFARI  \n",
              "325   RESERVA DE DESENVOLVIMENTO SUSTENTÁVEL IGAPÓ-AÇU  \n",
              "334  RESERVA DE DESENVOLVIMENTO SUSTENTÁVEL PIAGAÇU...  \n",
              "328  RESERVA DE DESENVOLVIMENTO SUSTENTÁVEL DO RIO ...  \n",
              "297  ÁREA DE PROTEÇÃO AMBIENTAL MARGEM DIREITA DO R...  "
            ],
            "text/html": [
              "\n",
              "  <div id=\"df-35fe495d-d18f-49aa-8412-32b9f42793c4\">\n",
              "    <div class=\"colab-df-container\">\n",
              "      <div>\n",
              "<style scoped>\n",
              "    .dataframe tbody tr th:only-of-type {\n",
              "        vertical-align: middle;\n",
              "    }\n",
              "\n",
              "    .dataframe tbody tr th {\n",
              "        vertical-align: top;\n",
              "    }\n",
              "\n",
              "    .dataframe thead th {\n",
              "        text-align: right;\n",
              "    }\n",
              "</style>\n",
              "<table border=\"1\" class=\"dataframe\">\n",
              "  <thead>\n",
              "    <tr style=\"text-align: right;\">\n",
              "      <th></th>\n",
              "      <th>geometry</th>\n",
              "      <th>ano_cria</th>\n",
              "      <th>categoria</th>\n",
              "      <th>esfera</th>\n",
              "      <th>grupo</th>\n",
              "      <th>id</th>\n",
              "      <th>nome</th>\n",
              "    </tr>\n",
              "  </thead>\n",
              "  <tbody>\n",
              "    <tr>\n",
              "      <th>98</th>\n",
              "      <td>MULTIPOLYGON (((-64.66364 -9.01151, -64.65718 ...</td>\n",
              "      <td>1990</td>\n",
              "      <td>Estação Ecológica</td>\n",
              "      <td>estadual</td>\n",
              "      <td>PI</td>\n",
              "      <td>1429</td>\n",
              "      <td>ESTAÇÃO ECOLÓGICA SERRA DOS TRÊS IRMÃOS</td>\n",
              "    </tr>\n",
              "    <tr>\n",
              "      <th>144</th>\n",
              "      <td>GEOMETRYCOLLECTION (POLYGON ((-65.24387 -7.789...</td>\n",
              "      <td>2008</td>\n",
              "      <td>Floresta</td>\n",
              "      <td>federal</td>\n",
              "      <td>US</td>\n",
              "      <td>1594</td>\n",
              "      <td>FLORESTA NACIONAL DO IQUIRI</td>\n",
              "    </tr>\n",
              "    <tr>\n",
              "      <th>45</th>\n",
              "      <td>MULTIPOLYGON (((-63.80015 -8.32843, -63.80702 ...</td>\n",
              "      <td>2001</td>\n",
              "      <td>Estação Ecológica</td>\n",
              "      <td>federal</td>\n",
              "      <td>PI</td>\n",
              "      <td>1458</td>\n",
              "      <td>ESTAÇÃO ECOLÓGICA DE CUNIÃ</td>\n",
              "    </tr>\n",
              "    <tr>\n",
              "      <th>1</th>\n",
              "      <td>MULTIPOLYGON (((-64.68027 -9.00384, -64.68246 ...</td>\n",
              "      <td>2008</td>\n",
              "      <td>Parque</td>\n",
              "      <td>federal</td>\n",
              "      <td>PI</td>\n",
              "      <td>1190</td>\n",
              "      <td>PARQUE NACIONAL MAPINGUARI</td>\n",
              "    </tr>\n",
              "    <tr>\n",
              "      <th>236</th>\n",
              "      <td>MULTIPOLYGON (((-63.93849 -8.55584, -63.94520 ...</td>\n",
              "      <td>1996</td>\n",
              "      <td>Floresta</td>\n",
              "      <td>estadual</td>\n",
              "      <td>US</td>\n",
              "      <td>217</td>\n",
              "      <td>FLORESTA ESTADUAL DE RENDIMENTO SUSTENTADO DO ...</td>\n",
              "    </tr>\n",
              "    <tr>\n",
              "      <th>172</th>\n",
              "      <td>POLYGON ((-65.65418 -8.14275, -65.64844 -8.136...</td>\n",
              "      <td>2008</td>\n",
              "      <td>Reserva Extrativista</td>\n",
              "      <td>federal</td>\n",
              "      <td>US</td>\n",
              "      <td>368</td>\n",
              "      <td>RESERVA EXTRATIVISTA ITUXí</td>\n",
              "    </tr>\n",
              "    <tr>\n",
              "      <th>157</th>\n",
              "      <td>MULTIPOLYGON (((-64.83439 -7.29127, -64.83388 ...</td>\n",
              "      <td>2008</td>\n",
              "      <td>Reserva Extrativista</td>\n",
              "      <td>federal</td>\n",
              "      <td>US</td>\n",
              "      <td>40</td>\n",
              "      <td>RESERVA EXTRATIVISTA DO MéDIO PURúS</td>\n",
              "    </tr>\n",
              "    <tr>\n",
              "      <th>151</th>\n",
              "      <td>GEOMETRYCOLLECTION (LINESTRING (-64.33393 -6.5...</td>\n",
              "      <td>2005</td>\n",
              "      <td>Floresta</td>\n",
              "      <td>federal</td>\n",
              "      <td>US</td>\n",
              "      <td>465</td>\n",
              "      <td>FLORESTA NACIONAL DE BALATA-TUFARI</td>\n",
              "    </tr>\n",
              "    <tr>\n",
              "      <th>276</th>\n",
              "      <td>POLYGON ((-64.80039 -6.86980, -64.79956 -6.867...</td>\n",
              "      <td>2009</td>\n",
              "      <td>Reserva Extrativista</td>\n",
              "      <td>estadual</td>\n",
              "      <td>US</td>\n",
              "      <td>1714</td>\n",
              "      <td>RESERVA EXTRATIVISTA CANUTAMA</td>\n",
              "    </tr>\n",
              "    <tr>\n",
              "      <th>235</th>\n",
              "      <td>POLYGON ((-64.25840 -6.25431, -64.25946 -6.255...</td>\n",
              "      <td>2009</td>\n",
              "      <td>Floresta</td>\n",
              "      <td>estadual</td>\n",
              "      <td>US</td>\n",
              "      <td>154</td>\n",
              "      <td>FLORESTA ESTADUAL CANUTAMA</td>\n",
              "    </tr>\n",
              "    <tr>\n",
              "      <th>318</th>\n",
              "      <td>MULTIPOLYGON (((-61.10330 -5.43110, -61.10320 ...</td>\n",
              "      <td>2006</td>\n",
              "      <td>Reserva de Desenvolvimento Sustentável</td>\n",
              "      <td>estadual</td>\n",
              "      <td>US</td>\n",
              "      <td>44</td>\n",
              "      <td>RESERVA DE DESENVOLVIMENTO SUSTENTAVEL DO RIO ...</td>\n",
              "    </tr>\n",
              "    <tr>\n",
              "      <th>51</th>\n",
              "      <td>POLYGON ((-60.74101 -5.15629, -60.73725 -5.165...</td>\n",
              "      <td>2009</td>\n",
              "      <td>Parque</td>\n",
              "      <td>estadual</td>\n",
              "      <td>PI</td>\n",
              "      <td>1148</td>\n",
              "      <td>PARQUE ESTADUAL DO MATUPIRI</td>\n",
              "    </tr>\n",
              "    <tr>\n",
              "      <th>329</th>\n",
              "      <td>POLYGON ((-61.04075 -4.97469, -61.03865 -4.977...</td>\n",
              "      <td>2009</td>\n",
              "      <td>Reserva de Desenvolvimento Sustentável</td>\n",
              "      <td>estadual</td>\n",
              "      <td>US</td>\n",
              "      <td>834</td>\n",
              "      <td>RESERVA DE DESENVOLVIMENTO SUSTENTÁVEL DO MATU...</td>\n",
              "    </tr>\n",
              "    <tr>\n",
              "      <th>234</th>\n",
              "      <td>GEOMETRYCOLLECTION (LINESTRING (-63.41146 -6.0...</td>\n",
              "      <td>2009</td>\n",
              "      <td>Floresta</td>\n",
              "      <td>estadual</td>\n",
              "      <td>US</td>\n",
              "      <td>1804</td>\n",
              "      <td>FLORESTA ESTADUAL DE TAPAUÁ</td>\n",
              "    </tr>\n",
              "    <tr>\n",
              "      <th>175</th>\n",
              "      <td>POLYGON ((-62.47781 -5.95958, -62.45416 -5.943...</td>\n",
              "      <td>2004</td>\n",
              "      <td>Reserva Extrativista</td>\n",
              "      <td>federal</td>\n",
              "      <td>US</td>\n",
              "      <td>518</td>\n",
              "      <td>RESERVA EXTRATIVISTA DO LAGO DO CAPANÃ GRANDE</td>\n",
              "    </tr>\n",
              "    <tr>\n",
              "      <th>3</th>\n",
              "      <td>POLYGON ((-63.14253 -5.79109, -63.14251 -5.791...</td>\n",
              "      <td>2008</td>\n",
              "      <td>Parque</td>\n",
              "      <td>federal</td>\n",
              "      <td>PI</td>\n",
              "      <td>1848</td>\n",
              "      <td>PARQUE NACIONAL NASCENTES DO LAGO JARI</td>\n",
              "    </tr>\n",
              "    <tr>\n",
              "      <th>327</th>\n",
              "      <td>POLYGON ((-62.07699 -5.42430, -62.06455 -5.407...</td>\n",
              "      <td>2005</td>\n",
              "      <td>Reserva de Desenvolvimento Sustentável</td>\n",
              "      <td>estadual</td>\n",
              "      <td>US</td>\n",
              "      <td>420</td>\n",
              "      <td>RESERVA DE DESENVOLVIMENTO SUSTENTÁVEL RIO AMAPÁ</td>\n",
              "    </tr>\n",
              "    <tr>\n",
              "      <th>29</th>\n",
              "      <td>POLYGON ((-63.21742 -5.23992, -63.21737 -5.239...</td>\n",
              "      <td>1982</td>\n",
              "      <td>Reserva Biológica</td>\n",
              "      <td>federal</td>\n",
              "      <td>PI</td>\n",
              "      <td>1555</td>\n",
              "      <td>RESERVA BIOLÓGICA DO ABUFARI</td>\n",
              "    </tr>\n",
              "    <tr>\n",
              "      <th>325</th>\n",
              "      <td>POLYGON ((-62.24814 -5.17471, -62.24642 -5.174...</td>\n",
              "      <td>2009</td>\n",
              "      <td>Reserva de Desenvolvimento Sustentável</td>\n",
              "      <td>estadual</td>\n",
              "      <td>US</td>\n",
              "      <td>524</td>\n",
              "      <td>RESERVA DE DESENVOLVIMENTO SUSTENTÁVEL IGAPÓ-AÇU</td>\n",
              "    </tr>\n",
              "    <tr>\n",
              "      <th>334</th>\n",
              "      <td>GEOMETRYCOLLECTION (LINESTRING (-62.72300 -4.8...</td>\n",
              "      <td>2003</td>\n",
              "      <td>Reserva de Desenvolvimento Sustentável</td>\n",
              "      <td>estadual</td>\n",
              "      <td>US</td>\n",
              "      <td>1453</td>\n",
              "      <td>RESERVA DE DESENVOLVIMENTO SUSTENTÁVEL PIAGAÇU...</td>\n",
              "    </tr>\n",
              "    <tr>\n",
              "      <th>328</th>\n",
              "      <td>POLYGON ((-60.69259 -3.11762, -60.72511 -3.093...</td>\n",
              "      <td>2008</td>\n",
              "      <td>Reserva de Desenvolvimento Sustentável</td>\n",
              "      <td>estadual</td>\n",
              "      <td>US</td>\n",
              "      <td>973</td>\n",
              "      <td>RESERVA DE DESENVOLVIMENTO SUSTENTÁVEL DO RIO ...</td>\n",
              "    </tr>\n",
              "    <tr>\n",
              "      <th>297</th>\n",
              "      <td>POLYGON ((-60.46059 -3.30313, -60.46803 -3.303...</td>\n",
              "      <td>1995</td>\n",
              "      <td>Área de Proteção Ambiental</td>\n",
              "      <td>estadual</td>\n",
              "      <td>US</td>\n",
              "      <td>2082</td>\n",
              "      <td>ÁREA DE PROTEÇÃO AMBIENTAL MARGEM DIREITA DO R...</td>\n",
              "    </tr>\n",
              "  </tbody>\n",
              "</table>\n",
              "</div>\n",
              "      <button class=\"colab-df-convert\" onclick=\"convertToInteractive('df-35fe495d-d18f-49aa-8412-32b9f42793c4')\"\n",
              "              title=\"Convert this dataframe to an interactive table.\"\n",
              "              style=\"display:none;\">\n",
              "        \n",
              "  <svg xmlns=\"http://www.w3.org/2000/svg\" height=\"24px\"viewBox=\"0 0 24 24\"\n",
              "       width=\"24px\">\n",
              "    <path d=\"M0 0h24v24H0V0z\" fill=\"none\"/>\n",
              "    <path d=\"M18.56 5.44l.94 2.06.94-2.06 2.06-.94-2.06-.94-.94-2.06-.94 2.06-2.06.94zm-11 1L8.5 8.5l.94-2.06 2.06-.94-2.06-.94L8.5 2.5l-.94 2.06-2.06.94zm10 10l.94 2.06.94-2.06 2.06-.94-2.06-.94-.94-2.06-.94 2.06-2.06.94z\"/><path d=\"M17.41 7.96l-1.37-1.37c-.4-.4-.92-.59-1.43-.59-.52 0-1.04.2-1.43.59L10.3 9.45l-7.72 7.72c-.78.78-.78 2.05 0 2.83L4 21.41c.39.39.9.59 1.41.59.51 0 1.02-.2 1.41-.59l7.78-7.78 2.81-2.81c.8-.78.8-2.07 0-2.86zM5.41 20L4 18.59l7.72-7.72 1.47 1.35L5.41 20z\"/>\n",
              "  </svg>\n",
              "      </button>\n",
              "      \n",
              "  <style>\n",
              "    .colab-df-container {\n",
              "      display:flex;\n",
              "      flex-wrap:wrap;\n",
              "      gap: 12px;\n",
              "    }\n",
              "\n",
              "    .colab-df-convert {\n",
              "      background-color: #E8F0FE;\n",
              "      border: none;\n",
              "      border-radius: 50%;\n",
              "      cursor: pointer;\n",
              "      display: none;\n",
              "      fill: #1967D2;\n",
              "      height: 32px;\n",
              "      padding: 0 0 0 0;\n",
              "      width: 32px;\n",
              "    }\n",
              "\n",
              "    .colab-df-convert:hover {\n",
              "      background-color: #E2EBFA;\n",
              "      box-shadow: 0px 1px 2px rgba(60, 64, 67, 0.3), 0px 1px 3px 1px rgba(60, 64, 67, 0.15);\n",
              "      fill: #174EA6;\n",
              "    }\n",
              "\n",
              "    [theme=dark] .colab-df-convert {\n",
              "      background-color: #3B4455;\n",
              "      fill: #D2E3FC;\n",
              "    }\n",
              "\n",
              "    [theme=dark] .colab-df-convert:hover {\n",
              "      background-color: #434B5C;\n",
              "      box-shadow: 0px 1px 3px 1px rgba(0, 0, 0, 0.15);\n",
              "      filter: drop-shadow(0px 1px 2px rgba(0, 0, 0, 0.3));\n",
              "      fill: #FFFFFF;\n",
              "    }\n",
              "  </style>\n",
              "\n",
              "      <script>\n",
              "        const buttonEl =\n",
              "          document.querySelector('#df-35fe495d-d18f-49aa-8412-32b9f42793c4 button.colab-df-convert');\n",
              "        buttonEl.style.display =\n",
              "          google.colab.kernel.accessAllowed ? 'block' : 'none';\n",
              "\n",
              "        async function convertToInteractive(key) {\n",
              "          const element = document.querySelector('#df-35fe495d-d18f-49aa-8412-32b9f42793c4');\n",
              "          const dataTable =\n",
              "            await google.colab.kernel.invokeFunction('convertToInteractive',\n",
              "                                                     [key], {});\n",
              "          if (!dataTable) return;\n",
              "\n",
              "          const docLinkHtml = 'Like what you see? Visit the ' +\n",
              "            '<a target=\"_blank\" href=https://colab.research.google.com/notebooks/data_table.ipynb>data table notebook</a>'\n",
              "            + ' to learn more about interactive tables.';\n",
              "          element.innerHTML = '';\n",
              "          dataTable['output_type'] = 'display_data';\n",
              "          await google.colab.output.renderOutput(dataTable, element);\n",
              "          const docLink = document.createElement('div');\n",
              "          docLink.innerHTML = docLinkHtml;\n",
              "          element.appendChild(docLink);\n",
              "        }\n",
              "      </script>\n",
              "    </div>\n",
              "  </div>\n",
              "  "
            ]
          },
          "metadata": {},
          "execution_count": 28
        }
      ]
    },
    {
      "cell_type": "code",
      "execution_count": null,
      "metadata": {
        "id": "gz-BU2iVSpSQ"
      },
      "outputs": [],
      "source": [
        "ucs_cliped_alap.to_csv('ucs_cliped_alap.csv', index= False)\n",
        "tis_cliped_alap.to_csv('tis_cliped_alap.csv', index= False)\n",
        "assAM_cliped_alap.to_csv('assAM_cliped_alap.csv', index= False)\n",
        "assRO_cliped_alap.to_csv('assRO_cliped_alap.csv', index= False)\n",
        "municipios_alap.to_csv('municipios_cliped_alap.csv', index= False)\n",
        "\n",
        "ucs_cliped_buffer.to_csv('ucs_cliped_buffer.csv', index= False)\n",
        "tis_cliped_buffer.to_csv('tis_cliped_buffer.csv', index= False)\n",
        "assAM_cliped_buffer.to_csv('assAM_cliped_buffer.csv', index= False)\n",
        "assRO_cliped_buffer.to_csv('assRO_cliped_buffer.csv', index= False)"
      ]
    },
    {
      "cell_type": "code",
      "execution_count": null,
      "metadata": {
        "colab": {
          "base_uri": "https://localhost:8080/",
          "height": 163
        },
        "id": "LzLus48Ee2yt",
        "outputId": "503289c8-b9f5-4980-ded1-f1929ecb80c6"
      },
      "outputs": [
        {
          "data": {
            "text/plain": [
              "<matplotlib.axes._subplots.AxesSubplot at 0x7fe5d8745910>"
            ]
          },
          "execution_count": 46,
          "metadata": {},
          "output_type": "execute_result"
        },
        {
          "data": {
            "image/png": "[encoded data removed]",
            "text/plain": [
              "<Figure size 432x288 with 1 Axes>"
            ]
          },
          "metadata": {},
          "output_type": "display_data"
        }
      ],
      "source": [
        "assRO_cliped_alap.plot()"
      ]
    },
    {
      "cell_type": "code",
      "execution_count": null,
      "metadata": {
        "colab": {
          "base_uri": "https://localhost:8080/",
          "height": 282
        },
        "id": "HyCM2rhBfFRq",
        "outputId": "3b49ab66-b3e5-4bd4-e2d2-2043f2b817c9"
      },
      "outputs": [
        {
          "data": {
            "text/plain": [
              "<matplotlib.axes._subplots.AxesSubplot at 0x7fe5df5c41d0>"
            ]
          },
          "execution_count": 7,
          "metadata": {},
          "output_type": "execute_result"
        },
        {
          "data": {
            "image/png": "[encoded data removed]",
            "text/plain": [
              "<Figure size 432x288 with 1 Axes>"
            ]
          },
          "metadata": {},
          "output_type": "display_data"
        }
      ],
      "source": [
        "tis_pd.plot()"
      ]
    },
    {
      "cell_type": "code",
      "execution_count": null,
      "metadata": {
        "colab": {
          "base_uri": "https://localhost:8080/",
          "height": 282
        },
        "id": "yOYZY6dMfJb0",
        "outputId": "8c7876bb-dde3-4b7a-ff26-8cb41de306de"
      },
      "outputs": [
        {
          "data": {
            "text/plain": [
              "<matplotlib.axes._subplots.AxesSubplot at 0x7fe5e8a84610>"
            ]
          },
          "execution_count": 10,
          "metadata": {},
          "output_type": "execute_result"
        },
        {
          "data": {
            "image/png": "[encoded data removed]",
            "text/plain": [
              "<Figure size 432x288 with 1 Axes>"
            ]
          },
          "metadata": {},
          "output_type": "display_data"
        }
      ],
      "source": [
        "tis_cliped = gpd.clip(tis_pd, alap_pd)\n",
        "tis_cliped.plot()"
      ]
    },
    {
      "cell_type": "code",
      "execution_count": null,
      "metadata": {
        "colab": {
          "base_uri": "https://localhost:8080/",
          "height": 282
        },
        "id": "JK_h5VLpT6co",
        "outputId": "daaa7d56-d2d7-4e5a-b60e-f3089a95f578"
      },
      "outputs": [
        {
          "data": {
            "text/plain": [
              "<matplotlib.axes._subplots.AxesSubplot at 0x7fe5e156c5d0>"
            ]
          },
          "execution_count": 11,
          "metadata": {},
          "output_type": "execute_result"
        },
        {
          "data": {
            "image/png": "[encoded data removed]",
            "text/plain": [
              "<Figure size 432x288 with 1 Axes>"
            ]
          },
          "metadata": {},
          "output_type": "display_data"
        }
      ],
      "source": [
        "ucs_cliped = gpd.clip(ucs_pd, alap_pd)\n",
        "ucs_cliped.plot()"
      ]
    },
    {
      "cell_type": "code",
      "execution_count": null,
      "metadata": {
        "id": "MR8uXdX-C4ge"
      },
      "outputs": [],
      "source": [
        "ucs_cliped_alap.to_csv('ucs_cliped_alap.csv', index= False)\n",
        "tis_cliped_alap.to_csv('tis_cliped_alap.csv', index= False)\n",
        "assAM_cliped_alap.to_csv('assAM_cliped_alap.csv', index= False)\n",
        "assRO_cliped_alap.to_csv('assRO_cliped_alap.csv', index= False)\n",
        "\n",
        "ucs_cliped_buffer.to_csv('ucs_cliped_buffer.csv', index= False)\n",
        "tis_cliped_buffer.to_csv('tis_cliped_buffer.csv', index= False)\n",
        "assAM_cliped_buffer.to_csv('assAM_cliped_buffer.csv', index= False)\n",
        "assRO_cliped_buffer.to_csv('assRO_cliped_buffer.csv', index= False)\n"
      ]
    },
    {
      "cell_type": "code",
      "execution_count": null,
      "metadata": {
        "id": "ODxBqVikSAS2"
      },
      "outputs": [],
      "source": []
    },
    {
      "cell_type": "code",
      "execution_count": null,
      "metadata": {
        "id": "dMdonpFOBoy0"
      },
      "outputs": [],
      "source": [
        "ucs_cliped.to_csv('ucs_cliped.csv')"
      ]
    },
    {
      "cell_type": "code",
      "execution_count": null,
      "metadata": {
        "id": "ge3inBj9g9tA"
      },
      "outputs": [],
      "source": [
        "envelope = tis_cliped.geometry.total_bounds\n",
        "aoi=ee.Geometry.Rectangle(envelope.tolist())"
      ]
    },
    {
      "cell_type": "code",
      "execution_count": null,
      "metadata": {
        "id": "BuOahj9LQjVG"
      },
      "outputs": [],
      "source": [
        "tis_cliped.to_file(\"tis_cliped.geojson\", driver='GeoJSON')"
      ]
    },
    {
      "cell_type": "code",
      "execution_count": null,
      "metadata": {
        "id": "lAhFKW-OFIGT"
      },
      "outputs": [],
      "source": [
        "fp = r\"/content/drive/MyDrive/MAPBIOMAS-EXPORT/ALAP319-2021.tif\"\n",
        "out_tif = r\"/content/drive/MyDrive/MAPBIOMAS-EXPORT/ALAP319-2021_cliped.tif\""
      ]
    },
    {
      "cell_type": "code",
      "execution_count": null,
      "metadata": {
        "id": "stIfmcE9Gku6"
      },
      "outputs": [],
      "source": [
        "data = rasterio.open(fp)"
      ]
    },
    {
      "cell_type": "code",
      "execution_count": null,
      "metadata": {
        "colab": {
          "base_uri": "https://localhost:8080/",
          "height": 284
        },
        "id": "JBNKOaJGGyWq",
        "outputId": "e3925673-1a39-4dfd-9f29-29c8e56da4df"
      },
      "outputs": [
        {
          "data": {
            "image/png": "[encoded data removed]",
            "text/plain": [
              "<Figure size 432x288 with 1 Axes>"
            ]
          },
          "metadata": {},
          "output_type": "display_data"
        },
        {
          "data": {
            "text/plain": [
              "<matplotlib.axes._subplots.AxesSubplot at 0x7faceb9a2290>"
            ]
          },
          "execution_count": 55,
          "metadata": {},
          "output_type": "execute_result"
        }
      ],
      "source": [
        "show((data, 1), cmap='terrain')"
      ]
    },
    {
      "cell_type": "code",
      "execution_count": null,
      "metadata": {
        "id": "7KqgyN-SG86Q"
      },
      "outputs": [],
      "source": [
        "out_img, out_transform = mask(data, tis_cliped.geometry, invert=False)"
      ]
    },
    {
      "cell_type": "code",
      "execution_count": null,
      "metadata": {
        "colab": {
          "base_uri": "https://localhost:8080/"
        },
        "id": "hB0ZHXkp4Eqz",
        "outputId": "baa6b944-fa57-4d22-de9a-6d6b36c029f3"
      },
      "outputs": [
        {
          "data": {
            "text/plain": [
              "affine.Affine"
            ]
          },
          "execution_count": 79,
          "metadata": {},
          "output_type": "execute_result"
        }
      ],
      "source": [
        "type(out_transform)"
      ]
    },
    {
      "cell_type": "code",
      "execution_count": null,
      "metadata": {
        "id": "BPmV-Z41I3Zu"
      },
      "outputs": [],
      "source": [
        "out_meta = data.meta.copy()"
      ]
    },
    {
      "cell_type": "code",
      "execution_count": null,
      "metadata": {
        "id": "7eKws3WrI-68"
      },
      "outputs": [],
      "source": [
        "epsg_code = int(data.crs.data['init'][5:])"
      ]
    },
    {
      "cell_type": "code",
      "execution_count": null,
      "metadata": {
        "colab": {
          "base_uri": "https://localhost:8080/"
        },
        "id": "x_e72ObxJA1N",
        "outputId": "426f2613-7a61-418f-ed51-9855631ce1c3"
      },
      "outputs": [
        {
          "name": "stdout",
          "output_type": "stream",
          "text": [
            "4326\n"
          ]
        }
      ],
      "source": [
        "print(epsg_code)"
      ]
    },
    {
      "cell_type": "code",
      "execution_count": null,
      "metadata": {
        "id": "rDQlT8leJGp_"
      },
      "outputs": [],
      "source": [
        "out_meta.update({\"driver\": \"GTiff\",\n",
        "                     \"height\": out_img.shape[1],\n",
        "                     \"width\": out_img.shape[2],\n",
        "                     \"transform\": out_transform,\n",
        "                     \"crs\": pycrs.parse.from_epsg_code(epsg_code).to_proj4()}\n",
        "                    )"
      ]
    },
    {
      "cell_type": "code",
      "execution_count": null,
      "metadata": {
        "id": "quMrIFvOKCb-"
      },
      "outputs": [],
      "source": [
        "with rasterio.open(out_tif, \"w\", **out_meta) as dest:\n",
        "  dest.write(out_img)"
      ]
    },
    {
      "cell_type": "code",
      "execution_count": null,
      "metadata": {
        "id": "vNsT9-wzK9y-"
      },
      "outputs": [],
      "source": [
        "import matplotlib.colors\n",
        "clipped = rasterio.open(out_tif)\n",
        "levels = [3, 4, 5, 9, 11, 12, 13, 15, 20, 21, 23, 24, 25, 29, 30, 31, 34, 33, \n",
        "          39, 40, 41, 46, 47, 48, 49 ]\n",
        "\n",
        "clrs = [\"#006400\", \"#00ff00\", \"#687537\", \"#ad4413\", \"#45c2a5\", \"#b8af4f\", \n",
        "        \"#f1c232\", \"#ffd966\", \"#c27ba0\", \"#fff3bf\", \"#dd7e6b\", \"#aa0000\", \n",
        "        \"#ff3d3d\", \"#665a3a\", \"#af2a2a\", \"#02106f\", \"#968c46\", \"#0000ff\", \n",
        "        \"#e075ad\", \"#982c9e\", \"#e787f8\", \"#cca0d4\", \"#d082de\", \"#cd49e4\", \n",
        "        \"#6b9932\" ]\n",
        "\n",
        "cmap, norm = matplotlib.colors.from_levels_and_colors(levels, clrs,extend='max')\n",
        "\n",
        "\n",
        "show((clipped, 1), cmap=cmap)"
      ]
    },
    {
      "cell_type": "code",
      "execution_count": null,
      "metadata": {
        "id": "H71idPbULb1c"
      },
      "outputs": [],
      "source": []
    },
    {
      "cell_type": "code",
      "execution_count": null,
      "metadata": {
        "id": "H1NJPpa3zbvK"
      },
      "outputs": [],
      "source": [
        "imagem_alap = ee.ImageCollection('projects/ee-alexandrepy/assets/AMAZONIA-LEGAL-2021')"
      ]
    },
    {
      "cell_type": "code",
      "execution_count": null,
      "metadata": {
        "id": "sEtHOUC375Mq"
      },
      "outputs": [],
      "source": [
        "mapbiomas = ee.Image('projects/ee-alexandrepy/assets/AMAZONIA-LEGAL-2021').select('b1').clip(aoi)"
      ]
    },
    {
      "cell_type": "code",
      "execution_count": null,
      "metadata": {
        "colab": {
          "base_uri": "https://localhost:8080/",
          "height": 472
        },
        "id": "sYQdbOP-427O",
        "outputId": "650b5230-3654-47fc-e90c-ae3b253991f9"
      },
      "outputs": [
        {
          "data": {
            "text/html": [
              "<img src=\"https://earthengine.googleapis.com/v1alpha/projects/earthengine-legacy/thumbnails/233169b2cde7c832382231feba78377b-df90f8bde2ca1bf71a2cf0f55054077a:getPixels\"/>"
            ],
            "text/plain": [
              "<IPython.core.display.Image object>"
            ]
          },
          "execution_count": 37,
          "metadata": {},
          "output_type": "execute_result"
        }
      ],
      "source": [
        "from IPython.display import Image\n",
        "parameters = {'min': 0,\n",
        "              'max': 10,\n",
        "              'dimensions': 512,\n",
        "              'region': aoi}\n",
        "\n",
        "Image(url = mapbiomas.getThumbUrl(parameters))"
      ]
    },
    {
      "cell_type": "code",
      "execution_count": null,
      "metadata": {
        "colab": {
          "base_uri": "https://localhost:8080/",
          "height": 597
        },
        "id": "J253hmxU5cGF",
        "outputId": "6f34566c-a31b-4a21-9c43-7fcbd364cd3f"
      },
      "outputs": [
        {
          "ename": "TypeError",
          "evalue": "ignored",
          "output_type": "error",
          "traceback": [
            "\u001b[0;31m---------------------------------------------------------------------------\u001b[0m",
            "\u001b[0;31mTypeError\u001b[0m                                 Traceback (most recent call last)",
            "\u001b[0;32m<ipython-input-42-9610171bcc57>\u001b[0m in \u001b[0;36m<module>\u001b[0;34m\u001b[0m\n\u001b[1;32m      4\u001b[0m \u001b[0mfp\u001b[0m \u001b[0;34m=\u001b[0m \u001b[0;34mr'/content/drive/MyDrive/MAPBIOMAS-EXPORT/ALAP319-1985.tif'\u001b[0m\u001b[0;34m\u001b[0m\u001b[0;34m\u001b[0m\u001b[0m\n\u001b[1;32m      5\u001b[0m \u001b[0mimg\u001b[0m \u001b[0;34m=\u001b[0m \u001b[0mrasterio\u001b[0m\u001b[0;34m.\u001b[0m\u001b[0mopen\u001b[0m\u001b[0;34m(\u001b[0m\u001b[0mfp\u001b[0m\u001b[0;34m)\u001b[0m\u001b[0;34m\u001b[0m\u001b[0;34m\u001b[0m\u001b[0m\n\u001b[0;32m----> 6\u001b[0;31m \u001b[0mshow\u001b[0m\u001b[0;34m(\u001b[0m\u001b[0mmapbiomas\u001b[0m\u001b[0;34m.\u001b[0m\u001b[0mgetThumbUrl\u001b[0m\u001b[0;34m(\u001b[0m\u001b[0mparameters\u001b[0m\u001b[0;34m)\u001b[0m\u001b[0;34m)\u001b[0m\u001b[0;34m\u001b[0m\u001b[0;34m\u001b[0m\u001b[0m\n\u001b[0m",
            "\u001b[0;32m/usr/local/lib/python3.7/dist-packages/rasterio/plot.py\u001b[0m in \u001b[0;36mshow\u001b[0;34m(source, with_bounds, contour, contour_label_kws, ax, title, transform, adjust, **kwargs)\u001b[0m\n\u001b[1;32m    145\u001b[0m             \u001b[0max\u001b[0m\u001b[0;34m.\u001b[0m\u001b[0mclabel\u001b[0m\u001b[0;34m(\u001b[0m\u001b[0mC\u001b[0m\u001b[0;34m,\u001b[0m \u001b[0;34m**\u001b[0m\u001b[0mcontour_label_kws\u001b[0m\u001b[0;34m)\u001b[0m\u001b[0;34m\u001b[0m\u001b[0;34m\u001b[0m\u001b[0m\n\u001b[1;32m    146\u001b[0m     \u001b[0;32melse\u001b[0m\u001b[0;34m:\u001b[0m\u001b[0;34m\u001b[0m\u001b[0;34m\u001b[0m\u001b[0m\n\u001b[0;32m--> 147\u001b[0;31m         \u001b[0max\u001b[0m\u001b[0;34m.\u001b[0m\u001b[0mimshow\u001b[0m\u001b[0;34m(\u001b[0m\u001b[0marr\u001b[0m\u001b[0;34m,\u001b[0m \u001b[0;34m**\u001b[0m\u001b[0mkwargs\u001b[0m\u001b[0;34m)\u001b[0m\u001b[0;34m\u001b[0m\u001b[0;34m\u001b[0m\u001b[0m\n\u001b[0m\u001b[1;32m    148\u001b[0m     \u001b[0;32mif\u001b[0m \u001b[0mtitle\u001b[0m\u001b[0;34m:\u001b[0m\u001b[0;34m\u001b[0m\u001b[0;34m\u001b[0m\u001b[0m\n\u001b[1;32m    149\u001b[0m         \u001b[0max\u001b[0m\u001b[0;34m.\u001b[0m\u001b[0mset_title\u001b[0m\u001b[0;34m(\u001b[0m\u001b[0mtitle\u001b[0m\u001b[0;34m,\u001b[0m \u001b[0mfontweight\u001b[0m\u001b[0;34m=\u001b[0m\u001b[0;34m'bold'\u001b[0m\u001b[0;34m)\u001b[0m\u001b[0;34m\u001b[0m\u001b[0;34m\u001b[0m\u001b[0m\n",
            "\u001b[0;32m/usr/local/lib/python3.7/dist-packages/matplotlib/__init__.py\u001b[0m in \u001b[0;36minner\u001b[0;34m(ax, data, *args, **kwargs)\u001b[0m\n\u001b[1;32m   1563\u001b[0m     \u001b[0;32mdef\u001b[0m \u001b[0minner\u001b[0m\u001b[0;34m(\u001b[0m\u001b[0max\u001b[0m\u001b[0;34m,\u001b[0m \u001b[0;34m*\u001b[0m\u001b[0margs\u001b[0m\u001b[0;34m,\u001b[0m \u001b[0mdata\u001b[0m\u001b[0;34m=\u001b[0m\u001b[0;32mNone\u001b[0m\u001b[0;34m,\u001b[0m \u001b[0;34m**\u001b[0m\u001b[0mkwargs\u001b[0m\u001b[0;34m)\u001b[0m\u001b[0;34m:\u001b[0m\u001b[0;34m\u001b[0m\u001b[0;34m\u001b[0m\u001b[0m\n\u001b[1;32m   1564\u001b[0m         \u001b[0;32mif\u001b[0m \u001b[0mdata\u001b[0m \u001b[0;32mis\u001b[0m \u001b[0;32mNone\u001b[0m\u001b[0;34m:\u001b[0m\u001b[0;34m\u001b[0m\u001b[0;34m\u001b[0m\u001b[0m\n\u001b[0;32m-> 1565\u001b[0;31m             \u001b[0;32mreturn\u001b[0m \u001b[0mfunc\u001b[0m\u001b[0;34m(\u001b[0m\u001b[0max\u001b[0m\u001b[0;34m,\u001b[0m \u001b[0;34m*\u001b[0m\u001b[0mmap\u001b[0m\u001b[0;34m(\u001b[0m\u001b[0msanitize_sequence\u001b[0m\u001b[0;34m,\u001b[0m \u001b[0margs\u001b[0m\u001b[0;34m)\u001b[0m\u001b[0;34m,\u001b[0m \u001b[0;34m**\u001b[0m\u001b[0mkwargs\u001b[0m\u001b[0;34m)\u001b[0m\u001b[0;34m\u001b[0m\u001b[0;34m\u001b[0m\u001b[0m\n\u001b[0m\u001b[1;32m   1566\u001b[0m \u001b[0;34m\u001b[0m\u001b[0m\n\u001b[1;32m   1567\u001b[0m         \u001b[0mbound\u001b[0m \u001b[0;34m=\u001b[0m \u001b[0mnew_sig\u001b[0m\u001b[0;34m.\u001b[0m\u001b[0mbind\u001b[0m\u001b[0;34m(\u001b[0m\u001b[0max\u001b[0m\u001b[0;34m,\u001b[0m \u001b[0;34m*\u001b[0m\u001b[0margs\u001b[0m\u001b[0;34m,\u001b[0m \u001b[0;34m**\u001b[0m\u001b[0mkwargs\u001b[0m\u001b[0;34m)\u001b[0m\u001b[0;34m\u001b[0m\u001b[0;34m\u001b[0m\u001b[0m\n",
            "\u001b[0;32m/usr/local/lib/python3.7/dist-packages/matplotlib/cbook/deprecation.py\u001b[0m in \u001b[0;36mwrapper\u001b[0;34m(*args, **kwargs)\u001b[0m\n\u001b[1;32m    356\u001b[0m                 \u001b[0;34mf\"%(removal)s.  If any parameter follows {name!r}, they \"\u001b[0m\u001b[0;34m\u001b[0m\u001b[0;34m\u001b[0m\u001b[0m\n\u001b[1;32m    357\u001b[0m                 f\"should be pass as keyword, not positionally.\")\n\u001b[0;32m--> 358\u001b[0;31m         \u001b[0;32mreturn\u001b[0m \u001b[0mfunc\u001b[0m\u001b[0;34m(\u001b[0m\u001b[0;34m*\u001b[0m\u001b[0margs\u001b[0m\u001b[0;34m,\u001b[0m \u001b[0;34m**\u001b[0m\u001b[0mkwargs\u001b[0m\u001b[0;34m)\u001b[0m\u001b[0;34m\u001b[0m\u001b[0;34m\u001b[0m\u001b[0m\n\u001b[0m\u001b[1;32m    359\u001b[0m \u001b[0;34m\u001b[0m\u001b[0m\n\u001b[1;32m    360\u001b[0m     \u001b[0;32mreturn\u001b[0m \u001b[0mwrapper\u001b[0m\u001b[0;34m\u001b[0m\u001b[0;34m\u001b[0m\u001b[0m\n",
            "\u001b[0;32m/usr/local/lib/python3.7/dist-packages/matplotlib/cbook/deprecation.py\u001b[0m in \u001b[0;36mwrapper\u001b[0;34m(*args, **kwargs)\u001b[0m\n\u001b[1;32m    356\u001b[0m                 \u001b[0;34mf\"%(removal)s.  If any parameter follows {name!r}, they \"\u001b[0m\u001b[0;34m\u001b[0m\u001b[0;34m\u001b[0m\u001b[0m\n\u001b[1;32m    357\u001b[0m                 f\"should be pass as keyword, not positionally.\")\n\u001b[0;32m--> 358\u001b[0;31m         \u001b[0;32mreturn\u001b[0m \u001b[0mfunc\u001b[0m\u001b[0;34m(\u001b[0m\u001b[0;34m*\u001b[0m\u001b[0margs\u001b[0m\u001b[0;34m,\u001b[0m \u001b[0;34m**\u001b[0m\u001b[0mkwargs\u001b[0m\u001b[0;34m)\u001b[0m\u001b[0;34m\u001b[0m\u001b[0;34m\u001b[0m\u001b[0m\n\u001b[0m\u001b[1;32m    359\u001b[0m \u001b[0;34m\u001b[0m\u001b[0m\n\u001b[1;32m    360\u001b[0m     \u001b[0;32mreturn\u001b[0m \u001b[0mwrapper\u001b[0m\u001b[0;34m\u001b[0m\u001b[0;34m\u001b[0m\u001b[0m\n",
            "\u001b[0;32m/usr/local/lib/python3.7/dist-packages/matplotlib/axes/_axes.py\u001b[0m in \u001b[0;36mimshow\u001b[0;34m(self, X, cmap, norm, aspect, interpolation, alpha, vmin, vmax, origin, extent, shape, filternorm, filterrad, imlim, resample, url, **kwargs)\u001b[0m\n\u001b[1;32m   5624\u001b[0m                               resample=resample, **kwargs)\n\u001b[1;32m   5625\u001b[0m \u001b[0;34m\u001b[0m\u001b[0m\n\u001b[0;32m-> 5626\u001b[0;31m         \u001b[0mim\u001b[0m\u001b[0;34m.\u001b[0m\u001b[0mset_data\u001b[0m\u001b[0;34m(\u001b[0m\u001b[0mX\u001b[0m\u001b[0;34m)\u001b[0m\u001b[0;34m\u001b[0m\u001b[0;34m\u001b[0m\u001b[0m\n\u001b[0m\u001b[1;32m   5627\u001b[0m         \u001b[0mim\u001b[0m\u001b[0;34m.\u001b[0m\u001b[0mset_alpha\u001b[0m\u001b[0;34m(\u001b[0m\u001b[0malpha\u001b[0m\u001b[0;34m)\u001b[0m\u001b[0;34m\u001b[0m\u001b[0;34m\u001b[0m\u001b[0m\n\u001b[1;32m   5628\u001b[0m         \u001b[0;32mif\u001b[0m \u001b[0mim\u001b[0m\u001b[0;34m.\u001b[0m\u001b[0mget_clip_path\u001b[0m\u001b[0;34m(\u001b[0m\u001b[0;34m)\u001b[0m \u001b[0;32mis\u001b[0m \u001b[0;32mNone\u001b[0m\u001b[0;34m:\u001b[0m\u001b[0;34m\u001b[0m\u001b[0;34m\u001b[0m\u001b[0m\n",
            "\u001b[0;32m/usr/local/lib/python3.7/dist-packages/matplotlib/image.py\u001b[0m in \u001b[0;36mset_data\u001b[0;34m(self, A)\u001b[0m\n\u001b[1;32m    692\u001b[0m                 not np.can_cast(self._A.dtype, float, \"same_kind\")):\n\u001b[1;32m    693\u001b[0m             raise TypeError(\"Image data of dtype {} cannot be converted to \"\n\u001b[0;32m--> 694\u001b[0;31m                             \"float\".format(self._A.dtype))\n\u001b[0m\u001b[1;32m    695\u001b[0m \u001b[0;34m\u001b[0m\u001b[0m\n\u001b[1;32m    696\u001b[0m         if not (self._A.ndim == 2\n",
            "\u001b[0;31mTypeError\u001b[0m: Image data of dtype <U157 cannot be converted to float"
          ]
        },
        {
          "data": {
            "image/png": "[encoded data removed]",
            "text/plain": [
              "<Figure size 432x288 with 1 Axes>"
            ]
          },
          "metadata": {},
          "output_type": "display_data"
        }
      ],
      "source": []
    },
    {
      "cell_type": "code",
      "execution_count": null,
      "metadata": {
        "colab": {
          "base_uri": "https://localhost:8080/",
          "height": 284
        },
        "id": "DxSyWo6058GA",
        "outputId": "fa8530b0-41d2-426e-afe3-8dcf6c355845"
      },
      "outputs": [
        {
          "data": {
            "image/png": "[encoded data removed]",
            "text/plain": [
              "<Figure size 432x288 with 1 Axes>"
            ]
          },
          "metadata": {},
          "output_type": "display_data"
        },
        {
          "data": {
            "text/plain": [
              "<matplotlib.axes._subplots.AxesSubplot at 0x7facec3f41d0>"
            ]
          },
          "execution_count": 39,
          "metadata": {},
          "output_type": "execute_result"
        }
      ],
      "source": [
        "fp = r'/content/drive/MyDrive/MAPBIOMAS-EXPORT/ALAP319-2021.tif'\n",
        "img = rasterio.open(fp)\n",
        "show(img)"
      ]
    },
    {
      "cell_type": "code",
      "execution_count": null,
      "metadata": {
        "colab": {
          "base_uri": "https://localhost:8080/"
        },
        "id": "Mj8eQt9U4qxP",
        "outputId": "c067d6e9-c7f8-4d91-e9be-1628be4b23f0"
      },
      "outputs": [
        {
          "data": {
            "text/plain": [
              "<ee.image.Image at 0x7facec9531d0>"
            ]
          },
          "execution_count": 31,
          "metadata": {},
          "output_type": "execute_result"
        }
      ],
      "source": [
        "mapbiomas"
      ]
    },
    {
      "cell_type": "code",
      "execution_count": null,
      "metadata": {
        "colab": {
          "base_uri": "https://localhost:8080/",
          "height": 554
        },
        "id": "CoA_gOzPhS91",
        "outputId": "6595a486-c300-4e3c-8bab-ca1d1e80a0ff"
      },
      "outputs": [
        {
          "ename": "EEException",
          "evalue": "ignored",
          "output_type": "error",
          "traceback": [
            "\u001b[0;31m---------------------------------------------------------------------------\u001b[0m",
            "\u001b[0;31mHttpError\u001b[0m                                 Traceback (most recent call last)",
            "\u001b[0;32m/usr/local/lib/python3.7/dist-packages/ee/data.py\u001b[0m in \u001b[0;36m_execute_cloud_call\u001b[0;34m(call, num_retries)\u001b[0m\n\u001b[1;32m    327\u001b[0m   \u001b[0;32mtry\u001b[0m\u001b[0;34m:\u001b[0m\u001b[0;34m\u001b[0m\u001b[0;34m\u001b[0m\u001b[0m\n\u001b[0;32m--> 328\u001b[0;31m     \u001b[0;32mreturn\u001b[0m \u001b[0mcall\u001b[0m\u001b[0;34m.\u001b[0m\u001b[0mexecute\u001b[0m\u001b[0;34m(\u001b[0m\u001b[0mnum_retries\u001b[0m\u001b[0;34m=\u001b[0m\u001b[0mnum_retries\u001b[0m\u001b[0;34m)\u001b[0m\u001b[0;34m\u001b[0m\u001b[0;34m\u001b[0m\u001b[0m\n\u001b[0m\u001b[1;32m    329\u001b[0m   \u001b[0;32mexcept\u001b[0m \u001b[0mgoogleapiclient\u001b[0m\u001b[0;34m.\u001b[0m\u001b[0merrors\u001b[0m\u001b[0;34m.\u001b[0m\u001b[0mHttpError\u001b[0m \u001b[0;32mas\u001b[0m \u001b[0me\u001b[0m\u001b[0;34m:\u001b[0m\u001b[0;34m\u001b[0m\u001b[0;34m\u001b[0m\u001b[0m\n",
            "\u001b[0;32m/usr/local/lib/python3.7/dist-packages/googleapiclient/_helpers.py\u001b[0m in \u001b[0;36mpositional_wrapper\u001b[0;34m(*args, **kwargs)\u001b[0m\n\u001b[1;32m    133\u001b[0m                     \u001b[0mlogger\u001b[0m\u001b[0;34m.\u001b[0m\u001b[0mwarning\u001b[0m\u001b[0;34m(\u001b[0m\u001b[0mmessage\u001b[0m\u001b[0;34m)\u001b[0m\u001b[0;34m\u001b[0m\u001b[0;34m\u001b[0m\u001b[0m\n\u001b[0;32m--> 134\u001b[0;31m             \u001b[0;32mreturn\u001b[0m \u001b[0mwrapped\u001b[0m\u001b[0;34m(\u001b[0m\u001b[0;34m*\u001b[0m\u001b[0margs\u001b[0m\u001b[0;34m,\u001b[0m \u001b[0;34m**\u001b[0m\u001b[0mkwargs\u001b[0m\u001b[0;34m)\u001b[0m\u001b[0;34m\u001b[0m\u001b[0;34m\u001b[0m\u001b[0m\n\u001b[0m\u001b[1;32m    135\u001b[0m \u001b[0;34m\u001b[0m\u001b[0m\n",
            "\u001b[0;32m/usr/local/lib/python3.7/dist-packages/googleapiclient/http.py\u001b[0m in \u001b[0;36mexecute\u001b[0;34m(self, http, num_retries)\u001b[0m\n\u001b[1;32m    914\u001b[0m         \u001b[0;32mif\u001b[0m \u001b[0mresp\u001b[0m\u001b[0;34m.\u001b[0m\u001b[0mstatus\u001b[0m \u001b[0;34m>=\u001b[0m \u001b[0;36m300\u001b[0m\u001b[0;34m:\u001b[0m\u001b[0;34m\u001b[0m\u001b[0;34m\u001b[0m\u001b[0m\n\u001b[0;32m--> 915\u001b[0;31m             \u001b[0;32mraise\u001b[0m \u001b[0mHttpError\u001b[0m\u001b[0;34m(\u001b[0m\u001b[0mresp\u001b[0m\u001b[0;34m,\u001b[0m \u001b[0mcontent\u001b[0m\u001b[0;34m,\u001b[0m \u001b[0muri\u001b[0m\u001b[0;34m=\u001b[0m\u001b[0mself\u001b[0m\u001b[0;34m.\u001b[0m\u001b[0muri\u001b[0m\u001b[0;34m)\u001b[0m\u001b[0;34m\u001b[0m\u001b[0;34m\u001b[0m\u001b[0m\n\u001b[0m\u001b[1;32m    916\u001b[0m         \u001b[0;32mreturn\u001b[0m \u001b[0mself\u001b[0m\u001b[0;34m.\u001b[0m\u001b[0mpostproc\u001b[0m\u001b[0;34m(\u001b[0m\u001b[0mresp\u001b[0m\u001b[0;34m,\u001b[0m \u001b[0mcontent\u001b[0m\u001b[0;34m)\u001b[0m\u001b[0;34m\u001b[0m\u001b[0;34m\u001b[0m\u001b[0m\n",
            "\u001b[0;31mHttpError\u001b[0m: <HttpError 400 when requesting https://earthengine.googleapis.com/v1alpha/projects/earthengine-legacy/thumbnails?fields=name&alt=json returned \"Image.clipToBoundsAndScale, argument 'geometry': Invalid type.\nExpected type: Geometry.\nActual type: Image<[b1]>.\". Details: \"Image.clipToBoundsAndScale, argument 'geometry': Invalid type.\nExpected type: Geometry.\nActual type: Image<[b1]>.\">",
            "\nDuring handling of the above exception, another exception occurred:\n",
            "\u001b[0;31mEEException\u001b[0m                               Traceback (most recent call last)",
            "\u001b[0;32m<ipython-input-22-0830933d7cd6>\u001b[0m in \u001b[0;36m<module>\u001b[0;34m\u001b[0m\n\u001b[1;32m      5\u001b[0m               'region': mapbiomas}\n\u001b[1;32m      6\u001b[0m \u001b[0;34m\u001b[0m\u001b[0m\n\u001b[0;32m----> 7\u001b[0;31m \u001b[0mImage\u001b[0m\u001b[0;34m(\u001b[0m\u001b[0murl\u001b[0m \u001b[0;34m=\u001b[0m \u001b[0mmapbiomas\u001b[0m\u001b[0;34m.\u001b[0m\u001b[0mgetThumbUrl\u001b[0m\u001b[0;34m(\u001b[0m\u001b[0mparameters\u001b[0m\u001b[0;34m)\u001b[0m\u001b[0;34m)\u001b[0m\u001b[0;34m\u001b[0m\u001b[0;34m\u001b[0m\u001b[0m\n\u001b[0m",
            "\u001b[0;32m/usr/local/lib/python3.7/dist-packages/ee/deprecation.py\u001b[0m in \u001b[0;36mWrapper\u001b[0;34m(*args, **kwargs)\u001b[0m\n\u001b[1;32m     30\u001b[0m           \u001b[0mfilename\u001b[0m\u001b[0;34m=\u001b[0m\u001b[0mfunc\u001b[0m\u001b[0;34m.\u001b[0m\u001b[0m__code__\u001b[0m\u001b[0;34m.\u001b[0m\u001b[0mco_filename\u001b[0m\u001b[0;34m,\u001b[0m\u001b[0;34m\u001b[0m\u001b[0;34m\u001b[0m\u001b[0m\n\u001b[1;32m     31\u001b[0m           lineno=func.__code__.co_firstlineno + 1)\n\u001b[0;32m---> 32\u001b[0;31m       \u001b[0;32mreturn\u001b[0m \u001b[0mfunc\u001b[0m\u001b[0;34m(\u001b[0m\u001b[0;34m*\u001b[0m\u001b[0margs\u001b[0m\u001b[0;34m,\u001b[0m \u001b[0;34m**\u001b[0m\u001b[0mkwargs\u001b[0m\u001b[0;34m)\u001b[0m\u001b[0;34m\u001b[0m\u001b[0;34m\u001b[0m\u001b[0m\n\u001b[0m\u001b[1;32m     33\u001b[0m     \u001b[0mdeprecation_message\u001b[0m \u001b[0;34m=\u001b[0m \u001b[0;34m'\\nDEPRECATED: '\u001b[0m \u001b[0;34m+\u001b[0m \u001b[0mmessage\u001b[0m\u001b[0;34m\u001b[0m\u001b[0;34m\u001b[0m\u001b[0m\n\u001b[1;32m     34\u001b[0m     \u001b[0;32mtry\u001b[0m\u001b[0;34m:\u001b[0m\u001b[0;34m\u001b[0m\u001b[0;34m\u001b[0m\u001b[0m\n",
            "\u001b[0;32m/usr/local/lib/python3.7/dist-packages/ee/image.py\u001b[0m in \u001b[0;36mgetThumbURL\u001b[0;34m(self, params)\u001b[0m\n\u001b[1;32m    520\u001b[0m     \u001b[0;31m# If it isn't enabled, we have to be bug-for-bug compatible with current\u001b[0m\u001b[0;34m\u001b[0m\u001b[0;34m\u001b[0m\u001b[0;34m\u001b[0m\u001b[0m\n\u001b[1;32m    521\u001b[0m     \u001b[0;31m# behaviour.\u001b[0m\u001b[0;34m\u001b[0m\u001b[0;34m\u001b[0m\u001b[0;34m\u001b[0m\u001b[0m\n\u001b[0;32m--> 522\u001b[0;31m     \u001b[0;32mreturn\u001b[0m \u001b[0mdata\u001b[0m\u001b[0;34m.\u001b[0m\u001b[0mmakeThumbUrl\u001b[0m\u001b[0;34m(\u001b[0m\u001b[0mself\u001b[0m\u001b[0;34m.\u001b[0m\u001b[0mgetThumbId\u001b[0m\u001b[0;34m(\u001b[0m\u001b[0mparams\u001b[0m\u001b[0;34m)\u001b[0m\u001b[0;34m)\u001b[0m\u001b[0;34m\u001b[0m\u001b[0;34m\u001b[0m\u001b[0m\n\u001b[0m\u001b[1;32m    523\u001b[0m \u001b[0;34m\u001b[0m\u001b[0m\n\u001b[1;32m    524\u001b[0m   \u001b[0;31m# Deprecated spellings to match the JS library.\u001b[0m\u001b[0;34m\u001b[0m\u001b[0;34m\u001b[0m\u001b[0;34m\u001b[0m\u001b[0m\n",
            "\u001b[0;32m/usr/local/lib/python3.7/dist-packages/ee/image.py\u001b[0m in \u001b[0;36mgetThumbId\u001b[0;34m(self, params)\u001b[0m\n\u001b[1;32m    493\u001b[0m     \u001b[0mimage\u001b[0m\u001b[0;34m,\u001b[0m \u001b[0mparams\u001b[0m \u001b[0;34m=\u001b[0m \u001b[0mimage\u001b[0m\u001b[0;34m.\u001b[0m\u001b[0m_apply_visualization\u001b[0m\u001b[0;34m(\u001b[0m\u001b[0mparams\u001b[0m\u001b[0;34m)\u001b[0m  \u001b[0;31m# pylint: disable=protected-access\u001b[0m\u001b[0;34m\u001b[0m\u001b[0;34m\u001b[0m\u001b[0m\n\u001b[1;32m    494\u001b[0m     \u001b[0mparams\u001b[0m\u001b[0;34m[\u001b[0m\u001b[0;34m'image'\u001b[0m\u001b[0;34m]\u001b[0m \u001b[0;34m=\u001b[0m \u001b[0mimage\u001b[0m\u001b[0;34m\u001b[0m\u001b[0;34m\u001b[0m\u001b[0m\n\u001b[0;32m--> 495\u001b[0;31m     \u001b[0;32mreturn\u001b[0m \u001b[0mdata\u001b[0m\u001b[0;34m.\u001b[0m\u001b[0mgetThumbId\u001b[0m\u001b[0;34m(\u001b[0m\u001b[0mparams\u001b[0m\u001b[0;34m)\u001b[0m\u001b[0;34m\u001b[0m\u001b[0;34m\u001b[0m\u001b[0m\n\u001b[0m\u001b[1;32m    496\u001b[0m \u001b[0;34m\u001b[0m\u001b[0m\n\u001b[1;32m    497\u001b[0m   \u001b[0;32mdef\u001b[0m \u001b[0mgetThumbURL\u001b[0m\u001b[0;34m(\u001b[0m\u001b[0mself\u001b[0m\u001b[0;34m,\u001b[0m \u001b[0mparams\u001b[0m\u001b[0;34m=\u001b[0m\u001b[0;32mNone\u001b[0m\u001b[0;34m)\u001b[0m\u001b[0;34m:\u001b[0m\u001b[0;34m\u001b[0m\u001b[0;34m\u001b[0m\u001b[0m\n",
            "\u001b[0;32m/usr/local/lib/python3.7/dist-packages/ee/data.py\u001b[0m in \u001b[0;36mgetThumbId\u001b[0;34m(params, thumbType)\u001b[0m\n\u001b[1;32m    869\u001b[0m     result = _execute_cloud_call(\n\u001b[1;32m    870\u001b[0m         _get_cloud_api_resource().projects().thumbnails().create(\n\u001b[0;32m--> 871\u001b[0;31m             parent=_get_projects_path(), fields='name', body=request))\n\u001b[0m\u001b[1;32m    872\u001b[0m   \u001b[0;32mreturn\u001b[0m \u001b[0;34m{\u001b[0m\u001b[0;34m'thumbid'\u001b[0m\u001b[0;34m:\u001b[0m \u001b[0mresult\u001b[0m\u001b[0;34m[\u001b[0m\u001b[0;34m'name'\u001b[0m\u001b[0;34m]\u001b[0m\u001b[0;34m,\u001b[0m \u001b[0;34m'token'\u001b[0m\u001b[0;34m:\u001b[0m \u001b[0;34m''\u001b[0m\u001b[0;34m}\u001b[0m\u001b[0;34m\u001b[0m\u001b[0;34m\u001b[0m\u001b[0m\n\u001b[1;32m    873\u001b[0m \u001b[0;34m\u001b[0m\u001b[0m\n",
            "\u001b[0;32m/usr/local/lib/python3.7/dist-packages/ee/data.py\u001b[0m in \u001b[0;36m_execute_cloud_call\u001b[0;34m(call, num_retries)\u001b[0m\n\u001b[1;32m    328\u001b[0m     \u001b[0;32mreturn\u001b[0m \u001b[0mcall\u001b[0m\u001b[0;34m.\u001b[0m\u001b[0mexecute\u001b[0m\u001b[0;34m(\u001b[0m\u001b[0mnum_retries\u001b[0m\u001b[0;34m=\u001b[0m\u001b[0mnum_retries\u001b[0m\u001b[0;34m)\u001b[0m\u001b[0;34m\u001b[0m\u001b[0;34m\u001b[0m\u001b[0m\n\u001b[1;32m    329\u001b[0m   \u001b[0;32mexcept\u001b[0m \u001b[0mgoogleapiclient\u001b[0m\u001b[0;34m.\u001b[0m\u001b[0merrors\u001b[0m\u001b[0;34m.\u001b[0m\u001b[0mHttpError\u001b[0m \u001b[0;32mas\u001b[0m \u001b[0me\u001b[0m\u001b[0;34m:\u001b[0m\u001b[0;34m\u001b[0m\u001b[0;34m\u001b[0m\u001b[0m\n\u001b[0;32m--> 330\u001b[0;31m     \u001b[0;32mraise\u001b[0m \u001b[0m_translate_cloud_exception\u001b[0m\u001b[0;34m(\u001b[0m\u001b[0me\u001b[0m\u001b[0;34m)\u001b[0m\u001b[0;34m\u001b[0m\u001b[0;34m\u001b[0m\u001b[0m\n\u001b[0m\u001b[1;32m    331\u001b[0m \u001b[0;34m\u001b[0m\u001b[0m\n\u001b[1;32m    332\u001b[0m \u001b[0;34m\u001b[0m\u001b[0m\n",
            "\u001b[0;31mEEException\u001b[0m: Image.clipToBoundsAndScale, argument 'geometry': Invalid type.\nExpected type: Geometry.\nActual type: Image<[b1]>."
          ]
        }
      ],
      "source": [
        "from IPython.display import Image\n",
        "parameters = {'min': 0,\n",
        "              'max': 33,\n",
        "              'dimensions': 512,\n",
        "              'region': mapbiomas}\n",
        "\n",
        "Image(url = mapbiomas.getThumbUrl(parameters))"
      ]
    },
    {
      "cell_type": "code",
      "execution_count": null,
      "metadata": {
        "colab": {
          "base_uri": "https://localhost:8080/",
          "height": 328
        },
        "id": "OuzzLne84glY",
        "outputId": "98121638-24ac-43f6-e19f-fb5098babf74"
      },
      "outputs": [
        {
          "ename": "ValueError",
          "evalue": "ignored",
          "output_type": "error",
          "traceback": [
            "\u001b[0;31m---------------------------------------------------------------------------\u001b[0m",
            "\u001b[0;31mValueError\u001b[0m                                Traceback (most recent call last)",
            "\u001b[0;32m<ipython-input-11-ff6e8ecce99c>\u001b[0m in \u001b[0;36m<module>\u001b[0;34m\u001b[0m\n\u001b[1;32m      1\u001b[0m \u001b[0mpoints_clip\u001b[0m \u001b[0;34m=\u001b[0m \u001b[0mgpd\u001b[0m\u001b[0;34m.\u001b[0m\u001b[0mclip\u001b[0m\u001b[0;34m(\u001b[0m\u001b[0mtis_pd\u001b[0m\u001b[0;34m,\u001b[0m \u001b[0malap_pd\u001b[0m\u001b[0;34m)\u001b[0m\u001b[0;34m\u001b[0m\u001b[0;34m\u001b[0m\u001b[0m\n\u001b[0;32m----> 2\u001b[0;31m \u001b[0mtis_clip\u001b[0m \u001b[0;34m=\u001b[0m \u001b[0mgeemap\u001b[0m\u001b[0;34m.\u001b[0m\u001b[0mgeopandas_to_ee\u001b[0m\u001b[0;34m(\u001b[0m\u001b[0mpoints_clip\u001b[0m\u001b[0;34m)\u001b[0m\u001b[0;34m\u001b[0m\u001b[0;34m\u001b[0m\u001b[0m\n\u001b[0m",
            "\u001b[0;32m/usr/local/lib/python3.7/dist-packages/geemap/common.py\u001b[0m in \u001b[0;36mgdf_to_ee\u001b[0;34m(gdf, geodesic, date, date_format)\u001b[0m\n\u001b[1;32m   8890\u001b[0m \u001b[0;34m\u001b[0m\u001b[0m\n\u001b[1;32m   8891\u001b[0m     \u001b[0mout_json\u001b[0m \u001b[0;34m=\u001b[0m \u001b[0mos\u001b[0m\u001b[0;34m.\u001b[0m\u001b[0mpath\u001b[0m\u001b[0;34m.\u001b[0m\u001b[0mjoin\u001b[0m\u001b[0;34m(\u001b[0m\u001b[0mos\u001b[0m\u001b[0;34m.\u001b[0m\u001b[0mgetcwd\u001b[0m\u001b[0;34m(\u001b[0m\u001b[0;34m)\u001b[0m\u001b[0;34m,\u001b[0m \u001b[0mrandom_string\u001b[0m\u001b[0;34m(\u001b[0m\u001b[0;36m6\u001b[0m\u001b[0;34m)\u001b[0m \u001b[0;34m+\u001b[0m \u001b[0;34m\".geojson\"\u001b[0m\u001b[0;34m)\u001b[0m\u001b[0;34m\u001b[0m\u001b[0;34m\u001b[0m\u001b[0m\n\u001b[0;32m-> 8892\u001b[0;31m     \u001b[0mgdf\u001b[0m \u001b[0;34m=\u001b[0m \u001b[0mgdf\u001b[0m\u001b[0;34m.\u001b[0m\u001b[0mto_crs\u001b[0m\u001b[0;34m(\u001b[0m\u001b[0;36m4326\u001b[0m\u001b[0;34m)\u001b[0m\u001b[0;34m\u001b[0m\u001b[0;34m\u001b[0m\u001b[0m\n\u001b[0m\u001b[1;32m   8893\u001b[0m     \u001b[0mgdf\u001b[0m\u001b[0;34m.\u001b[0m\u001b[0mto_file\u001b[0m\u001b[0;34m(\u001b[0m\u001b[0mout_json\u001b[0m\u001b[0;34m,\u001b[0m \u001b[0mdriver\u001b[0m\u001b[0;34m=\u001b[0m\u001b[0;34m\"GeoJSON\"\u001b[0m\u001b[0;34m)\u001b[0m\u001b[0;34m\u001b[0m\u001b[0;34m\u001b[0m\u001b[0m\n\u001b[1;32m   8894\u001b[0m \u001b[0;34m\u001b[0m\u001b[0m\n",
            "\u001b[0;32m/usr/local/lib/python3.7/dist-packages/geopandas/geodataframe.py\u001b[0m in \u001b[0;36mto_crs\u001b[0;34m(self, crs, epsg, inplace)\u001b[0m\n\u001b[1;32m   1273\u001b[0m         \u001b[0;32melse\u001b[0m\u001b[0;34m:\u001b[0m\u001b[0;34m\u001b[0m\u001b[0;34m\u001b[0m\u001b[0m\n\u001b[1;32m   1274\u001b[0m             \u001b[0mdf\u001b[0m \u001b[0;34m=\u001b[0m \u001b[0mself\u001b[0m\u001b[0;34m.\u001b[0m\u001b[0mcopy\u001b[0m\u001b[0;34m(\u001b[0m\u001b[0;34m)\u001b[0m\u001b[0;34m\u001b[0m\u001b[0;34m\u001b[0m\u001b[0m\n\u001b[0;32m-> 1275\u001b[0;31m         \u001b[0mgeom\u001b[0m \u001b[0;34m=\u001b[0m \u001b[0mdf\u001b[0m\u001b[0;34m.\u001b[0m\u001b[0mgeometry\u001b[0m\u001b[0;34m.\u001b[0m\u001b[0mto_crs\u001b[0m\u001b[0;34m(\u001b[0m\u001b[0mcrs\u001b[0m\u001b[0;34m=\u001b[0m\u001b[0mcrs\u001b[0m\u001b[0;34m,\u001b[0m \u001b[0mepsg\u001b[0m\u001b[0;34m=\u001b[0m\u001b[0mepsg\u001b[0m\u001b[0;34m)\u001b[0m\u001b[0;34m\u001b[0m\u001b[0;34m\u001b[0m\u001b[0m\n\u001b[0m\u001b[1;32m   1276\u001b[0m         \u001b[0mdf\u001b[0m\u001b[0;34m.\u001b[0m\u001b[0mgeometry\u001b[0m \u001b[0;34m=\u001b[0m \u001b[0mgeom\u001b[0m\u001b[0;34m\u001b[0m\u001b[0;34m\u001b[0m\u001b[0m\n\u001b[1;32m   1277\u001b[0m         \u001b[0mdf\u001b[0m\u001b[0;34m.\u001b[0m\u001b[0mcrs\u001b[0m \u001b[0;34m=\u001b[0m \u001b[0mgeom\u001b[0m\u001b[0;34m.\u001b[0m\u001b[0mcrs\u001b[0m\u001b[0;34m\u001b[0m\u001b[0;34m\u001b[0m\u001b[0m\n",
            "\u001b[0;32m/usr/local/lib/python3.7/dist-packages/geopandas/geoseries.py\u001b[0m in \u001b[0;36mto_crs\u001b[0;34m(self, crs, epsg)\u001b[0m\n\u001b[1;32m   1118\u001b[0m         \"\"\"\n\u001b[1;32m   1119\u001b[0m         return GeoSeries(\n\u001b[0;32m-> 1120\u001b[0;31m             \u001b[0mself\u001b[0m\u001b[0;34m.\u001b[0m\u001b[0mvalues\u001b[0m\u001b[0;34m.\u001b[0m\u001b[0mto_crs\u001b[0m\u001b[0;34m(\u001b[0m\u001b[0mcrs\u001b[0m\u001b[0;34m=\u001b[0m\u001b[0mcrs\u001b[0m\u001b[0;34m,\u001b[0m \u001b[0mepsg\u001b[0m\u001b[0;34m=\u001b[0m\u001b[0mepsg\u001b[0m\u001b[0;34m)\u001b[0m\u001b[0;34m,\u001b[0m \u001b[0mindex\u001b[0m\u001b[0;34m=\u001b[0m\u001b[0mself\u001b[0m\u001b[0;34m.\u001b[0m\u001b[0mindex\u001b[0m\u001b[0;34m,\u001b[0m \u001b[0mname\u001b[0m\u001b[0;34m=\u001b[0m\u001b[0mself\u001b[0m\u001b[0;34m.\u001b[0m\u001b[0mname\u001b[0m\u001b[0;34m\u001b[0m\u001b[0;34m\u001b[0m\u001b[0m\n\u001b[0m\u001b[1;32m   1121\u001b[0m         )\n\u001b[1;32m   1122\u001b[0m \u001b[0;34m\u001b[0m\u001b[0m\n",
            "\u001b[0;32m/usr/local/lib/python3.7/dist-packages/geopandas/array.py\u001b[0m in \u001b[0;36mto_crs\u001b[0;34m(self, crs, epsg)\u001b[0m\n\u001b[1;32m    762\u001b[0m         \u001b[0;32mif\u001b[0m \u001b[0mself\u001b[0m\u001b[0;34m.\u001b[0m\u001b[0mcrs\u001b[0m \u001b[0;32mis\u001b[0m \u001b[0;32mNone\u001b[0m\u001b[0;34m:\u001b[0m\u001b[0;34m\u001b[0m\u001b[0;34m\u001b[0m\u001b[0m\n\u001b[1;32m    763\u001b[0m             raise ValueError(\n\u001b[0;32m--> 764\u001b[0;31m                 \u001b[0;34m\"Cannot transform naive geometries.  \"\u001b[0m\u001b[0;34m\u001b[0m\u001b[0;34m\u001b[0m\u001b[0m\n\u001b[0m\u001b[1;32m    765\u001b[0m                 \u001b[0;34m\"Please set a crs on the object first.\"\u001b[0m\u001b[0;34m\u001b[0m\u001b[0;34m\u001b[0m\u001b[0m\n\u001b[1;32m    766\u001b[0m             )\n",
            "\u001b[0;31mValueError\u001b[0m: Cannot transform naive geometries.  Please set a crs on the object first."
          ]
        }
      ],
      "source": [
        "points_clip = gpd.clip(tis_pd, alap_pd)\n",
        "tis_clip = geemap.geopandas_to_ee(points_clip)"
      ]
    },
    {
      "cell_type": "code",
      "execution_count": null,
      "metadata": {
        "id": "gFdrx_-r5ePe"
      },
      "outputs": [],
      "source": [
        "#Import the libraries\n",
        "import pprint\n",
        "import rasterio\n",
        "from rasterio import features\n",
        "from shapely.geometry import shape\n",
        "\n",
        "#Open the MapBiomas export\n",
        "with rasterio.open('/content/drive/MyDrive/MAPBIOMAS-EXPORT/ALAP319-2021.tif') as src:\n",
        "    lulc = src.read(1)\n",
        "\n"
      ]
    },
    {
      "cell_type": "code",
      "execution_count": null,
      "metadata": {
        "id": "tyLb3px-xVrl"
      },
      "outputs": [],
      "source": [
        "shapes = features.shapes(lulc,transform=src.transform)"
      ]
    },
    {
      "cell_type": "code",
      "execution_count": null,
      "metadata": {
        "colab": {
          "base_uri": "https://localhost:8080/"
        },
        "id": "7WcoM_n00bLQ",
        "outputId": "5fbf11b2-73c7-4fec-dc36-360279b18934"
      },
      "outputs": [
        {
          "data": {
            "text/plain": [
              "array([[0, 0, 0, ..., 0, 0, 0],\n",
              "       [0, 0, 0, ..., 0, 0, 0],\n",
              "       [0, 0, 0, ..., 0, 0, 0],\n",
              "       ...,\n",
              "       [0, 0, 0, ..., 0, 0, 0],\n",
              "       [0, 0, 0, ..., 0, 0, 0],\n",
              "       [0, 0, 0, ..., 0, 0, 0]], dtype=uint8)"
            ]
          },
          "execution_count": 18,
          "metadata": {},
          "output_type": "execute_result"
        }
      ],
      "source": [
        "lulc"
      ]
    },
    {
      "cell_type": "code",
      "execution_count": null,
      "metadata": {
        "colab": {
          "base_uri": "https://localhost:8080/"
        },
        "id": "qpNwWibR2j_J",
        "outputId": "556eae79-0fef-4143-844f-3ab36f22279f"
      },
      "outputs": [
        {
          "data": {
            "text/plain": [
              "Affine(0.0002694945852358564, 0.0, -65.69200009709238,\n",
              "       0.0, -0.0002694945852358564, -2.9426113761903148)"
            ]
          },
          "execution_count": 24,
          "metadata": {},
          "output_type": "execute_result"
        }
      ],
      "source": [
        "src.transform"
      ]
    },
    {
      "cell_type": "code",
      "execution_count": null,
      "metadata": {
        "colab": {
          "base_uri": "https://localhost:8080/",
          "height": 304
        },
        "id": "k7hI5gcIztWr",
        "outputId": "8d974c42-d989-4a9c-a9cf-3e4516a5cba9"
      },
      "outputs": [
        {
          "ename": "KeyboardInterrupt",
          "evalue": "ignored",
          "output_type": "error",
          "traceback": [
            "\u001b[0;31m---------------------------------------------------------------------------\u001b[0m",
            "\u001b[0;31mKeyboardInterrupt\u001b[0m                         Traceback (most recent call last)",
            "\u001b[0;32m<ipython-input-14-ecc5fb8e489e>\u001b[0m in \u001b[0;36m<module>\u001b[0;34m\u001b[0m\n\u001b[0;32m----> 1\u001b[0;31m \u001b[0;32mfor\u001b[0m \u001b[0mshapedict\u001b[0m\u001b[0;34m,\u001b[0m \u001b[0mvalue\u001b[0m \u001b[0;32min\u001b[0m \u001b[0mshapes\u001b[0m\u001b[0;34m:\u001b[0m\u001b[0;34m\u001b[0m\u001b[0;34m\u001b[0m\u001b[0m\n\u001b[0m\u001b[1;32m      2\u001b[0m   \u001b[0mprint\u001b[0m\u001b[0;34m(\u001b[0m\u001b[0mvalue\u001b[0m\u001b[0;34m)\u001b[0m\u001b[0;34m\u001b[0m\u001b[0;34m\u001b[0m\u001b[0m\n",
            "\u001b[0;32m/usr/local/lib/python3.7/dist-packages/rasterio/features.py\u001b[0m in \u001b[0;36mshapes\u001b[0;34m(source, mask, connectivity, transform)\u001b[0m\n\u001b[1;32m    124\u001b[0m \u001b[0;34m\u001b[0m\u001b[0m\n\u001b[1;32m    125\u001b[0m     \u001b[0mtransform\u001b[0m \u001b[0;34m=\u001b[0m \u001b[0mguard_transform\u001b[0m\u001b[0;34m(\u001b[0m\u001b[0mtransform\u001b[0m\u001b[0;34m)\u001b[0m\u001b[0;34m\u001b[0m\u001b[0;34m\u001b[0m\u001b[0m\n\u001b[0;32m--> 126\u001b[0;31m     \u001b[0;32mfor\u001b[0m \u001b[0ms\u001b[0m\u001b[0;34m,\u001b[0m \u001b[0mv\u001b[0m \u001b[0;32min\u001b[0m \u001b[0m_shapes\u001b[0m\u001b[0;34m(\u001b[0m\u001b[0msource\u001b[0m\u001b[0;34m,\u001b[0m \u001b[0mmask\u001b[0m\u001b[0;34m,\u001b[0m \u001b[0mconnectivity\u001b[0m\u001b[0;34m,\u001b[0m \u001b[0mtransform\u001b[0m\u001b[0;34m)\u001b[0m\u001b[0;34m:\u001b[0m\u001b[0;34m\u001b[0m\u001b[0;34m\u001b[0m\u001b[0m\n\u001b[0m\u001b[1;32m    127\u001b[0m         \u001b[0;32myield\u001b[0m \u001b[0ms\u001b[0m\u001b[0;34m,\u001b[0m \u001b[0mv\u001b[0m\u001b[0;34m\u001b[0m\u001b[0;34m\u001b[0m\u001b[0m\n\u001b[1;32m    128\u001b[0m \u001b[0;34m\u001b[0m\u001b[0m\n",
            "\u001b[0;31mKeyboardInterrupt\u001b[0m: "
          ]
        }
      ],
      "source": [
        "for shapedict, value in shapes:\n",
        "  print(value)\n"
      ]
    },
    {
      "cell_type": "code",
      "execution_count": null,
      "metadata": {
        "colab": {
          "base_uri": "https://localhost:8080/",
          "height": 235
        },
        "id": "yPA1go0MxA7T",
        "outputId": "90a54533-ed29-4b0a-dc4b-bde35490bba3"
      },
      "outputs": [
        {
          "ename": "TypeError",
          "evalue": "ignored",
          "output_type": "error",
          "traceback": [
            "\u001b[0;31m---------------------------------------------------------------------------\u001b[0m",
            "\u001b[0;31mTypeError\u001b[0m                                 Traceback (most recent call last)",
            "\u001b[0;32m<ipython-input-28-b1067ce9d010>\u001b[0m in \u001b[0;36m<module>\u001b[0;34m\u001b[0m\n\u001b[1;32m     18\u001b[0m \u001b[0;31m#Filter the features that don't correspond to the agriculture category\u001b[0m\u001b[0;34m\u001b[0m\u001b[0;34m\u001b[0m\u001b[0;34m\u001b[0m\u001b[0m\n\u001b[1;32m     19\u001b[0m \u001b[0mclasses\u001b[0m \u001b[0;34m=\u001b[0m \u001b[0;34m[\u001b[0m\u001b[0;36m18\u001b[0m\u001b[0;34m,\u001b[0m\u001b[0;36m19\u001b[0m\u001b[0;34m,\u001b[0m\u001b[0;36m39\u001b[0m\u001b[0;34m,\u001b[0m\u001b[0;36m20\u001b[0m\u001b[0;34m,\u001b[0m\u001b[0;36m40\u001b[0m\u001b[0;34m,\u001b[0m\u001b[0;36m41\u001b[0m\u001b[0;34m,\u001b[0m\u001b[0;36m36\u001b[0m\u001b[0;34m,\u001b[0m\u001b[0;36m46\u001b[0m\u001b[0;34m,\u001b[0m\u001b[0;36m47\u001b[0m\u001b[0;34m,\u001b[0m\u001b[0;36m48\u001b[0m\u001b[0;34m]\u001b[0m\u001b[0;34m\u001b[0m\u001b[0;34m\u001b[0m\u001b[0m\n\u001b[0;32m---> 20\u001b[0;31m \u001b[0magriculture\u001b[0m \u001b[0;34m=\u001b[0m \u001b[0magriculture\u001b[0m\u001b[0;34m[\u001b[0m\u001b[0magriculture\u001b[0m\u001b[0;34m[\u001b[0m\u001b[0;34m\"lulc\"\u001b[0m\u001b[0;34m]\u001b[0m\u001b[0;34m.\u001b[0m\u001b[0misin\u001b[0m\u001b[0;34m(\u001b[0m\u001b[0mclasses\u001b[0m\u001b[0;34m)\u001b[0m\u001b[0;34m]\u001b[0m\u001b[0;34m\u001b[0m\u001b[0;34m\u001b[0m\u001b[0m\n\u001b[0m\u001b[1;32m     21\u001b[0m \u001b[0;34m\u001b[0m\u001b[0m\n\u001b[1;32m     22\u001b[0m \u001b[0;31m#Remove the portions of the land parcels that are not agriculture\u001b[0m\u001b[0;34m\u001b[0m\u001b[0;34m\u001b[0m\u001b[0;34m\u001b[0m\u001b[0m\n",
            "\u001b[0;31mTypeError\u001b[0m: list indices must be integers or slices, not str"
          ]
        }
      ],
      "source": [
        "#Create a rasterio feature object by ingesting the land-cover raster\n",
        "shapes = features.shapes(lulc,transform=src.transform)\n",
        "\n",
        "#Create empty lists to store the values\n",
        "agriculture = []\n",
        "geometry = []\n",
        "\n",
        "#Populate the lists with the geometries and values from the feature object\n",
        "for shapedict, value in shapes:\n",
        "    agriculture.append(value)\n",
        "    geometry.append(shape(shapedict))\n",
        "    \n",
        "#Create a geodataframe with the values from the lists\n",
        "gdf = gpd.GeoDataFrame(\n",
        "    {'lulc': agriculture, 'geometry': geometry },\n",
        "    crs=\"EPSG:4326\")\n",
        "\n",
        "#Filter the features that don't correspond to the agriculture category\n",
        "classes = [18,19,39,20,40,41,36,46,47,48]\n",
        "agriculture = agriculture[agriculture[\"lulc\"].isin(classes)]\n",
        "\n",
        "#Remove the portions of the land parcels that are not agriculture\n",
        "#agro_parcels = gpd.overlay(polygons.to_crs({'init':'epsg:4326'}), agriculture, how='intersection')\n",
        "\n",
        "#Plot the results\n",
        "#agro_parcels.plot()"
      ]
    },
    {
      "cell_type": "code",
      "execution_count": null,
      "metadata": {
        "id": "jW9faW5BxtIS"
      },
      "outputs": [],
      "source": [
        "agriculture.plot()"
      ]
    },
    {
      "cell_type": "code",
      "execution_count": null,
      "metadata": {
        "id": "ycvxPCsskS-g"
      },
      "outputs": [],
      "source": [
        "image = ee.Image().paint(alap,0,2)"
      ]
    },
    {
      "cell_type": "code",
      "execution_count": null,
      "metadata": {
        "id": "olHI6YZVzZLC"
      },
      "outputs": [],
      "source": []
    },
    {
      "cell_type": "code",
      "execution_count": null,
      "metadata": {
        "colab": {
          "base_uri": "https://localhost:8080/",
          "height": 537
        },
        "id": "vIE2TGkUlTMy",
        "outputId": "f2dad82b-60ed-47b9-b001-8c99d61d1196"
      },
      "outputs": [
        {
          "ename": "EEException",
          "evalue": "ignored",
          "output_type": "error",
          "traceback": [
            "\u001b[0;31m---------------------------------------------------------------------------\u001b[0m",
            "\u001b[0;31mHttpError\u001b[0m                                 Traceback (most recent call last)",
            "\u001b[0;32m/usr/local/lib/python3.7/dist-packages/ee/data.py\u001b[0m in \u001b[0;36m_execute_cloud_call\u001b[0;34m(call, num_retries)\u001b[0m\n\u001b[1;32m    327\u001b[0m   \u001b[0;32mtry\u001b[0m\u001b[0;34m:\u001b[0m\u001b[0;34m\u001b[0m\u001b[0;34m\u001b[0m\u001b[0m\n\u001b[0;32m--> 328\u001b[0;31m     \u001b[0;32mreturn\u001b[0m \u001b[0mcall\u001b[0m\u001b[0;34m.\u001b[0m\u001b[0mexecute\u001b[0m\u001b[0;34m(\u001b[0m\u001b[0mnum_retries\u001b[0m\u001b[0;34m=\u001b[0m\u001b[0mnum_retries\u001b[0m\u001b[0;34m)\u001b[0m\u001b[0;34m\u001b[0m\u001b[0;34m\u001b[0m\u001b[0m\n\u001b[0m\u001b[1;32m    329\u001b[0m   \u001b[0;32mexcept\u001b[0m \u001b[0mgoogleapiclient\u001b[0m\u001b[0;34m.\u001b[0m\u001b[0merrors\u001b[0m\u001b[0;34m.\u001b[0m\u001b[0mHttpError\u001b[0m \u001b[0;32mas\u001b[0m \u001b[0me\u001b[0m\u001b[0;34m:\u001b[0m\u001b[0;34m\u001b[0m\u001b[0;34m\u001b[0m\u001b[0m\n",
            "\u001b[0;32m/usr/local/lib/python3.7/dist-packages/googleapiclient/_helpers.py\u001b[0m in \u001b[0;36mpositional_wrapper\u001b[0;34m(*args, **kwargs)\u001b[0m\n\u001b[1;32m    133\u001b[0m                     \u001b[0mlogger\u001b[0m\u001b[0;34m.\u001b[0m\u001b[0mwarning\u001b[0m\u001b[0;34m(\u001b[0m\u001b[0mmessage\u001b[0m\u001b[0;34m)\u001b[0m\u001b[0;34m\u001b[0m\u001b[0;34m\u001b[0m\u001b[0m\n\u001b[0;32m--> 134\u001b[0;31m             \u001b[0;32mreturn\u001b[0m \u001b[0mwrapped\u001b[0m\u001b[0;34m(\u001b[0m\u001b[0;34m*\u001b[0m\u001b[0margs\u001b[0m\u001b[0;34m,\u001b[0m \u001b[0;34m**\u001b[0m\u001b[0mkwargs\u001b[0m\u001b[0;34m)\u001b[0m\u001b[0;34m\u001b[0m\u001b[0;34m\u001b[0m\u001b[0m\n\u001b[0m\u001b[1;32m    135\u001b[0m \u001b[0;34m\u001b[0m\u001b[0m\n",
            "\u001b[0;32m/usr/local/lib/python3.7/dist-packages/googleapiclient/http.py\u001b[0m in \u001b[0;36mexecute\u001b[0;34m(self, http, num_retries)\u001b[0m\n\u001b[1;32m    914\u001b[0m         \u001b[0;32mif\u001b[0m \u001b[0mresp\u001b[0m\u001b[0;34m.\u001b[0m\u001b[0mstatus\u001b[0m \u001b[0;34m>=\u001b[0m \u001b[0;36m300\u001b[0m\u001b[0;34m:\u001b[0m\u001b[0;34m\u001b[0m\u001b[0;34m\u001b[0m\u001b[0m\n\u001b[0;32m--> 915\u001b[0;31m             \u001b[0;32mraise\u001b[0m \u001b[0mHttpError\u001b[0m\u001b[0;34m(\u001b[0m\u001b[0mresp\u001b[0m\u001b[0;34m,\u001b[0m \u001b[0mcontent\u001b[0m\u001b[0;34m,\u001b[0m \u001b[0muri\u001b[0m\u001b[0;34m=\u001b[0m\u001b[0mself\u001b[0m\u001b[0;34m.\u001b[0m\u001b[0muri\u001b[0m\u001b[0;34m)\u001b[0m\u001b[0;34m\u001b[0m\u001b[0;34m\u001b[0m\u001b[0m\n\u001b[0m\u001b[1;32m    916\u001b[0m         \u001b[0;32mreturn\u001b[0m \u001b[0mself\u001b[0m\u001b[0;34m.\u001b[0m\u001b[0mpostproc\u001b[0m\u001b[0;34m(\u001b[0m\u001b[0mresp\u001b[0m\u001b[0;34m,\u001b[0m \u001b[0mcontent\u001b[0m\u001b[0;34m)\u001b[0m\u001b[0;34m\u001b[0m\u001b[0;34m\u001b[0m\u001b[0m\n",
            "\u001b[0;31mHttpError\u001b[0m: <HttpError 400 when requesting https://earthengine.googleapis.com/v1alpha/projects/earthengine-legacy/value:compute?prettyPrint=false&alt=json returned \"Collection.loadTable: Collection asset '/content/drive/MyDrive/MAPBIOMAS-EXPORT/ALAP319-2021-area.csv' not found.\". Details: \"Collection.loadTable: Collection asset '/content/drive/MyDrive/MAPBIOMAS-EXPORT/ALAP319-2021-area.csv' not found.\">",
            "\nDuring handling of the above exception, another exception occurred:\n",
            "\u001b[0;31mEEException\u001b[0m                               Traceback (most recent call last)",
            "\u001b[0;32m<ipython-input-26-bd4fa629d165>\u001b[0m in \u001b[0;36m<module>\u001b[0;34m\u001b[0m\n\u001b[1;32m      2\u001b[0m \u001b[0mpolys\u001b[0m \u001b[0;34m=\u001b[0m \u001b[0mfromFT\u001b[0m\u001b[0;34m.\u001b[0m\u001b[0mgeometry\u001b[0m\u001b[0;34m(\u001b[0m\u001b[0;34m)\u001b[0m\u001b[0;34m\u001b[0m\u001b[0;34m\u001b[0m\u001b[0m\n\u001b[1;32m      3\u001b[0m \u001b[0mcentroid\u001b[0m \u001b[0;34m=\u001b[0m \u001b[0mpolys\u001b[0m\u001b[0;34m.\u001b[0m\u001b[0mcentroid\u001b[0m\u001b[0;34m(\u001b[0m\u001b[0;34m)\u001b[0m\u001b[0;34m\u001b[0m\u001b[0;34m\u001b[0m\u001b[0m\n\u001b[0;32m----> 4\u001b[0;31m \u001b[0mlng\u001b[0m\u001b[0;34m,\u001b[0m \u001b[0mlat\u001b[0m \u001b[0;34m=\u001b[0m \u001b[0mcentroid\u001b[0m\u001b[0;34m.\u001b[0m\u001b[0mgetInfo\u001b[0m\u001b[0;34m(\u001b[0m\u001b[0;34m)\u001b[0m\u001b[0;34m[\u001b[0m\u001b[0;34m'coordinates'\u001b[0m\u001b[0;34m]\u001b[0m\u001b[0;34m\u001b[0m\u001b[0;34m\u001b[0m\u001b[0m\n\u001b[0m\u001b[1;32m      5\u001b[0m \u001b[0mprint\u001b[0m\u001b[0;34m(\u001b[0m\u001b[0;34m\"lng = {}, lat = {}\"\u001b[0m\u001b[0;34m.\u001b[0m\u001b[0mformat\u001b[0m\u001b[0;34m(\u001b[0m\u001b[0mlng\u001b[0m\u001b[0;34m,\u001b[0m \u001b[0mlat\u001b[0m\u001b[0;34m)\u001b[0m\u001b[0;34m)\u001b[0m\u001b[0;34m\u001b[0m\u001b[0;34m\u001b[0m\u001b[0m\n\u001b[1;32m      6\u001b[0m \u001b[0mMap\u001b[0m\u001b[0;34m.\u001b[0m\u001b[0msetCenter\u001b[0m\u001b[0;34m(\u001b[0m\u001b[0mlng\u001b[0m\u001b[0;34m,\u001b[0m \u001b[0mlat\u001b[0m\u001b[0;34m,\u001b[0m \u001b[0;36m10\u001b[0m\u001b[0;34m)\u001b[0m\u001b[0;34m\u001b[0m\u001b[0;34m\u001b[0m\u001b[0m\n",
            "\u001b[0;32m/usr/local/lib/python3.7/dist-packages/ee/computedobject.py\u001b[0m in \u001b[0;36mgetInfo\u001b[0;34m(self)\u001b[0m\n\u001b[1;32m     96\u001b[0m       \u001b[0mThe\u001b[0m \u001b[0mobject\u001b[0m \u001b[0mcan\u001b[0m \u001b[0mevaluate\u001b[0m \u001b[0mto\u001b[0m \u001b[0manything\u001b[0m\u001b[0;34m.\u001b[0m\u001b[0;34m\u001b[0m\u001b[0;34m\u001b[0m\u001b[0m\n\u001b[1;32m     97\u001b[0m     \"\"\"\n\u001b[0;32m---> 98\u001b[0;31m     \u001b[0;32mreturn\u001b[0m \u001b[0mdata\u001b[0m\u001b[0;34m.\u001b[0m\u001b[0mcomputeValue\u001b[0m\u001b[0;34m(\u001b[0m\u001b[0mself\u001b[0m\u001b[0;34m)\u001b[0m\u001b[0;34m\u001b[0m\u001b[0;34m\u001b[0m\u001b[0m\n\u001b[0m\u001b[1;32m     99\u001b[0m \u001b[0;34m\u001b[0m\u001b[0m\n\u001b[1;32m    100\u001b[0m   \u001b[0;32mdef\u001b[0m \u001b[0mencode\u001b[0m\u001b[0;34m(\u001b[0m\u001b[0mself\u001b[0m\u001b[0;34m,\u001b[0m \u001b[0mencoder\u001b[0m\u001b[0;34m)\u001b[0m\u001b[0;34m:\u001b[0m\u001b[0;34m\u001b[0m\u001b[0;34m\u001b[0m\u001b[0m\n",
            "\u001b[0;32m/usr/local/lib/python3.7/dist-packages/ee/data.py\u001b[0m in \u001b[0;36mcomputeValue\u001b[0;34m(obj)\u001b[0m\n\u001b[1;32m    759\u001b[0m           \u001b[0mbody\u001b[0m\u001b[0;34m=\u001b[0m\u001b[0mbody\u001b[0m\u001b[0;34m,\u001b[0m\u001b[0;34m\u001b[0m\u001b[0;34m\u001b[0m\u001b[0m\n\u001b[1;32m    760\u001b[0m           \u001b[0mproject\u001b[0m\u001b[0;34m=\u001b[0m\u001b[0m_get_projects_path\u001b[0m\u001b[0;34m(\u001b[0m\u001b[0;34m)\u001b[0m\u001b[0;34m,\u001b[0m\u001b[0;34m\u001b[0m\u001b[0;34m\u001b[0m\u001b[0m\n\u001b[0;32m--> 761\u001b[0;31m           prettyPrint=False))['result']\n\u001b[0m\u001b[1;32m    762\u001b[0m \u001b[0;34m\u001b[0m\u001b[0m\n\u001b[1;32m    763\u001b[0m \u001b[0;34m\u001b[0m\u001b[0m\n",
            "\u001b[0;32m/usr/local/lib/python3.7/dist-packages/ee/data.py\u001b[0m in \u001b[0;36m_execute_cloud_call\u001b[0;34m(call, num_retries)\u001b[0m\n\u001b[1;32m    328\u001b[0m     \u001b[0;32mreturn\u001b[0m \u001b[0mcall\u001b[0m\u001b[0;34m.\u001b[0m\u001b[0mexecute\u001b[0m\u001b[0;34m(\u001b[0m\u001b[0mnum_retries\u001b[0m\u001b[0;34m=\u001b[0m\u001b[0mnum_retries\u001b[0m\u001b[0;34m)\u001b[0m\u001b[0;34m\u001b[0m\u001b[0;34m\u001b[0m\u001b[0m\n\u001b[1;32m    329\u001b[0m   \u001b[0;32mexcept\u001b[0m \u001b[0mgoogleapiclient\u001b[0m\u001b[0;34m.\u001b[0m\u001b[0merrors\u001b[0m\u001b[0;34m.\u001b[0m\u001b[0mHttpError\u001b[0m \u001b[0;32mas\u001b[0m \u001b[0me\u001b[0m\u001b[0;34m:\u001b[0m\u001b[0;34m\u001b[0m\u001b[0;34m\u001b[0m\u001b[0m\n\u001b[0;32m--> 330\u001b[0;31m     \u001b[0;32mraise\u001b[0m \u001b[0m_translate_cloud_exception\u001b[0m\u001b[0;34m(\u001b[0m\u001b[0me\u001b[0m\u001b[0;34m)\u001b[0m\u001b[0;34m\u001b[0m\u001b[0;34m\u001b[0m\u001b[0m\n\u001b[0m\u001b[1;32m    331\u001b[0m \u001b[0;34m\u001b[0m\u001b[0m\n\u001b[1;32m    332\u001b[0m \u001b[0;34m\u001b[0m\u001b[0m\n",
            "\u001b[0;31mEEException\u001b[0m: Collection.loadTable: Collection asset '/content/drive/MyDrive/MAPBIOMAS-EXPORT/ALAP319-2021-area.csv' not found."
          ]
        }
      ],
      "source": [
        "fromFT = ee.FeatureCollection('/content/drive/MyDrive/MAPBIOMAS-EXPORT/ALAP319-2021-area.csv')\n",
        "polys = fromFT.geometry()\n",
        "centroid = polys.centroid()\n",
        "lng, lat = centroid.getInfo()['coordinates']\n",
        "print(\"lng = {}, lat = {}\".format(lng, lat))\n",
        "Map.setCenter(lng, lat, 10)\n",
        "Map.addLayer(fromFT)\n",
        "Map.addLayerControl() # This line is not needed for ipyleaflet-based Map.\n",
        "Map"
      ]
    },
    {
      "cell_type": "code",
      "execution_count": null,
      "metadata": {
        "colab": {
          "base_uri": "https://localhost:8080/"
        },
        "id": "pkiRU5SO0740",
        "outputId": "dd5aa602-be76-47c7-8f0c-9a4787e5b186"
      },
      "outputs": [
        {
          "name": "stdout",
          "output_type": "stream",
          "text": [
            "\u001b[K     |████████████████████████████████| 1.4 MB 5.2 MB/s \n",
            "\u001b[K     |████████████████████████████████| 19.3 MB 386 kB/s \n",
            "\u001b[?25h"
          ]
        }
      ],
      "source": []
    },
    {
      "cell_type": "code",
      "execution_count": null,
      "metadata": {
        "id": "-reli24A033s"
      },
      "outputs": [],
      "source": [
        "# Import libraries\n",
        "import os\n",
        "import numpy as np\n",
        "import matplotlib.pyplot as plt\n",
        "import matplotlib.lines as mlines\n",
        "from matplotlib.colors import ListedColormap\n",
        "import geopandas as gpd\n",
        "\n",
        "# Load the box module from shapely to create box objects\n",
        "from shapely.geometry import box\n",
        "import earthpy as et\n",
        "import seaborn as sns\n",
        "\n",
        "# Ignore warning about missing/empty geometries\n",
        "import warnings\n",
        "warnings.filterwarnings('ignore', 'GeoSeries.notna', UserWarning)\n",
        "\n",
        "# Adjust plot font sizes\n",
        "sns.set(font_scale=1.5)\n",
        "sns.set_style(\"white\")\n",
        "\n",
        "# Set working dir & get data\n",
        "#data = et.data.get_data('spatial-vector-lidar')\n",
        "#os.chdir(os.path.join(et.io.HOME, 'earth-analytics'))"
      ]
    },
    {
      "cell_type": "code",
      "execution_count": null,
      "metadata": {
        "colab": {
          "base_uri": "https://localhost:8080/",
          "height": 165
        },
        "id": "fA4WKrRA2C5G",
        "outputId": "f17df3fc-7ec1-4fca-da5d-6609b91f36d0"
      },
      "outputs": [
        {
          "ename": "AttributeError",
          "evalue": "ignored",
          "output_type": "error",
          "traceback": [
            "\u001b[0;31m---------------------------------------------------------------------------\u001b[0m",
            "\u001b[0;31mAttributeError\u001b[0m                            Traceback (most recent call last)",
            "\u001b[0;32m<ipython-input-22-42fce312dcd3>\u001b[0m in \u001b[0;36m<module>\u001b[0;34m\u001b[0m\n\u001b[0;32m----> 1\u001b[0;31m \u001b[0malap\u001b[0m\u001b[0;34m.\u001b[0m\u001b[0mDataFrame\u001b[0m\u001b[0;34m(\u001b[0m\u001b[0;34m)\u001b[0m\u001b[0;34m\u001b[0m\u001b[0;34m\u001b[0m\u001b[0m\n\u001b[0m",
            "\u001b[0;31mAttributeError\u001b[0m: 'FeatureCollection' object has no attribute 'DataFrame'"
          ]
        }
      ],
      "source": [
        "alap."
      ]
    },
    {
      "cell_type": "code",
      "execution_count": null,
      "metadata": {
        "colab": {
          "base_uri": "https://localhost:8080/",
          "height": 287
        },
        "id": "c6XEPGrT1_QL",
        "outputId": "ba67ef7f-219a-480c-89f4-6bf9cd0a3498"
      },
      "outputs": [
        {
          "ename": "TypeError",
          "evalue": "ignored",
          "output_type": "error",
          "traceback": [
            "\u001b[0;31m---------------------------------------------------------------------------\u001b[0m",
            "\u001b[0;31mTypeError\u001b[0m                                 Traceback (most recent call last)",
            "\u001b[0;32m<ipython-input-23-b4d943041ce1>\u001b[0m in \u001b[0;36m<module>\u001b[0;34m\u001b[0m\n\u001b[0;32m----> 1\u001b[0;31m \u001b[0mteste\u001b[0m \u001b[0;34m=\u001b[0m \u001b[0mgpd\u001b[0m\u001b[0;34m.\u001b[0m\u001b[0mGeoDataFrame\u001b[0m\u001b[0;34m.\u001b[0m\u001b[0mfrom_features\u001b[0m\u001b[0;34m(\u001b[0m\u001b[0malap\u001b[0m\u001b[0;34m.\u001b[0m\u001b[0mtoDictionary\u001b[0m\u001b[0;34m(\u001b[0m\u001b[0;34m)\u001b[0m\u001b[0;34m)\u001b[0m\u001b[0;34m\u001b[0m\u001b[0;34m\u001b[0m\u001b[0m\n\u001b[0m",
            "\u001b[0;32m/usr/local/lib/python3.7/dist-packages/geopandas/geodataframe.py\u001b[0m in \u001b[0;36mfrom_features\u001b[0;34m(cls, features, crs, columns)\u001b[0m\n\u001b[1;32m    598\u001b[0m \u001b[0;34m\u001b[0m\u001b[0m\n\u001b[1;32m    599\u001b[0m         \u001b[0mrows\u001b[0m \u001b[0;34m=\u001b[0m \u001b[0;34m[\u001b[0m\u001b[0;34m]\u001b[0m\u001b[0;34m\u001b[0m\u001b[0;34m\u001b[0m\u001b[0m\n\u001b[0;32m--> 600\u001b[0;31m         \u001b[0;32mfor\u001b[0m \u001b[0mfeature\u001b[0m \u001b[0;32min\u001b[0m \u001b[0mfeatures_lst\u001b[0m\u001b[0;34m:\u001b[0m\u001b[0;34m\u001b[0m\u001b[0;34m\u001b[0m\u001b[0m\n\u001b[0m\u001b[1;32m    601\u001b[0m             \u001b[0;31m# load geometry\u001b[0m\u001b[0;34m\u001b[0m\u001b[0;34m\u001b[0m\u001b[0;34m\u001b[0m\u001b[0m\n\u001b[1;32m    602\u001b[0m             \u001b[0;32mif\u001b[0m \u001b[0mhasattr\u001b[0m\u001b[0;34m(\u001b[0m\u001b[0mfeature\u001b[0m\u001b[0;34m,\u001b[0m \u001b[0;34m\"__geo_interface__\"\u001b[0m\u001b[0;34m)\u001b[0m\u001b[0;34m:\u001b[0m\u001b[0;34m\u001b[0m\u001b[0;34m\u001b[0m\u001b[0m\n",
            "\u001b[0;31mTypeError\u001b[0m: 'Dictionary' object is not iterable"
          ]
        }
      ],
      "source": [
        "teste = gpd.GeoDataFrame.from_features(alap.)"
      ]
    },
    {
      "cell_type": "code",
      "execution_count": null,
      "metadata": {
        "colab": {
          "base_uri": "https://localhost:8080/",
          "height": 287
        },
        "id": "FLk23CLO1RzB",
        "outputId": "d3d6b98e-4c18-4afb-be15-4a557ddd5a60"
      },
      "outputs": [
        {
          "ename": "TypeError",
          "evalue": "ignored",
          "output_type": "error",
          "traceback": [
            "\u001b[0;31m---------------------------------------------------------------------------\u001b[0m",
            "\u001b[0;31mTypeError\u001b[0m                                 Traceback (most recent call last)",
            "\u001b[0;32m<ipython-input-17-328bcacb5c35>\u001b[0m in \u001b[0;36m<module>\u001b[0;34m\u001b[0m\n\u001b[0;32m----> 1\u001b[0;31m \u001b[0mpoints_clip\u001b[0m \u001b[0;34m=\u001b[0m \u001b[0mgpd\u001b[0m\u001b[0;34m.\u001b[0m\u001b[0mclip\u001b[0m\u001b[0;34m(\u001b[0m\u001b[0mtis\u001b[0m\u001b[0;34m,\u001b[0m \u001b[0malap\u001b[0m\u001b[0;34m)\u001b[0m\u001b[0;34m\u001b[0m\u001b[0;34m\u001b[0m\u001b[0m\n\u001b[0m",
            "\u001b[0;32m/usr/local/lib/python3.7/dist-packages/geopandas/tools/clip.py\u001b[0m in \u001b[0;36mclip\u001b[0;34m(gdf, mask, keep_geom_type)\u001b[0m\n\u001b[1;32m    108\u001b[0m     \u001b[0;32mif\u001b[0m \u001b[0;32mnot\u001b[0m \u001b[0misinstance\u001b[0m\u001b[0;34m(\u001b[0m\u001b[0mgdf\u001b[0m\u001b[0;34m,\u001b[0m \u001b[0;34m(\u001b[0m\u001b[0mGeoDataFrame\u001b[0m\u001b[0;34m,\u001b[0m \u001b[0mGeoSeries\u001b[0m\u001b[0;34m)\u001b[0m\u001b[0;34m)\u001b[0m\u001b[0;34m:\u001b[0m\u001b[0;34m\u001b[0m\u001b[0;34m\u001b[0m\u001b[0m\n\u001b[1;32m    109\u001b[0m         raise TypeError(\n\u001b[0;32m--> 110\u001b[0;31m             \u001b[0;34m\"'gdf' should be GeoDataFrame or GeoSeries, got {}\"\u001b[0m\u001b[0;34m.\u001b[0m\u001b[0mformat\u001b[0m\u001b[0;34m(\u001b[0m\u001b[0mtype\u001b[0m\u001b[0;34m(\u001b[0m\u001b[0mgdf\u001b[0m\u001b[0;34m)\u001b[0m\u001b[0;34m)\u001b[0m\u001b[0;34m\u001b[0m\u001b[0;34m\u001b[0m\u001b[0m\n\u001b[0m\u001b[1;32m    111\u001b[0m         )\n\u001b[1;32m    112\u001b[0m \u001b[0;34m\u001b[0m\u001b[0m\n",
            "\u001b[0;31mTypeError\u001b[0m: 'gdf' should be GeoDataFrame or GeoSeries, got <class 'ee.featurecollection.FeatureCollection'>"
          ]
        }
      ],
      "source": []
    }
  ],
  "metadata": {
    "colab": {
      "provenance": [],
      "mount_file_id": "1WmL8nmVsoNZxTvMLOTUi9sHFtB7oI_CU",
      "authorship_tag": "ABX9TyOrKpmCzQXkxzAPWbzPFLuJ",
      "include_colab_link": true
    },
    "kernelspec": {
      "display_name": "Python 3",
      "name": "python3"
    },
    "language_info": {
      "name": "python"
    }
  },
  "nbformat": 4,
  "nbformat_minor": 0
}